{
 "cells": [
  {
   "cell_type": "markdown",
   "metadata": {},
   "source": [
    "# Second round of small ring experiments"
   ]
  },
  {
   "cell_type": "code",
   "execution_count": 1,
   "metadata": {},
   "outputs": [
    {
     "data": {
      "application/vnd.jupyter.widget-view+json": {
       "model_id": "23d784a339294bcb843e4a1a54d36bca",
       "version_major": 2,
       "version_minor": 0
      },
      "text/plain": []
     },
     "metadata": {},
     "output_type": "display_data"
    }
   ],
   "source": [
    "from qcportal.client import FractalClient\n",
    "# from qcfractal import FractalSnowflakeHandler\n",
    "from openff.toolkit import Molecule\n",
    "qcarchive_client = FractalClient()\n",
    "\n",
    "from openff.qcsubmit.results.filters import ConnectivityFilter,HydrogenBondFilter\n",
    "from openff.toolkit import ForceField\n",
    "from openff.qcsubmit.results import TorsionDriveResultCollection, OptimizationResultCollection\n",
    "import numpy as np\n",
    "from matplotlib import pyplot as plt\n",
    "from scipy.optimize import minimize\n",
    "import copy\n",
    "# suppress stereochemistry warnings\n",
    "import logging\n",
    "logging.getLogger(\"openff\").setLevel(logging.ERROR)\n",
    "\n",
    "from openff.units import unit\n",
    "\n",
    "from openff.interchange import Interchange\n",
    "from openff.interchange.drivers import get_openmm_energies\n",
    "\n",
    "import typing\n",
    "from collections import defaultdict, Counter\n",
    "import functools\n",
    "import multiprocessing\n",
    "import tqdm\n",
    "from openff.qcsubmit.results.filters import SMARTSFilter\n",
    "from openff.toolkit.typing.engines.smirnoff import AngleHandler"
   ]
  },
  {
   "cell_type": "code",
   "execution_count": 4,
   "metadata": {},
   "outputs": [],
   "source": [
    "from openff.toolkit.topology import FrozenMolecule\n",
    "from rdkit import Chem\n",
    "from rdkit.Chem import Draw\n",
    "from rdkit.Chem import Descriptors\n",
    "from rdkit.Chem.rdDepictor import Compute2DCoords\n",
    "from IPython.display import SVG\n",
    "\n",
    "DEFAULT_WIDTH = 980\n",
    "DEFAULT_HEIGHT = 400\n",
    "def draw_molecule(\n",
    "    molecule,\n",
    "    image_width = DEFAULT_WIDTH,\n",
    "    image_height= DEFAULT_HEIGHT,\n",
    "    highlight_atoms= None,\n",
    "    highlight_bonds = None,\n",
    "    atom_notes = None,\n",
    "    bond_notes = None,\n",
    "    explicit_hydrogens = None,\n",
    "    color_by_element = None,\n",
    "):\n",
    "    \"\"\"Draw a molecule\n",
    "    Parameters\n",
    "    ==========\n",
    "    molecule\n",
    "        The molecule to draw.\n",
    "    image_width\n",
    "        The width of the resulting image in pixels.\n",
    "    image_height\n",
    "        The height of the resulting image in pixels.\n",
    "    highlight_atoms\n",
    "        A list of atom indices to highlight, or a map from indices to colors.\n",
    "        Colors should be given as triplets of floats between 0.0 and 1.0.\n",
    "    highlight_atoms\n",
    "        A list of pairs of atom indices indicating bonds to highlight, or a map\n",
    "        from index pairs to colors. Colors should be given as triplets of floats\n",
    "        between 0.0 and 1.0.\n",
    "    atom_notes\n",
    "        A map from atom indices to a string that should be printed near the\n",
    "        atom.\n",
    "    bond_notes\n",
    "        A map from atom index pairs to a string that should be printed near the\n",
    "        bond.\n",
    "    explicit_hydrogens\n",
    "        If ``False``, allow uncharged monovalent hydrogens to be hidden. If\n",
    "        ``True``, make all hydrogens explicit. If ``None``\n",
    "    color_by_element\n",
    "        If True, color heteroatoms according to their element; if False, the\n",
    "        image will be black and white. By default, uses black and white when\n",
    "        highlight_atoms or highlight_bonds is provided, and color otherwise.\n",
    "    Raises\n",
    "    ======\n",
    "    KeyError\n",
    "        When an atom or bond in highlight_atoms or highlight_bonds is missing\n",
    "        from the image, including when it is present in the molecule but hidden.\n",
    "    \"\"\"\n",
    "    if isinstance(molecule, FrozenMolecule):\n",
    "        rdmol = molecule.to_rdkit()\n",
    "    else:\n",
    "        rdmol = molecule\n",
    "\n",
    "    if color_by_element is None:\n",
    "        color_by_element = highlight_atoms is None and highlight_bonds is None\n",
    "\n",
    "    if explicit_hydrogens is None:\n",
    "        idx_map = {i: i for i in range(rdmol.GetNumAtoms())}\n",
    "    elif explicit_hydrogens:\n",
    "        idx_map = {i: i for i in range(rdmol.GetNumAtoms())}\n",
    "        rdmol = Chem.AddHs(rdmol, explicitOnly=True)\n",
    "    else:\n",
    "        idx_map = {\n",
    "            old: new\n",
    "            for new, old in enumerate(\n",
    "                a.GetIdx()\n",
    "                for a in rdmol.GetAtoms()\n",
    "                if a.GetAtomicNum() != 1 and a.GetMass() != 1\n",
    "            )\n",
    "        }\n",
    "        rdmol = Chem.RemoveHs(rdmol, updateExplicitCount=True)\n",
    "\n",
    "    if highlight_atoms is None:\n",
    "        highlight_atoms = []\n",
    "        highlight_atom_colors = None\n",
    "    elif isinstance(highlight_atoms, dict):\n",
    "        highlight_atom_colors = {\n",
    "            idx_map[i]: tuple(c) for i, c in highlight_atoms.items() if i in idx_map\n",
    "        }\n",
    "        highlight_atoms = list(highlight_atoms.keys())\n",
    "    else:\n",
    "        highlight_atoms = [idx_map[i] for i in highlight_atoms if i in idx_map]\n",
    "        highlight_atom_colors = None\n",
    "\n",
    "    if highlight_bonds is None:\n",
    "        highlight_bonds = []\n",
    "        highlight_bond_colors = None\n",
    "    elif isinstance(highlight_bonds, dict):\n",
    "        highlight_bond_colors = {\n",
    "            rdmol.GetBondBetweenAtoms(idx_map[i_a], idx_map[i_b]).GetIdx(): tuple(v)\n",
    "            for (i_a, i_b), v in highlight_bonds.items()\n",
    "            if i_a in idx_map and i_b in idx_map\n",
    "        }\n",
    "\n",
    "        highlight_bonds = list(highlight_bond_colors.keys())\n",
    "    else:\n",
    "        highlight_bonds = [\n",
    "            rdmol.GetBondBetweenAtoms(idx_map[i_a], idx_map[i_b])\n",
    "            for i_a, i_b in highlight_bonds\n",
    "            if i_a in idx_map and i_b in idx_map\n",
    "        ]\n",
    "        highlight_bond_colors = None\n",
    "\n",
    "    if bond_notes is not None:\n",
    "        for (i_a, i_b), note in bond_notes.items():\n",
    "            if i_a not in idx_map or i_b not in idx_map:\n",
    "                continue\n",
    "            rdbond = rdmol.GetBondBetweenAtoms(idx_map[i_a], idx_map[i_b])\n",
    "            rdbond.SetProp(\"bondNote\", note)\n",
    "\n",
    "    if atom_notes is not None:\n",
    "        for i, note in atom_notes.items():\n",
    "            if i not in idx_map:\n",
    "                continue\n",
    "            rdatom = rdmol.GetAtomWithIdx(idx_map[i])\n",
    "            rdatom.SetProp(\"atomNote\", note)\n",
    "\n",
    "    Compute2DCoords(rdmol)\n",
    "\n",
    "    drawer = Draw.MolDraw2DCairo(image_width, image_height)\n",
    "\n",
    "    draw_options = drawer.drawOptions()\n",
    "    if not color_by_element:\n",
    "        draw_options.useBWAtomPalette()\n",
    "\n",
    "    drawer.DrawMolecule(\n",
    "        rdmol,\n",
    "        highlightAtoms=highlight_atoms,\n",
    "        highlightAtomColors=highlight_atom_colors,\n",
    "        highlightBonds=highlight_bonds,\n",
    "        highlightBondColors=highlight_bond_colors,\n",
    "    )\n",
    "    drawer.FinishDrawing()\n",
    "\n",
    "    svg_contents = drawer.GetDrawingText()\n",
    "\n",
    "    return svg_contents\n",
    "\n",
    "def draw_molecule_svg(\n",
    "    molecule,\n",
    "    image_width = DEFAULT_WIDTH,\n",
    "    image_height= DEFAULT_HEIGHT,\n",
    "    highlight_atoms= None,\n",
    "    highlight_bonds = None,\n",
    "    atom_notes = None,\n",
    "    bond_notes = None,\n",
    "    explicit_hydrogens = None,\n",
    "    color_by_element = None,\n",
    "):\n",
    "    \"\"\"Draw a molecule\n",
    "    Parameters\n",
    "    ==========\n",
    "    molecule\n",
    "        The molecule to draw.\n",
    "    image_width\n",
    "        The width of the resulting image in pixels.\n",
    "    image_height\n",
    "        The height of the resulting image in pixels.\n",
    "    highlight_atoms\n",
    "        A list of atom indices to highlight, or a map from indices to colors.\n",
    "        Colors should be given as triplets of floats between 0.0 and 1.0.\n",
    "    highlight_atoms\n",
    "        A list of pairs of atom indices indicating bonds to highlight, or a map\n",
    "        from index pairs to colors. Colors should be given as triplets of floats\n",
    "        between 0.0 and 1.0.\n",
    "    atom_notes\n",
    "        A map from atom indices to a string that should be printed near the\n",
    "        atom.\n",
    "    bond_notes\n",
    "        A map from atom index pairs to a string that should be printed near the\n",
    "        bond.\n",
    "    explicit_hydrogens\n",
    "        If ``False``, allow uncharged monovalent hydrogens to be hidden. If\n",
    "        ``True``, make all hydrogens explicit. If ``None``\n",
    "    color_by_element\n",
    "        If True, color heteroatoms according to their element; if False, the\n",
    "        image will be black and white. By default, uses black and white when\n",
    "        highlight_atoms or highlight_bonds is provided, and color otherwise.\n",
    "    Raises\n",
    "    ======\n",
    "    KeyError\n",
    "        When an atom or bond in highlight_atoms or highlight_bonds is missing\n",
    "        from the image, including when it is present in the molecule but hidden.\n",
    "    \"\"\"\n",
    "    if isinstance(molecule, FrozenMolecule):\n",
    "        rdmol = molecule.to_rdkit()\n",
    "    else:\n",
    "        rdmol = molecule\n",
    "\n",
    "    if color_by_element is None:\n",
    "        color_by_element = highlight_atoms is None and highlight_bonds is None\n",
    "\n",
    "    if explicit_hydrogens is None:\n",
    "        idx_map = {i: i for i in range(rdmol.GetNumAtoms())}\n",
    "    elif explicit_hydrogens:\n",
    "        idx_map = {i: i for i in range(rdmol.GetNumAtoms())}\n",
    "        rdmol = Chem.AddHs(rdmol, explicitOnly=True)\n",
    "    else:\n",
    "        idx_map = {\n",
    "            old: new\n",
    "            for new, old in enumerate(\n",
    "                a.GetIdx()\n",
    "                for a in rdmol.GetAtoms()\n",
    "                if a.GetAtomicNum() != 1 and a.GetMass() != 1\n",
    "            )\n",
    "        }\n",
    "        rdmol = Chem.RemoveHs(rdmol, updateExplicitCount=True)\n",
    "\n",
    "    if highlight_atoms is None:\n",
    "        highlight_atoms = []\n",
    "        highlight_atom_colors = None\n",
    "    elif isinstance(highlight_atoms, dict):\n",
    "        highlight_atom_colors = {\n",
    "            idx_map[i]: tuple(c) for i, c in highlight_atoms.items() if i in idx_map\n",
    "        }\n",
    "        highlight_atoms = list(highlight_atoms.keys())\n",
    "    else:\n",
    "        highlight_atoms = [idx_map[i] for i in highlight_atoms if i in idx_map]\n",
    "        highlight_atom_colors = None\n",
    "\n",
    "    if highlight_bonds is None:\n",
    "        highlight_bonds = []\n",
    "        highlight_bond_colors = None\n",
    "    elif isinstance(highlight_bonds, dict):\n",
    "        highlight_bond_colors = {\n",
    "            rdmol.GetBondBetweenAtoms(idx_map[i_a], idx_map[i_b]).GetIdx(): tuple(v)\n",
    "            for (i_a, i_b), v in highlight_bonds.items()\n",
    "            if i_a in idx_map and i_b in idx_map\n",
    "        }\n",
    "\n",
    "        highlight_bonds = list(highlight_bond_colors.keys())\n",
    "    else:\n",
    "        highlight_bonds = [\n",
    "            rdmol.GetBondBetweenAtoms(idx_map[i_a], idx_map[i_b])\n",
    "            for i_a, i_b in highlight_bonds\n",
    "            if i_a in idx_map and i_b in idx_map\n",
    "        ]\n",
    "        highlight_bond_colors = None\n",
    "\n",
    "    if bond_notes is not None:\n",
    "        for (i_a, i_b), note in bond_notes.items():\n",
    "            if i_a not in idx_map or i_b not in idx_map:\n",
    "                continue\n",
    "            rdbond = rdmol.GetBondBetweenAtoms(idx_map[i_a], idx_map[i_b])\n",
    "            rdbond.SetProp(\"bondNote\", note)\n",
    "\n",
    "    if atom_notes is not None:\n",
    "        for i, note in atom_notes.items():\n",
    "            if i not in idx_map:\n",
    "                continue\n",
    "            rdatom = rdmol.GetAtomWithIdx(idx_map[i])\n",
    "            rdatom.SetProp(\"atomNote\", note)\n",
    "\n",
    "    Compute2DCoords(rdmol)\n",
    "\n",
    "    drawer = Draw.MolDraw2DSVG(image_width, image_height)\n",
    "\n",
    "    draw_options = drawer.drawOptions()\n",
    "    if not color_by_element:\n",
    "        draw_options.useBWAtomPalette()\n",
    "\n",
    "    drawer.DrawMolecule(\n",
    "        rdmol,\n",
    "        highlightAtoms=highlight_atoms,\n",
    "        highlightAtomColors=highlight_atom_colors,\n",
    "        highlightBonds=highlight_bonds,\n",
    "        highlightBondColors=highlight_bond_colors,\n",
    "    )\n",
    "    drawer.FinishDrawing()\n",
    "\n",
    "    svg_contents = drawer.GetDrawingText()\n",
    "\n",
    "    return svg_contents\n",
    "\n"
   ]
  },
  {
   "cell_type": "markdown",
   "metadata": {},
   "source": [
    "# Testing on fused rings\n",
    "New pattern doesn't pick up fused exocyclic angles, but misses the internal angles for the larger ring for fused rings of different sizes."
   ]
  },
  {
   "cell_type": "code",
   "execution_count": 8,
   "metadata": {},
   "outputs": [],
   "source": [
    "sage_mod_1 = ForceField('output/initial-force-field.offxml')"
   ]
  },
  {
   "cell_type": "code",
   "execution_count": 26,
   "metadata": {},
   "outputs": [],
   "source": [
    "def get_forces(topo):\n",
    "    atoms = [i.atomic_number for i in topo.atoms]\n",
    "    print(atoms)\n",
    "    molecule_force_list = sage_mod_1.label_molecules(topo)\n",
    "\n",
    "    # Print out a formatted description of the parameters applied to this molecule\n",
    "    for mol_idx, mol_forces in enumerate(molecule_force_list):\n",
    "        print(f\"Forces for molecule {mol_idx}\")\n",
    "        for force_tag, force_dict in mol_forces.items():\n",
    "            if force_tag == 'Angles':\n",
    "                print(f\"\\n{force_tag}:\")\n",
    "                for atom_indices, parameter in force_dict.items():\n",
    "                    if np.all(np.array([atoms[i] for i in atom_indices])!= 1) : \n",
    "                        atomstr = \"\"\n",
    "                        for idx in atom_indices:\n",
    "                            atomstr += \"%3s\" % idx\n",
    "                        print(\n",
    "                            f\"atoms: {atomstr}  parameter_id: {parameter.id}  smirks {parameter.smirks}\"\n",
    "                        )"
   ]
  },
  {
   "cell_type": "code",
   "execution_count": 17,
   "metadata": {},
   "outputs": [],
   "source": [
    "r3r3_fuse = Molecule.from_smiles('C13CC3C1',allow_undefined_stereo=True)\n",
    "r3r3_spiro = Molecule.from_smiles('C13(CC3)CC1',allow_undefined_stereo=True)"
   ]
  },
  {
   "cell_type": "code",
   "execution_count": 19,
   "metadata": {},
   "outputs": [],
   "source": [
    "r4r4_fuse = Molecule.from_smiles('C13CCC3CC1',allow_undefined_stereo=True)\n",
    "r4r4_spiro = Molecule.from_smiles('C13(CCC3)CCC1',allow_undefined_stereo=True)"
   ]
  },
  {
   "cell_type": "code",
   "execution_count": 38,
   "metadata": {},
   "outputs": [],
   "source": [
    "r3r4_fuse = Molecule.from_smiles('C13CCC3C1',allow_undefined_stereo=True)\n",
    "r3r4_spiro = Molecule.from_smiles('C13(CCC3)CC1',allow_undefined_stereo=True)"
   ]
  },
  {
   "cell_type": "code",
   "execution_count": 40,
   "metadata": {},
   "outputs": [
    {
     "data": {
      "image/svg+xml": [
       "<svg xmlns=\"http://www.w3.org/2000/svg\" xmlns:rdkit=\"http://www.rdkit.org/xml\" xmlns:xlink=\"http://www.w3.org/1999/xlink\" version=\"1.1\" baseProfile=\"full\" xml:space=\"preserve\" width=\"500px\" height=\"300px\" viewBox=\"0 0 500 300\">\n",
       "<!-- END OF HEADER -->\n",
       "<rect style=\"opacity:1.0;fill:#FFFFFF;stroke:none\" width=\"500.0\" height=\"300.0\" x=\"0.0\" y=\"0.0\"> </rect>\n",
       "<path class=\"bond-0 atom-0 atom-1\" d=\"M 239.3,149.7 L 298.1,209.0\" style=\"fill:none;fill-rule:evenodd;stroke:#000000;stroke-width:2.0px;stroke-linecap:butt;stroke-linejoin:miter;stroke-opacity:1\"/>\n",
       "<path class=\"bond-1 atom-1 atom-2\" d=\"M 298.1,209.0 L 357.2,150.3\" style=\"fill:none;fill-rule:evenodd;stroke:#000000;stroke-width:2.0px;stroke-linecap:butt;stroke-linejoin:miter;stroke-opacity:1\"/>\n",
       "<path class=\"bond-2 atom-2 atom-3\" d=\"M 357.2,150.3 L 298.6,91.3\" style=\"fill:none;fill-rule:evenodd;stroke:#000000;stroke-width:2.0px;stroke-linecap:butt;stroke-linejoin:miter;stroke-opacity:1\"/>\n",
       "<path class=\"bond-3 atom-0 atom-4\" d=\"M 239.3,149.7 L 166.6,108.9\" style=\"fill:none;fill-rule:evenodd;stroke:#000000;stroke-width:2.0px;stroke-linecap:butt;stroke-linejoin:miter;stroke-opacity:1\"/>\n",
       "<path class=\"bond-4 atom-4 atom-5\" d=\"M 166.6,108.9 L 167.3,192.3\" style=\"fill:none;fill-rule:evenodd;stroke:#000000;stroke-width:2.0px;stroke-linecap:butt;stroke-linejoin:miter;stroke-opacity:1\"/>\n",
       "<path class=\"bond-5 atom-5 atom-0\" d=\"M 167.3,192.3 L 239.3,149.7\" style=\"fill:none;fill-rule:evenodd;stroke:#000000;stroke-width:2.0px;stroke-linecap:butt;stroke-linejoin:miter;stroke-opacity:1\"/>\n",
       "<path class=\"bond-6 atom-3 atom-0\" d=\"M 298.6,91.3 L 239.3,149.7\" style=\"fill:none;fill-rule:evenodd;stroke:#000000;stroke-width:2.0px;stroke-linecap:butt;stroke-linejoin:miter;stroke-opacity:1\"/>\n",
       "<path class=\"bond-7 atom-1 atom-6\" d=\"M 298.1,209.0 L 343.9,253.4\" style=\"fill:none;fill-rule:evenodd;stroke:#000000;stroke-width:2.0px;stroke-linecap:butt;stroke-linejoin:miter;stroke-opacity:1\"/>\n",
       "<path class=\"bond-8 atom-1 atom-7\" d=\"M 298.1,209.0 L 269.0,242.3\" style=\"fill:none;fill-rule:evenodd;stroke:#000000;stroke-width:2.0px;stroke-linecap:butt;stroke-linejoin:miter;stroke-opacity:1\"/>\n",
       "<path class=\"bond-9 atom-2 atom-8\" d=\"M 357.2,150.3 L 402.5,105.5\" style=\"fill:none;fill-rule:evenodd;stroke:#000000;stroke-width:2.0px;stroke-linecap:butt;stroke-linejoin:miter;stroke-opacity:1\"/>\n",
       "<path class=\"bond-10 atom-2 atom-9\" d=\"M 357.2,150.3 L 401.8,195.6\" style=\"fill:none;fill-rule:evenodd;stroke:#000000;stroke-width:2.0px;stroke-linecap:butt;stroke-linejoin:miter;stroke-opacity:1\"/>\n",
       "<path class=\"bond-11 atom-3 atom-10\" d=\"M 298.6,91.3 L 268.0,57.8\" style=\"fill:none;fill-rule:evenodd;stroke:#000000;stroke-width:2.0px;stroke-linecap:butt;stroke-linejoin:miter;stroke-opacity:1\"/>\n",
       "<path class=\"bond-12 atom-3 atom-11\" d=\"M 298.6,91.3 L 344.3,46.5\" style=\"fill:none;fill-rule:evenodd;stroke:#000000;stroke-width:2.0px;stroke-linecap:butt;stroke-linejoin:miter;stroke-opacity:1\"/>\n",
       "<path class=\"bond-13 atom-4 atom-12\" d=\"M 166.6,108.9 L 97.5,99.1\" style=\"fill:none;fill-rule:evenodd;stroke:#000000;stroke-width:2.0px;stroke-linecap:butt;stroke-linejoin:miter;stroke-opacity:1\"/>\n",
       "<path class=\"bond-14 atom-4 atom-13\" d=\"M 166.6,108.9 L 183.8,49.5\" style=\"fill:none;fill-rule:evenodd;stroke:#000000;stroke-width:2.0px;stroke-linecap:butt;stroke-linejoin:miter;stroke-opacity:1\"/>\n",
       "<path class=\"bond-15 atom-5 atom-14\" d=\"M 167.3,192.3 L 184.4,250.5\" style=\"fill:none;fill-rule:evenodd;stroke:#000000;stroke-width:2.0px;stroke-linecap:butt;stroke-linejoin:miter;stroke-opacity:1\"/>\n",
       "<path class=\"bond-16 atom-5 atom-15\" d=\"M 167.3,192.3 L 98.9,203.1\" style=\"fill:none;fill-rule:evenodd;stroke:#000000;stroke-width:2.0px;stroke-linecap:butt;stroke-linejoin:miter;stroke-opacity:1\"/>\n",
       "<path class=\"atom-6\" d=\"M 346.6 252.5 L 350.4 252.5 L 350.4 264.5 L 364.9 264.5 L 364.9 252.5 L 368.8 252.5 L 368.8 280.8 L 364.9 280.8 L 364.9 267.7 L 350.4 267.7 L 350.4 280.8 L 346.6 280.8 L 346.6 252.5 \" fill=\"#000000\"/>\n",
       "<path class=\"atom-7\" d=\"M 244.1 243.8 L 248.0 243.8 L 248.0 255.9 L 262.5 255.9 L 262.5 243.8 L 266.3 243.8 L 266.3 272.1 L 262.5 272.1 L 262.5 259.1 L 248.0 259.1 L 248.0 272.1 L 244.1 272.1 L 244.1 243.8 \" fill=\"#000000\"/>\n",
       "<path class=\"atom-8\" d=\"M 405.1 77.7 L 409.0 77.7 L 409.0 89.7 L 423.4 89.7 L 423.4 77.7 L 427.3 77.7 L 427.3 106.0 L 423.4 106.0 L 423.4 92.9 L 409.0 92.9 L 409.0 106.0 L 405.1 106.0 L 405.1 77.7 \" fill=\"#000000\"/>\n",
       "<path class=\"atom-9\" d=\"M 404.4 195.3 L 408.3 195.3 L 408.3 207.4 L 422.7 207.4 L 422.7 195.3 L 426.6 195.3 L 426.6 223.7 L 422.7 223.7 L 422.7 210.6 L 408.3 210.6 L 408.3 223.7 L 404.4 223.7 L 404.4 195.3 \" fill=\"#000000\"/>\n",
       "<path class=\"atom-10\" d=\"M 243.2 28.6 L 247.0 28.6 L 247.0 40.7 L 261.5 40.7 L 261.5 28.6 L 265.4 28.6 L 265.4 57.0 L 261.5 57.0 L 261.5 43.9 L 247.0 43.9 L 247.0 57.0 L 243.2 57.0 L 243.2 28.6 \" fill=\"#000000\"/>\n",
       "<path class=\"atom-11\" d=\"M 346.9 18.8 L 350.8 18.8 L 350.8 30.8 L 365.3 30.8 L 365.3 18.8 L 369.1 18.8 L 369.1 47.1 L 365.3 47.1 L 365.3 34.0 L 350.8 34.0 L 350.8 47.1 L 346.9 47.1 L 346.9 18.8 \" fill=\"#000000\"/>\n",
       "<path class=\"atom-12\" d=\"M 72.7 82.9 L 76.6 82.9 L 76.6 95.0 L 91.0 95.0 L 91.0 82.9 L 94.9 82.9 L 94.9 111.3 L 91.0 111.3 L 91.0 98.2 L 76.6 98.2 L 76.6 111.3 L 72.7 111.3 L 72.7 82.9 \" fill=\"#000000\"/>\n",
       "<path class=\"atom-13\" d=\"M 177.6 18.5 L 181.5 18.5 L 181.5 30.6 L 196.0 30.6 L 196.0 18.5 L 199.8 18.5 L 199.8 46.8 L 196.0 46.8 L 196.0 33.8 L 181.5 33.8 L 181.5 46.8 L 177.6 46.8 L 177.6 18.5 \" fill=\"#000000\"/>\n",
       "<path class=\"atom-14\" d=\"M 178.2 253.2 L 182.1 253.2 L 182.1 265.2 L 196.5 265.2 L 196.5 253.2 L 200.4 253.2 L 200.4 281.5 L 196.5 281.5 L 196.5 268.4 L 182.1 268.4 L 182.1 281.5 L 178.2 281.5 L 178.2 253.2 \" fill=\"#000000\"/>\n",
       "<path class=\"atom-15\" d=\"M 74.1 191.1 L 77.9 191.1 L 77.9 203.1 L 92.4 203.1 L 92.4 191.1 L 96.2 191.1 L 96.2 219.4 L 92.4 219.4 L 92.4 206.3 L 77.9 206.3 L 77.9 219.4 L 74.1 219.4 L 74.1 191.1 \" fill=\"#000000\"/>\n",
       "</svg>"
      ],
      "text/plain": [
       "<IPython.core.display.SVG object>"
      ]
     },
     "metadata": {},
     "output_type": "display_data"
    }
   ],
   "source": [
    "r3r4_spiro"
   ]
  },
  {
   "cell_type": "code",
   "execution_count": 39,
   "metadata": {},
   "outputs": [
    {
     "data": {
      "image/svg+xml": [
       "<svg xmlns=\"http://www.w3.org/2000/svg\" xmlns:rdkit=\"http://www.rdkit.org/xml\" xmlns:xlink=\"http://www.w3.org/1999/xlink\" version=\"1.1\" baseProfile=\"full\" xml:space=\"preserve\" width=\"500px\" height=\"300px\" viewBox=\"0 0 500 300\">\n",
       "<!-- END OF HEADER -->\n",
       "<rect style=\"opacity:1.0;fill:#FFFFFF;stroke:none\" width=\"500.0\" height=\"300.0\" x=\"0.0\" y=\"0.0\"> </rect>\n",
       "<path class=\"bond-0 atom-0 atom-1\" d=\"M 230.6,110.6 L 309.5,110.6\" style=\"fill:none;fill-rule:evenodd;stroke:#000000;stroke-width:2.0px;stroke-linecap:butt;stroke-linejoin:miter;stroke-opacity:1\"/>\n",
       "<path class=\"bond-1 atom-1 atom-2\" d=\"M 309.5,110.6 L 309.5,189.4\" style=\"fill:none;fill-rule:evenodd;stroke:#000000;stroke-width:2.0px;stroke-linecap:butt;stroke-linejoin:miter;stroke-opacity:1\"/>\n",
       "<path class=\"bond-2 atom-2 atom-3\" d=\"M 309.5,189.4 L 230.7,189.5\" style=\"fill:none;fill-rule:evenodd;stroke:#000000;stroke-width:2.0px;stroke-linecap:butt;stroke-linejoin:miter;stroke-opacity:1\"/>\n",
       "<path class=\"bond-3 atom-3 atom-4\" d=\"M 230.7,189.5 L 162.4,150.1\" style=\"fill:none;fill-rule:evenodd;stroke:#000000;stroke-width:2.0px;stroke-linecap:butt;stroke-linejoin:miter;stroke-opacity:1\"/>\n",
       "<path class=\"bond-4 atom-4 atom-0\" d=\"M 162.4,150.1 L 230.6,110.6\" style=\"fill:none;fill-rule:evenodd;stroke:#000000;stroke-width:2.0px;stroke-linecap:butt;stroke-linejoin:miter;stroke-opacity:1\"/>\n",
       "<path class=\"bond-5 atom-3 atom-0\" d=\"M 230.7,189.5 L 230.6,110.6\" style=\"fill:none;fill-rule:evenodd;stroke:#000000;stroke-width:2.0px;stroke-linecap:butt;stroke-linejoin:miter;stroke-opacity:1\"/>\n",
       "<path class=\"bond-6 atom-0 atom-5\" d=\"M 230.6,110.6 L 214.7,51.3\" style=\"fill:none;fill-rule:evenodd;stroke:#000000;stroke-width:2.0px;stroke-linecap:butt;stroke-linejoin:miter;stroke-opacity:1\"/>\n",
       "<path class=\"bond-7 atom-1 atom-6\" d=\"M 309.5,110.6 L 309.4,48.5\" style=\"fill:none;fill-rule:evenodd;stroke:#000000;stroke-width:2.0px;stroke-linecap:butt;stroke-linejoin:miter;stroke-opacity:1\"/>\n",
       "<path class=\"bond-8 atom-1 atom-7\" d=\"M 309.5,110.6 L 374.6,110.5\" style=\"fill:none;fill-rule:evenodd;stroke:#000000;stroke-width:2.0px;stroke-linecap:butt;stroke-linejoin:miter;stroke-opacity:1\"/>\n",
       "<path class=\"bond-9 atom-2 atom-8\" d=\"M 309.5,189.4 L 374.7,189.4\" style=\"fill:none;fill-rule:evenodd;stroke:#000000;stroke-width:2.0px;stroke-linecap:butt;stroke-linejoin:miter;stroke-opacity:1\"/>\n",
       "<path class=\"bond-10 atom-2 atom-9\" d=\"M 309.5,189.4 L 309.6,251.5\" style=\"fill:none;fill-rule:evenodd;stroke:#000000;stroke-width:2.0px;stroke-linecap:butt;stroke-linejoin:miter;stroke-opacity:1\"/>\n",
       "<path class=\"bond-11 atom-3 atom-10\" d=\"M 230.7,189.5 L 214.8,248.9\" style=\"fill:none;fill-rule:evenodd;stroke:#000000;stroke-width:2.0px;stroke-linecap:butt;stroke-linejoin:miter;stroke-opacity:1\"/>\n",
       "<path class=\"bond-12 atom-4 atom-11\" d=\"M 162.4,150.1 L 125.4,194.2\" style=\"fill:none;fill-rule:evenodd;stroke:#000000;stroke-width:2.0px;stroke-linecap:butt;stroke-linejoin:miter;stroke-opacity:1\"/>\n",
       "<path class=\"bond-13 atom-4 atom-12\" d=\"M 162.4,150.1 L 125.3,106.0\" style=\"fill:none;fill-rule:evenodd;stroke:#000000;stroke-width:2.0px;stroke-linecap:butt;stroke-linejoin:miter;stroke-opacity:1\"/>\n",
       "<path class=\"atom-5\" d=\"M 199.1 20.3 L 202.9 20.3 L 202.9 32.4 L 217.4 32.4 L 217.4 20.3 L 221.2 20.3 L 221.2 48.7 L 217.4 48.7 L 217.4 35.6 L 202.9 35.6 L 202.9 48.7 L 199.1 48.7 L 199.1 20.3 \" fill=\"#000000\"/>\n",
       "<path class=\"atom-6\" d=\"M 298.3 17.6 L 302.1 17.6 L 302.1 29.6 L 316.6 29.6 L 316.6 17.6 L 320.5 17.6 L 320.5 45.9 L 316.6 45.9 L 316.6 32.8 L 302.1 32.8 L 302.1 45.9 L 298.3 45.9 L 298.3 17.6 \" fill=\"#000000\"/>\n",
       "<path class=\"atom-7\" d=\"M 377.2 96.4 L 381.0 96.4 L 381.0 108.4 L 395.5 108.4 L 395.5 96.4 L 399.4 96.4 L 399.4 124.7 L 395.5 124.7 L 395.5 111.6 L 381.0 111.6 L 381.0 124.7 L 377.2 124.7 L 377.2 96.4 \" fill=\"#000000\"/>\n",
       "<path class=\"atom-8\" d=\"M 377.3 175.2 L 381.1 175.2 L 381.1 187.2 L 395.6 187.2 L 395.6 175.2 L 399.4 175.2 L 399.4 203.5 L 395.6 203.5 L 395.6 190.4 L 381.1 190.4 L 381.1 203.5 L 377.3 203.5 L 377.3 175.2 \" fill=\"#000000\"/>\n",
       "<path class=\"atom-9\" d=\"M 298.5 254.1 L 302.3 254.1 L 302.3 266.1 L 316.8 266.1 L 316.8 254.1 L 320.7 254.1 L 320.7 282.4 L 316.8 282.4 L 316.8 269.3 L 302.3 269.3 L 302.3 282.4 L 298.5 282.4 L 298.5 254.1 \" fill=\"#000000\"/>\n",
       "<path class=\"atom-10\" d=\"M 199.3 251.5 L 203.1 251.5 L 203.1 263.5 L 217.6 263.5 L 217.6 251.5 L 221.4 251.5 L 221.4 279.8 L 217.6 279.8 L 217.6 266.7 L 203.1 266.7 L 203.1 279.8 L 199.3 279.8 L 199.3 251.5 \" fill=\"#000000\"/>\n",
       "<path class=\"atom-11\" d=\"M 100.7 196.4 L 104.5 196.4 L 104.5 208.4 L 119.0 208.4 L 119.0 196.4 L 122.8 196.4 L 122.8 224.7 L 119.0 224.7 L 119.0 211.6 L 104.5 211.6 L 104.5 224.7 L 100.7 224.7 L 100.7 196.4 \" fill=\"#000000\"/>\n",
       "<path class=\"atom-12\" d=\"M 100.6 75.6 L 104.4 75.6 L 104.4 87.6 L 118.9 87.6 L 118.9 75.6 L 122.7 75.6 L 122.7 103.9 L 118.9 103.9 L 118.9 90.8 L 104.4 90.8 L 104.4 103.9 L 100.6 103.9 L 100.6 75.6 \" fill=\"#000000\"/>\n",
       "</svg>"
      ],
      "text/plain": [
       "<IPython.core.display.SVG object>"
      ]
     },
     "metadata": {},
     "output_type": "display_data"
    }
   ],
   "source": [
    "r3r4_fuse"
   ]
  },
  {
   "cell_type": "code",
   "execution_count": 20,
   "metadata": {},
   "outputs": [
    {
     "data": {
      "image/svg+xml": [
       "<svg xmlns=\"http://www.w3.org/2000/svg\" xmlns:rdkit=\"http://www.rdkit.org/xml\" xmlns:xlink=\"http://www.w3.org/1999/xlink\" version=\"1.1\" baseProfile=\"full\" xml:space=\"preserve\" width=\"500px\" height=\"300px\" viewBox=\"0 0 500 300\">\n",
       "<!-- END OF HEADER -->\n",
       "<rect style=\"opacity:1.0;fill:#FFFFFF;stroke:none\" width=\"500.0\" height=\"300.0\" x=\"0.0\" y=\"0.0\"> </rect>\n",
       "<path class=\"bond-0 atom-0 atom-1\" d=\"M 268.3,207.0 L 226.3,150.2\" style=\"fill:none;fill-rule:evenodd;stroke:#000000;stroke-width:2.0px;stroke-linecap:butt;stroke-linejoin:miter;stroke-opacity:1\"/>\n",
       "<path class=\"bond-1 atom-1 atom-2\" d=\"M 226.3,150.2 L 165.2,115.0\" style=\"fill:none;fill-rule:evenodd;stroke:#000000;stroke-width:2.0px;stroke-linecap:butt;stroke-linejoin:miter;stroke-opacity:1\"/>\n",
       "<path class=\"bond-2 atom-2 atom-3\" d=\"M 165.2,115.0 L 165.4,185.6\" style=\"fill:none;fill-rule:evenodd;stroke:#000000;stroke-width:2.0px;stroke-linecap:butt;stroke-linejoin:miter;stroke-opacity:1\"/>\n",
       "<path class=\"bond-3 atom-1 atom-4\" d=\"M 226.3,150.2 L 268.0,93.1\" style=\"fill:none;fill-rule:evenodd;stroke:#000000;stroke-width:2.0px;stroke-linecap:butt;stroke-linejoin:miter;stroke-opacity:1\"/>\n",
       "<path class=\"bond-4 atom-4 atom-5\" d=\"M 268.0,93.1 L 334.9,114.7\" style=\"fill:none;fill-rule:evenodd;stroke:#000000;stroke-width:2.0px;stroke-linecap:butt;stroke-linejoin:miter;stroke-opacity:1\"/>\n",
       "<path class=\"bond-5 atom-5 atom-6\" d=\"M 334.9,114.7 L 335.2,185.1\" style=\"fill:none;fill-rule:evenodd;stroke:#000000;stroke-width:2.0px;stroke-linecap:butt;stroke-linejoin:miter;stroke-opacity:1\"/>\n",
       "<path class=\"bond-6 atom-6 atom-0\" d=\"M 335.2,185.1 L 268.3,207.0\" style=\"fill:none;fill-rule:evenodd;stroke:#000000;stroke-width:2.0px;stroke-linecap:butt;stroke-linejoin:miter;stroke-opacity:1\"/>\n",
       "<path class=\"bond-7 atom-3 atom-1\" d=\"M 165.4,185.6 L 226.3,150.2\" style=\"fill:none;fill-rule:evenodd;stroke:#000000;stroke-width:2.0px;stroke-linecap:butt;stroke-linejoin:miter;stroke-opacity:1\"/>\n",
       "<path class=\"bond-8 atom-0 atom-7\" d=\"M 268.3,207.0 L 290.7,253.7\" style=\"fill:none;fill-rule:evenodd;stroke:#000000;stroke-width:2.0px;stroke-linecap:butt;stroke-linejoin:miter;stroke-opacity:1\"/>\n",
       "<path class=\"bond-9 atom-0 atom-8\" d=\"M 268.3,207.0 L 245.8,225.3\" style=\"fill:none;fill-rule:evenodd;stroke:#000000;stroke-width:2.0px;stroke-linecap:butt;stroke-linejoin:miter;stroke-opacity:1\"/>\n",
       "<path class=\"bond-10 atom-2 atom-9\" d=\"M 165.2,115.0 L 108.4,109.5\" style=\"fill:none;fill-rule:evenodd;stroke:#000000;stroke-width:2.0px;stroke-linecap:butt;stroke-linejoin:miter;stroke-opacity:1\"/>\n",
       "<path class=\"bond-11 atom-2 atom-10\" d=\"M 165.2,115.0 L 175.5,62.4\" style=\"fill:none;fill-rule:evenodd;stroke:#000000;stroke-width:2.0px;stroke-linecap:butt;stroke-linejoin:miter;stroke-opacity:1\"/>\n",
       "<path class=\"bond-12 atom-3 atom-11\" d=\"M 165.4,185.6 L 175.9,238.2\" style=\"fill:none;fill-rule:evenodd;stroke:#000000;stroke-width:2.0px;stroke-linecap:butt;stroke-linejoin:miter;stroke-opacity:1\"/>\n",
       "<path class=\"bond-13 atom-3 atom-12\" d=\"M 165.4,185.6 L 108.6,191.4\" style=\"fill:none;fill-rule:evenodd;stroke:#000000;stroke-width:2.0px;stroke-linecap:butt;stroke-linejoin:miter;stroke-opacity:1\"/>\n",
       "<path class=\"bond-14 atom-4 atom-13\" d=\"M 268.0,93.1 L 245.4,74.9\" style=\"fill:none;fill-rule:evenodd;stroke:#000000;stroke-width:2.0px;stroke-linecap:butt;stroke-linejoin:miter;stroke-opacity:1\"/>\n",
       "<path class=\"bond-15 atom-4 atom-14\" d=\"M 268.0,93.1 L 290.3,46.3\" style=\"fill:none;fill-rule:evenodd;stroke:#000000;stroke-width:2.0px;stroke-linecap:butt;stroke-linejoin:miter;stroke-opacity:1\"/>\n",
       "<path class=\"bond-16 atom-5 atom-15\" d=\"M 334.9,114.7 L 347.6,63.2\" style=\"fill:none;fill-rule:evenodd;stroke:#000000;stroke-width:2.0px;stroke-linecap:butt;stroke-linejoin:miter;stroke-opacity:1\"/>\n",
       "<path class=\"bond-17 atom-5 atom-16\" d=\"M 334.9,114.7 L 391.5,120.3\" style=\"fill:none;fill-rule:evenodd;stroke:#000000;stroke-width:2.0px;stroke-linecap:butt;stroke-linejoin:miter;stroke-opacity:1\"/>\n",
       "<path class=\"bond-18 atom-6 atom-17\" d=\"M 335.2,185.1 L 391.6,179.3\" style=\"fill:none;fill-rule:evenodd;stroke:#000000;stroke-width:2.0px;stroke-linecap:butt;stroke-linejoin:miter;stroke-opacity:1\"/>\n",
       "<path class=\"bond-19 atom-6 atom-18\" d=\"M 335.2,185.1 L 348.1,236.5\" style=\"fill:none;fill-rule:evenodd;stroke:#000000;stroke-width:2.0px;stroke-linecap:butt;stroke-linejoin:miter;stroke-opacity:1\"/>\n",
       "<path class=\"atom-7\" d=\"M 287.6 255.9 L 291.4 255.9 L 291.4 267.9 L 305.9 267.9 L 305.9 255.9 L 309.7 255.9 L 309.7 284.2 L 305.9 284.2 L 305.9 271.1 L 291.4 271.1 L 291.4 284.2 L 287.6 284.2 L 287.6 255.9 \" fill=\"#000000\"/>\n",
       "<path class=\"atom-8\" d=\"M 221.4 222.0 L 225.3 222.0 L 225.3 234.0 L 239.8 234.0 L 239.8 222.0 L 243.6 222.0 L 243.6 250.3 L 239.8 250.3 L 239.8 237.2 L 225.3 237.2 L 225.3 250.3 L 221.4 250.3 L 221.4 222.0 \" fill=\"#000000\"/>\n",
       "<path class=\"atom-9\" d=\"M 84.0 94.1 L 87.9 94.1 L 87.9 106.1 L 102.3 106.1 L 102.3 94.1 L 106.2 94.1 L 106.2 122.4 L 102.3 122.4 L 102.3 109.3 L 87.9 109.3 L 87.9 122.4 L 84.0 122.4 L 84.0 94.1 \" fill=\"#000000\"/>\n",
       "<path class=\"atom-10\" d=\"M 167.6 31.9 L 171.4 31.9 L 171.4 43.9 L 185.9 43.9 L 185.9 31.9 L 189.7 31.9 L 189.7 60.2 L 185.9 60.2 L 185.9 47.1 L 171.4 47.1 L 171.4 60.2 L 167.6 60.2 L 167.6 31.9 \" fill=\"#000000\"/>\n",
       "<path class=\"atom-11\" d=\"M 168.1 240.4 L 172.0 240.4 L 172.0 252.5 L 186.4 252.5 L 186.4 240.4 L 190.3 240.4 L 190.3 268.7 L 186.4 268.7 L 186.4 255.7 L 172.0 255.7 L 172.0 268.7 L 168.1 268.7 L 168.1 240.4 \" fill=\"#000000\"/>\n",
       "<path class=\"atom-12\" d=\"M 84.2 178.6 L 88.1 178.6 L 88.1 190.7 L 102.6 190.7 L 102.6 178.6 L 106.4 178.6 L 106.4 207.0 L 102.6 207.0 L 102.6 193.9 L 88.1 193.9 L 88.1 207.0 L 84.2 207.0 L 84.2 178.6 \" fill=\"#000000\"/>\n",
       "<path class=\"atom-13\" d=\"M 221.0 50.0 L 224.8 50.0 L 224.8 62.0 L 239.3 62.0 L 239.3 50.0 L 243.2 50.0 L 243.2 78.3 L 239.3 78.3 L 239.3 65.2 L 224.8 65.2 L 224.8 78.3 L 221.0 78.3 L 221.0 50.0 \" fill=\"#000000\"/>\n",
       "<path class=\"atom-14\" d=\"M 287.0 15.8 L 290.8 15.8 L 290.8 27.8 L 305.3 27.8 L 305.3 15.8 L 309.2 15.8 L 309.2 44.1 L 305.3 44.1 L 305.3 31.0 L 290.8 31.0 L 290.8 44.1 L 287.0 44.1 L 287.0 15.8 \" fill=\"#000000\"/>\n",
       "<path class=\"atom-15\" d=\"M 340.6 32.6 L 344.4 32.6 L 344.4 44.7 L 358.9 44.7 L 358.9 32.6 L 362.8 32.6 L 362.8 61.0 L 358.9 61.0 L 358.9 47.9 L 344.4 47.9 L 344.4 61.0 L 340.6 61.0 L 340.6 32.6 \" fill=\"#000000\"/>\n",
       "<path class=\"atom-16\" d=\"M 393.7 107.5 L 397.5 107.5 L 397.5 119.5 L 412.0 119.5 L 412.0 107.5 L 415.9 107.5 L 415.9 135.8 L 412.0 135.8 L 412.0 122.7 L 397.5 122.7 L 397.5 135.8 L 393.7 135.8 L 393.7 107.5 \" fill=\"#000000\"/>\n",
       "<path class=\"atom-17\" d=\"M 393.8 163.7 L 397.7 163.7 L 397.7 175.8 L 412.1 175.8 L 412.1 163.7 L 416.0 163.7 L 416.0 192.0 L 412.1 192.0 L 412.1 179.0 L 397.7 179.0 L 397.7 192.0 L 393.8 192.0 L 393.8 163.7 \" fill=\"#000000\"/>\n",
       "<path class=\"atom-18\" d=\"M 341.1 238.8 L 345.0 238.8 L 345.0 250.8 L 359.4 250.8 L 359.4 238.8 L 363.3 238.8 L 363.3 267.1 L 359.4 267.1 L 359.4 254.0 L 345.0 254.0 L 345.0 267.1 L 341.1 267.1 L 341.1 238.8 \" fill=\"#000000\"/>\n",
       "</svg>"
      ],
      "text/plain": [
       "<IPython.core.display.SVG object>"
      ]
     },
     "metadata": {},
     "output_type": "display_data"
    }
   ],
   "source": [
    "# r3r5fuse_mol = r5_problem_fuses_rm[0][1]\n",
    "r3r5_spiro = Molecule.from_smiles('C1C2(CC2)CCC1')\n",
    "r3r5_spiro"
   ]
  },
  {
   "cell_type": "code",
   "execution_count": 21,
   "metadata": {},
   "outputs": [
    {
     "data": {
      "image/svg+xml": [
       "<svg xmlns=\"http://www.w3.org/2000/svg\" xmlns:rdkit=\"http://www.rdkit.org/xml\" xmlns:xlink=\"http://www.w3.org/1999/xlink\" version=\"1.1\" baseProfile=\"full\" xml:space=\"preserve\" width=\"500px\" height=\"300px\" viewBox=\"0 0 500 300\">\n",
       "<!-- END OF HEADER -->\n",
       "<rect style=\"opacity:1.0;fill:#FFFFFF;stroke:none\" width=\"500.0\" height=\"300.0\" x=\"0.0\" y=\"0.0\"> </rect>\n",
       "<path class=\"bond-0 atom-0 atom-1\" d=\"M 289.3,93.5 L 223.0,115.1\" style=\"fill:none;fill-rule:evenodd;stroke:#000000;stroke-width:2.0px;stroke-linecap:butt;stroke-linejoin:miter;stroke-opacity:1\"/>\n",
       "<path class=\"bond-1 atom-1 atom-2\" d=\"M 223.0,115.1 L 162.6,150.1\" style=\"fill:none;fill-rule:evenodd;stroke:#000000;stroke-width:2.0px;stroke-linecap:butt;stroke-linejoin:miter;stroke-opacity:1\"/>\n",
       "<path class=\"bond-2 atom-2 atom-3\" d=\"M 162.6,150.1 L 223.1,184.9\" style=\"fill:none;fill-rule:evenodd;stroke:#000000;stroke-width:2.0px;stroke-linecap:butt;stroke-linejoin:miter;stroke-opacity:1\"/>\n",
       "<path class=\"bond-3 atom-3 atom-4\" d=\"M 223.1,184.9 L 289.4,206.4\" style=\"fill:none;fill-rule:evenodd;stroke:#000000;stroke-width:2.0px;stroke-linecap:butt;stroke-linejoin:miter;stroke-opacity:1\"/>\n",
       "<path class=\"bond-4 atom-4 atom-5\" d=\"M 289.4,206.4 L 330.4,149.9\" style=\"fill:none;fill-rule:evenodd;stroke:#000000;stroke-width:2.0px;stroke-linecap:butt;stroke-linejoin:miter;stroke-opacity:1\"/>\n",
       "<path class=\"bond-5 atom-5 atom-0\" d=\"M 330.4,149.9 L 289.3,93.5\" style=\"fill:none;fill-rule:evenodd;stroke:#000000;stroke-width:2.0px;stroke-linecap:butt;stroke-linejoin:miter;stroke-opacity:1\"/>\n",
       "<path class=\"bond-6 atom-3 atom-1\" d=\"M 223.1,184.9 L 223.0,115.1\" style=\"fill:none;fill-rule:evenodd;stroke:#000000;stroke-width:2.0px;stroke-linecap:butt;stroke-linejoin:miter;stroke-opacity:1\"/>\n",
       "<path class=\"bond-7 atom-0 atom-6\" d=\"M 289.3,93.5 L 268.2,46.3\" style=\"fill:none;fill-rule:evenodd;stroke:#000000;stroke-width:2.0px;stroke-linecap:butt;stroke-linejoin:miter;stroke-opacity:1\"/>\n",
       "<path class=\"bond-8 atom-0 atom-7\" d=\"M 289.3,93.5 L 336.3,66.3\" style=\"fill:none;fill-rule:evenodd;stroke:#000000;stroke-width:2.0px;stroke-linecap:butt;stroke-linejoin:miter;stroke-opacity:1\"/>\n",
       "<path class=\"bond-9 atom-1 atom-8\" d=\"M 223.0,115.1 L 201.9,67.9\" style=\"fill:none;fill-rule:evenodd;stroke:#000000;stroke-width:2.0px;stroke-linecap:butt;stroke-linejoin:miter;stroke-opacity:1\"/>\n",
       "<path class=\"bond-10 atom-2 atom-9\" d=\"M 162.6,150.1 L 131.2,187.6\" style=\"fill:none;fill-rule:evenodd;stroke:#000000;stroke-width:2.0px;stroke-linecap:butt;stroke-linejoin:miter;stroke-opacity:1\"/>\n",
       "<path class=\"bond-11 atom-2 atom-10\" d=\"M 162.6,150.1 L 131.1,112.6\" style=\"fill:none;fill-rule:evenodd;stroke:#000000;stroke-width:2.0px;stroke-linecap:butt;stroke-linejoin:miter;stroke-opacity:1\"/>\n",
       "<path class=\"bond-12 atom-3 atom-11\" d=\"M 223.1,184.9 L 202.0,232.2\" style=\"fill:none;fill-rule:evenodd;stroke:#000000;stroke-width:2.0px;stroke-linecap:butt;stroke-linejoin:miter;stroke-opacity:1\"/>\n",
       "<path class=\"bond-13 atom-4 atom-12\" d=\"M 289.4,206.4 L 336.5,233.5\" style=\"fill:none;fill-rule:evenodd;stroke:#000000;stroke-width:2.0px;stroke-linecap:butt;stroke-linejoin:miter;stroke-opacity:1\"/>\n",
       "<path class=\"bond-14 atom-4 atom-13\" d=\"M 289.4,206.4 L 268.4,253.7\" style=\"fill:none;fill-rule:evenodd;stroke:#000000;stroke-width:2.0px;stroke-linecap:butt;stroke-linejoin:miter;stroke-opacity:1\"/>\n",
       "<path class=\"bond-15 atom-5 atom-14\" d=\"M 330.4,149.9 L 368.8,115.3\" style=\"fill:none;fill-rule:evenodd;stroke:#000000;stroke-width:2.0px;stroke-linecap:butt;stroke-linejoin:miter;stroke-opacity:1\"/>\n",
       "<path class=\"bond-16 atom-5 atom-15\" d=\"M 330.4,149.9 L 368.9,184.6\" style=\"fill:none;fill-rule:evenodd;stroke:#000000;stroke-width:2.0px;stroke-linecap:butt;stroke-linejoin:miter;stroke-opacity:1\"/>\n",
       "<path class=\"atom-6\" d=\"M 249.8 15.7 L 253.7 15.7 L 253.7 27.7 L 268.1 27.7 L 268.1 15.7 L 272.0 15.7 L 272.0 44.0 L 268.1 44.0 L 268.1 30.9 L 253.7 30.9 L 253.7 44.0 L 249.8 44.0 L 249.8 15.7 \" fill=\"#000000\"/>\n",
       "<path class=\"atom-7\" d=\"M 338.6 44.4 L 342.5 44.4 L 342.5 56.5 L 357.0 56.5 L 357.0 44.4 L 360.8 44.4 L 360.8 72.8 L 357.0 72.8 L 357.0 59.7 L 342.5 59.7 L 342.5 72.8 L 338.6 72.8 L 338.6 44.4 \" fill=\"#000000\"/>\n",
       "<path class=\"atom-8\" d=\"M 183.5 37.3 L 187.3 37.3 L 187.3 49.3 L 201.8 49.3 L 201.8 37.3 L 205.6 37.3 L 205.6 65.6 L 201.8 65.6 L 201.8 52.5 L 187.3 52.5 L 187.3 65.6 L 183.5 65.6 L 183.5 37.3 \" fill=\"#000000\"/>\n",
       "<path class=\"atom-9\" d=\"M 106.7 189.4 L 110.6 189.4 L 110.6 201.4 L 125.0 201.4 L 125.0 189.4 L 128.9 189.4 L 128.9 217.7 L 125.0 217.7 L 125.0 204.6 L 110.6 204.6 L 110.6 217.7 L 106.7 217.7 L 106.7 189.4 \" fill=\"#000000\"/>\n",
       "<path class=\"atom-10\" d=\"M 106.6 82.5 L 110.5 82.5 L 110.5 94.6 L 125.0 94.6 L 125.0 82.5 L 128.8 82.5 L 128.8 110.8 L 125.0 110.8 L 125.0 97.8 L 110.5 97.8 L 110.5 110.8 L 106.6 110.8 L 106.6 82.5 \" fill=\"#000000\"/>\n",
       "<path class=\"atom-11\" d=\"M 183.6 234.5 L 187.5 234.5 L 187.5 246.5 L 202.0 246.5 L 202.0 234.5 L 205.8 234.5 L 205.8 262.8 L 202.0 262.8 L 202.0 249.7 L 187.5 249.7 L 187.5 262.8 L 183.6 262.8 L 183.6 234.5 \" fill=\"#000000\"/>\n",
       "<path class=\"atom-12\" d=\"M 338.8 227.1 L 342.6 227.1 L 342.6 239.1 L 357.1 239.1 L 357.1 227.1 L 361.0 227.1 L 361.0 255.4 L 357.1 255.4 L 357.1 242.3 L 342.6 242.3 L 342.6 255.4 L 338.8 255.4 L 338.8 227.1 \" fill=\"#000000\"/>\n",
       "<path class=\"atom-13\" d=\"M 250.0 256.0 L 253.8 256.0 L 253.8 268.1 L 268.3 268.1 L 268.3 256.0 L 272.2 256.0 L 272.2 284.3 L 268.3 284.3 L 268.3 271.3 L 253.8 271.3 L 253.8 284.3 L 250.0 284.3 L 250.0 256.0 \" fill=\"#000000\"/>\n",
       "<path class=\"atom-14\" d=\"M 371.1 89.1 L 375.0 89.1 L 375.0 101.1 L 389.4 101.1 L 389.4 89.1 L 393.3 89.1 L 393.3 117.4 L 389.4 117.4 L 389.4 104.3 L 375.0 104.3 L 375.0 117.4 L 371.1 117.4 L 371.1 89.1 \" fill=\"#000000\"/>\n",
       "<path class=\"atom-15\" d=\"M 371.2 182.4 L 375.0 182.4 L 375.0 194.5 L 389.5 194.5 L 389.5 182.4 L 393.4 182.4 L 393.4 210.8 L 389.5 210.8 L 389.5 197.7 L 375.0 197.7 L 375.0 210.8 L 371.2 210.8 L 371.2 182.4 \" fill=\"#000000\"/>\n",
       "</svg>"
      ],
      "text/plain": [
       "<IPython.core.display.SVG object>"
      ]
     },
     "metadata": {},
     "output_type": "display_data"
    }
   ],
   "source": [
    "r3r5_fuse = Molecule.from_smiles('C1C2CC2CC1',allow_undefined_stereo=True)\n",
    "r3r5_fuse"
   ]
  },
  {
   "cell_type": "code",
   "execution_count": 22,
   "metadata": {},
   "outputs": [
    {
     "data": {
      "image/svg+xml": [
       "<svg xmlns=\"http://www.w3.org/2000/svg\" xmlns:rdkit=\"http://www.rdkit.org/xml\" xmlns:xlink=\"http://www.w3.org/1999/xlink\" version=\"1.1\" baseProfile=\"full\" xml:space=\"preserve\" width=\"500px\" height=\"300px\" viewBox=\"0 0 500 300\">\n",
       "<!-- END OF HEADER -->\n",
       "<rect style=\"opacity:1.0;fill:#FFFFFF;stroke:none\" width=\"500.0\" height=\"300.0\" x=\"0.0\" y=\"0.0\"> </rect>\n",
       "<path class=\"bond-0 atom-0 atom-1\" d=\"M 235.9,150.4 L 185.4,200.1\" style=\"fill:none;fill-rule:evenodd;stroke:#000000;stroke-width:2.0px;stroke-linecap:butt;stroke-linejoin:miter;stroke-opacity:1\"/>\n",
       "<path class=\"bond-1 atom-1 atom-2\" d=\"M 185.4,200.1 L 136.0,149.8\" style=\"fill:none;fill-rule:evenodd;stroke:#000000;stroke-width:2.0px;stroke-linecap:butt;stroke-linejoin:miter;stroke-opacity:1\"/>\n",
       "<path class=\"bond-2 atom-2 atom-3\" d=\"M 136.0,149.8 L 185.9,100.1\" style=\"fill:none;fill-rule:evenodd;stroke:#000000;stroke-width:2.0px;stroke-linecap:butt;stroke-linejoin:miter;stroke-opacity:1\"/>\n",
       "<path class=\"bond-3 atom-0 atom-4\" d=\"M 235.9,150.4 L 277.5,93.7\" style=\"fill:none;fill-rule:evenodd;stroke:#000000;stroke-width:2.0px;stroke-linecap:butt;stroke-linejoin:miter;stroke-opacity:1\"/>\n",
       "<path class=\"bond-4 atom-4 atom-5\" d=\"M 277.5,93.7 L 344.1,115.0\" style=\"fill:none;fill-rule:evenodd;stroke:#000000;stroke-width:2.0px;stroke-linecap:butt;stroke-linejoin:miter;stroke-opacity:1\"/>\n",
       "<path class=\"bond-5 atom-5 atom-6\" d=\"M 344.1,115.0 L 344.2,185.0\" style=\"fill:none;fill-rule:evenodd;stroke:#000000;stroke-width:2.0px;stroke-linecap:butt;stroke-linejoin:miter;stroke-opacity:1\"/>\n",
       "<path class=\"bond-6 atom-6 atom-7\" d=\"M 344.2,185.0 L 277.8,206.9\" style=\"fill:none;fill-rule:evenodd;stroke:#000000;stroke-width:2.0px;stroke-linecap:butt;stroke-linejoin:miter;stroke-opacity:1\"/>\n",
       "<path class=\"bond-7 atom-7 atom-0\" d=\"M 277.8,206.9 L 235.9,150.4\" style=\"fill:none;fill-rule:evenodd;stroke:#000000;stroke-width:2.0px;stroke-linecap:butt;stroke-linejoin:miter;stroke-opacity:1\"/>\n",
       "<path class=\"bond-8 atom-3 atom-0\" d=\"M 185.9,100.1 L 235.9,150.4\" style=\"fill:none;fill-rule:evenodd;stroke:#000000;stroke-width:2.0px;stroke-linecap:butt;stroke-linejoin:miter;stroke-opacity:1\"/>\n",
       "<path class=\"bond-9 atom-1 atom-8\" d=\"M 185.4,200.1 L 140.3,229.8\" style=\"fill:none;fill-rule:evenodd;stroke:#000000;stroke-width:2.0px;stroke-linecap:butt;stroke-linejoin:miter;stroke-opacity:1\"/>\n",
       "<path class=\"bond-10 atom-1 atom-9\" d=\"M 185.4,200.1 L 205.4,248.3\" style=\"fill:none;fill-rule:evenodd;stroke:#000000;stroke-width:2.0px;stroke-linecap:butt;stroke-linejoin:miter;stroke-opacity:1\"/>\n",
       "<path class=\"bond-11 atom-2 atom-10\" d=\"M 136.0,149.8 L 99.9,113.5\" style=\"fill:none;fill-rule:evenodd;stroke:#000000;stroke-width:2.0px;stroke-linecap:butt;stroke-linejoin:miter;stroke-opacity:1\"/>\n",
       "<path class=\"bond-12 atom-2 atom-11\" d=\"M 136.0,149.8 L 99.5,185.9\" style=\"fill:none;fill-rule:evenodd;stroke:#000000;stroke-width:2.0px;stroke-linecap:butt;stroke-linejoin:miter;stroke-opacity:1\"/>\n",
       "<path class=\"bond-13 atom-3 atom-12\" d=\"M 185.9,100.1 L 205.3,51.5\" style=\"fill:none;fill-rule:evenodd;stroke:#000000;stroke-width:2.0px;stroke-linecap:butt;stroke-linejoin:miter;stroke-opacity:1\"/>\n",
       "<path class=\"bond-14 atom-3 atom-13\" d=\"M 185.9,100.1 L 140.7,70.4\" style=\"fill:none;fill-rule:evenodd;stroke:#000000;stroke-width:2.0px;stroke-linecap:butt;stroke-linejoin:miter;stroke-opacity:1\"/>\n",
       "<path class=\"bond-15 atom-4 atom-14\" d=\"M 277.5,93.7 L 298.6,46.2\" style=\"fill:none;fill-rule:evenodd;stroke:#000000;stroke-width:2.0px;stroke-linecap:butt;stroke-linejoin:miter;stroke-opacity:1\"/>\n",
       "<path class=\"bond-16 atom-4 atom-15\" d=\"M 277.5,93.7 L 267.8,86.8\" style=\"fill:none;fill-rule:evenodd;stroke:#000000;stroke-width:2.0px;stroke-linecap:butt;stroke-linejoin:miter;stroke-opacity:1\"/>\n",
       "<path class=\"bond-17 atom-5 atom-16\" d=\"M 344.1,115.0 L 400.4,120.4\" style=\"fill:none;fill-rule:evenodd;stroke:#000000;stroke-width:2.0px;stroke-linecap:butt;stroke-linejoin:miter;stroke-opacity:1\"/>\n",
       "<path class=\"bond-18 atom-5 atom-17\" d=\"M 344.1,115.0 L 355.5,63.2\" style=\"fill:none;fill-rule:evenodd;stroke:#000000;stroke-width:2.0px;stroke-linecap:butt;stroke-linejoin:miter;stroke-opacity:1\"/>\n",
       "<path class=\"bond-19 atom-6 atom-18\" d=\"M 344.2,185.0 L 356.5,236.5\" style=\"fill:none;fill-rule:evenodd;stroke:#000000;stroke-width:2.0px;stroke-linecap:butt;stroke-linejoin:miter;stroke-opacity:1\"/>\n",
       "<path class=\"bond-20 atom-6 atom-19\" d=\"M 344.2,185.0 L 400.5,179.1\" style=\"fill:none;fill-rule:evenodd;stroke:#000000;stroke-width:2.0px;stroke-linecap:butt;stroke-linejoin:miter;stroke-opacity:1\"/>\n",
       "<path class=\"bond-21 atom-7 atom-20\" d=\"M 277.8,206.9 L 268.5,214.0\" style=\"fill:none;fill-rule:evenodd;stroke:#000000;stroke-width:2.0px;stroke-linecap:butt;stroke-linejoin:miter;stroke-opacity:1\"/>\n",
       "<path class=\"bond-22 atom-7 atom-21\" d=\"M 277.8,206.9 L 299.5,253.8\" style=\"fill:none;fill-rule:evenodd;stroke:#000000;stroke-width:2.0px;stroke-linecap:butt;stroke-linejoin:miter;stroke-opacity:1\"/>\n",
       "<path class=\"atom-8\" d=\"M 115.9 224.4 L 119.7 224.4 L 119.7 236.4 L 134.2 236.4 L 134.2 224.4 L 138.1 224.4 L 138.1 252.7 L 134.2 252.7 L 134.2 239.6 L 119.7 239.6 L 119.7 252.7 L 115.9 252.7 L 115.9 224.4 \" fill=\"#000000\"/>\n",
       "<path class=\"atom-9\" d=\"M 201.1 250.5 L 204.9 250.5 L 204.9 262.6 L 219.4 262.6 L 219.4 250.5 L 223.3 250.5 L 223.3 278.8 L 219.4 278.8 L 219.4 265.8 L 204.9 265.8 L 204.9 278.8 L 201.1 278.8 L 201.1 250.5 \" fill=\"#000000\"/>\n",
       "<path class=\"atom-10\" d=\"M 75.5 86.1 L 79.4 86.1 L 79.4 98.1 L 93.9 98.1 L 93.9 86.1 L 97.7 86.1 L 97.7 114.4 L 93.9 114.4 L 93.9 101.3 L 79.4 101.3 L 79.4 114.4 L 75.5 114.4 L 75.5 86.1 \" fill=\"#000000\"/>\n",
       "<path class=\"atom-11\" d=\"M 75.2 184.9 L 79.0 184.9 L 79.0 197.0 L 93.5 197.0 L 93.5 184.9 L 97.3 184.9 L 97.3 213.2 L 93.5 213.2 L 93.5 200.2 L 79.0 200.2 L 79.0 213.2 L 75.2 213.2 L 75.2 184.9 \" fill=\"#000000\"/>\n",
       "<path class=\"atom-12\" d=\"M 200.8 21.0 L 204.6 21.0 L 204.6 33.0 L 219.1 33.0 L 219.1 21.0 L 222.9 21.0 L 222.9 49.3 L 219.1 49.3 L 219.1 36.2 L 204.6 36.2 L 204.6 49.3 L 200.8 49.3 L 200.8 21.0 \" fill=\"#000000\"/>\n",
       "<path class=\"atom-13\" d=\"M 116.3 47.6 L 120.1 47.6 L 120.1 59.6 L 134.6 59.6 L 134.6 47.6 L 138.5 47.6 L 138.5 75.9 L 134.6 75.9 L 134.6 62.8 L 120.1 62.8 L 120.1 75.9 L 116.3 75.9 L 116.3 47.6 \" fill=\"#000000\"/>\n",
       "<path class=\"atom-14\" d=\"M 294.8 15.7 L 298.6 15.7 L 298.6 27.7 L 313.1 27.7 L 313.1 15.7 L 316.9 15.7 L 316.9 44.0 L 313.1 44.0 L 313.1 30.9 L 298.6 30.9 L 298.6 44.0 L 294.8 44.0 L 294.8 15.7 \" fill=\"#000000\"/>\n",
       "<path class=\"atom-15\" d=\"M 243.5 63.1 L 247.3 63.1 L 247.3 75.1 L 261.8 75.1 L 261.8 63.1 L 265.6 63.1 L 265.6 91.4 L 261.8 91.4 L 261.8 78.3 L 247.3 78.3 L 247.3 91.4 L 243.5 91.4 L 243.5 63.1 \" fill=\"#000000\"/>\n",
       "<path class=\"atom-16\" d=\"M 402.6 107.6 L 406.4 107.6 L 406.4 119.6 L 420.9 119.6 L 420.9 107.6 L 424.7 107.6 L 424.7 135.9 L 420.9 135.9 L 420.9 122.8 L 406.4 122.8 L 406.4 135.9 L 402.6 135.9 L 402.6 107.6 \" fill=\"#000000\"/>\n",
       "<path class=\"atom-17\" d=\"M 348.0 32.7 L 351.9 32.7 L 351.9 44.7 L 366.3 44.7 L 366.3 32.7 L 370.2 32.7 L 370.2 61.0 L 366.3 61.0 L 366.3 47.9 L 351.9 47.9 L 351.9 61.0 L 348.0 61.0 L 348.0 32.7 \" fill=\"#000000\"/>\n",
       "<path class=\"atom-18\" d=\"M 349.3 238.7 L 353.2 238.7 L 353.2 250.7 L 367.7 250.7 L 367.7 238.7 L 371.5 238.7 L 371.5 267.0 L 367.7 267.0 L 367.7 253.9 L 353.2 253.9 L 353.2 267.0 L 349.3 267.0 L 349.3 238.7 \" fill=\"#000000\"/>\n",
       "<path class=\"atom-19\" d=\"M 402.7 163.5 L 406.5 163.5 L 406.5 175.6 L 421.0 175.6 L 421.0 163.5 L 424.8 163.5 L 424.8 191.9 L 421.0 191.9 L 421.0 178.8 L 406.5 178.8 L 406.5 191.9 L 402.7 191.9 L 402.7 163.5 \" fill=\"#000000\"/>\n",
       "<path class=\"atom-20\" d=\"M 244.2 210.0 L 248.0 210.0 L 248.0 222.0 L 262.5 222.0 L 262.5 210.0 L 266.3 210.0 L 266.3 238.3 L 262.5 238.3 L 262.5 225.2 L 248.0 225.2 L 248.0 238.3 L 244.2 238.3 L 244.2 210.0 \" fill=\"#000000\"/>\n",
       "<path class=\"atom-21\" d=\"M 295.9 256.0 L 299.8 256.0 L 299.8 268.0 L 314.3 268.0 L 314.3 256.0 L 318.1 256.0 L 318.1 284.3 L 314.3 284.3 L 314.3 271.2 L 299.8 271.2 L 299.8 284.3 L 295.9 284.3 L 295.9 256.0 \" fill=\"#000000\"/>\n",
       "</svg>"
      ],
      "text/plain": [
       "<IPython.core.display.SVG object>"
      ]
     },
     "metadata": {},
     "output_type": "display_data"
    }
   ],
   "source": [
    "# r4r5spiro_mol = r5_problem_fuses_rm[5][1]\n",
    "r4r5_spiro = Molecule.from_smiles('C13(CCC3)CCCC1')\n",
    "r4r5_spiro"
   ]
  },
  {
   "cell_type": "code",
   "execution_count": 23,
   "metadata": {},
   "outputs": [
    {
     "data": {
      "image/svg+xml": [
       "<svg xmlns=\"http://www.w3.org/2000/svg\" xmlns:rdkit=\"http://www.rdkit.org/xml\" xmlns:xlink=\"http://www.w3.org/1999/xlink\" version=\"1.1\" baseProfile=\"full\" xml:space=\"preserve\" width=\"500px\" height=\"300px\" viewBox=\"0 0 500 300\">\n",
       "<!-- END OF HEADER -->\n",
       "<rect style=\"opacity:1.0;fill:#FFFFFF;stroke:none\" width=\"500.0\" height=\"300.0\" x=\"0.0\" y=\"0.0\"> </rect>\n",
       "<path class=\"bond-0 atom-0 atom-1\" d=\"M 239.9,115.4 L 170.3,115.5\" style=\"fill:none;fill-rule:evenodd;stroke:#000000;stroke-width:2.0px;stroke-linecap:butt;stroke-linejoin:miter;stroke-opacity:1\"/>\n",
       "<path class=\"bond-1 atom-1 atom-2\" d=\"M 170.3,115.5 L 170.5,185.0\" style=\"fill:none;fill-rule:evenodd;stroke:#000000;stroke-width:2.0px;stroke-linecap:butt;stroke-linejoin:miter;stroke-opacity:1\"/>\n",
       "<path class=\"bond-2 atom-2 atom-3\" d=\"M 170.5,185.0 L 239.9,184.8\" style=\"fill:none;fill-rule:evenodd;stroke:#000000;stroke-width:2.0px;stroke-linecap:butt;stroke-linejoin:miter;stroke-opacity:1\"/>\n",
       "<path class=\"bond-3 atom-3 atom-4\" d=\"M 239.9,184.8 L 306.4,206.2\" style=\"fill:none;fill-rule:evenodd;stroke:#000000;stroke-width:2.0px;stroke-linecap:butt;stroke-linejoin:miter;stroke-opacity:1\"/>\n",
       "<path class=\"bond-4 atom-4 atom-5\" d=\"M 306.4,206.2 L 347.0,149.9\" style=\"fill:none;fill-rule:evenodd;stroke:#000000;stroke-width:2.0px;stroke-linecap:butt;stroke-linejoin:miter;stroke-opacity:1\"/>\n",
       "<path class=\"bond-5 atom-5 atom-6\" d=\"M 347.0,149.9 L 306.1,93.6\" style=\"fill:none;fill-rule:evenodd;stroke:#000000;stroke-width:2.0px;stroke-linecap:butt;stroke-linejoin:miter;stroke-opacity:1\"/>\n",
       "<path class=\"bond-6 atom-6 atom-0\" d=\"M 306.1,93.6 L 239.9,115.4\" style=\"fill:none;fill-rule:evenodd;stroke:#000000;stroke-width:2.0px;stroke-linecap:butt;stroke-linejoin:miter;stroke-opacity:1\"/>\n",
       "<path class=\"bond-7 atom-3 atom-0\" d=\"M 239.9,184.8 L 239.9,115.4\" style=\"fill:none;fill-rule:evenodd;stroke:#000000;stroke-width:2.0px;stroke-linecap:butt;stroke-linejoin:miter;stroke-opacity:1\"/>\n",
       "<path class=\"bond-8 atom-0 atom-7\" d=\"M 239.9,115.4 L 230.1,63.8\" style=\"fill:none;fill-rule:evenodd;stroke:#000000;stroke-width:2.0px;stroke-linecap:butt;stroke-linejoin:miter;stroke-opacity:1\"/>\n",
       "<path class=\"bond-9 atom-1 atom-8\" d=\"M 170.3,115.5 L 114.2,115.6\" style=\"fill:none;fill-rule:evenodd;stroke:#000000;stroke-width:2.0px;stroke-linecap:butt;stroke-linejoin:miter;stroke-opacity:1\"/>\n",
       "<path class=\"bond-10 atom-1 atom-9\" d=\"M 170.3,115.5 L 170.2,62.4\" style=\"fill:none;fill-rule:evenodd;stroke:#000000;stroke-width:2.0px;stroke-linecap:butt;stroke-linejoin:miter;stroke-opacity:1\"/>\n",
       "<path class=\"bond-11 atom-2 atom-10\" d=\"M 170.5,185.0 L 170.5,238.0\" style=\"fill:none;fill-rule:evenodd;stroke:#000000;stroke-width:2.0px;stroke-linecap:butt;stroke-linejoin:miter;stroke-opacity:1\"/>\n",
       "<path class=\"bond-12 atom-2 atom-11\" d=\"M 170.5,185.0 L 114.3,185.0\" style=\"fill:none;fill-rule:evenodd;stroke:#000000;stroke-width:2.0px;stroke-linecap:butt;stroke-linejoin:miter;stroke-opacity:1\"/>\n",
       "<path class=\"bond-13 atom-3 atom-12\" d=\"M 239.9,184.8 L 230.5,236.4\" style=\"fill:none;fill-rule:evenodd;stroke:#000000;stroke-width:2.0px;stroke-linecap:butt;stroke-linejoin:miter;stroke-opacity:1\"/>\n",
       "<path class=\"bond-14 atom-4 atom-13\" d=\"M 306.4,206.2 L 353.2,233.0\" style=\"fill:none;fill-rule:evenodd;stroke:#000000;stroke-width:2.0px;stroke-linecap:butt;stroke-linejoin:miter;stroke-opacity:1\"/>\n",
       "<path class=\"bond-15 atom-4 atom-14\" d=\"M 306.4,206.2 L 286.9,253.8\" style=\"fill:none;fill-rule:evenodd;stroke:#000000;stroke-width:2.0px;stroke-linecap:butt;stroke-linejoin:miter;stroke-opacity:1\"/>\n",
       "<path class=\"bond-16 atom-5 atom-15\" d=\"M 347.0,149.9 L 385.6,115.6\" style=\"fill:none;fill-rule:evenodd;stroke:#000000;stroke-width:2.0px;stroke-linecap:butt;stroke-linejoin:miter;stroke-opacity:1\"/>\n",
       "<path class=\"bond-17 atom-5 atom-16\" d=\"M 347.0,149.9 L 385.8,183.9\" style=\"fill:none;fill-rule:evenodd;stroke:#000000;stroke-width:2.0px;stroke-linecap:butt;stroke-linejoin:miter;stroke-opacity:1\"/>\n",
       "<path class=\"bond-18 atom-6 atom-17\" d=\"M 306.1,93.6 L 286.4,46.2\" style=\"fill:none;fill-rule:evenodd;stroke:#000000;stroke-width:2.0px;stroke-linecap:butt;stroke-linejoin:miter;stroke-opacity:1\"/>\n",
       "<path class=\"bond-19 atom-6 atom-18\" d=\"M 306.1,93.6 L 352.7,66.7\" style=\"fill:none;fill-rule:evenodd;stroke:#000000;stroke-width:2.0px;stroke-linecap:butt;stroke-linejoin:miter;stroke-opacity:1\"/>\n",
       "<path class=\"atom-7\" d=\"M 215.9 33.2 L 219.8 33.2 L 219.8 45.2 L 234.2 45.2 L 234.2 33.2 L 238.1 33.2 L 238.1 61.5 L 234.2 61.5 L 234.2 48.4 L 219.8 48.4 L 219.8 61.5 L 215.9 61.5 L 215.9 33.2 \" fill=\"#000000\"/>\n",
       "<path class=\"atom-8\" d=\"M 89.8 101.4 L 93.6 101.4 L 93.6 113.5 L 108.1 113.5 L 108.1 101.4 L 111.9 101.4 L 111.9 129.8 L 108.1 129.8 L 108.1 116.7 L 93.6 116.7 L 93.6 129.8 L 89.8 129.8 L 89.8 101.4 \" fill=\"#000000\"/>\n",
       "<path class=\"atom-9\" d=\"M 159.2 31.8 L 163.0 31.8 L 163.0 43.9 L 177.5 43.9 L 177.5 31.8 L 181.3 31.8 L 181.3 60.2 L 177.5 60.2 L 177.5 47.1 L 163.0 47.1 L 163.0 60.2 L 159.2 60.2 L 159.2 31.8 \" fill=\"#000000\"/>\n",
       "<path class=\"atom-10\" d=\"M 159.5 240.3 L 163.3 240.3 L 163.3 252.3 L 177.8 252.3 L 177.8 240.3 L 181.6 240.3 L 181.6 268.6 L 177.8 268.6 L 177.8 255.5 L 163.3 255.5 L 163.3 268.6 L 159.5 268.6 L 159.5 240.3 \" fill=\"#000000\"/>\n",
       "<path class=\"atom-11\" d=\"M 89.9 170.9 L 93.7 170.9 L 93.7 182.9 L 108.2 182.9 L 108.2 170.9 L 112.0 170.9 L 112.0 199.2 L 108.2 199.2 L 108.2 186.1 L 93.7 186.1 L 93.7 199.2 L 89.9 199.2 L 89.9 170.9 \" fill=\"#000000\"/>\n",
       "<path class=\"atom-12\" d=\"M 216.4 238.7 L 220.2 238.7 L 220.2 250.8 L 234.7 250.8 L 234.7 238.7 L 238.5 238.7 L 238.5 267.1 L 234.7 267.1 L 234.7 254.0 L 220.2 254.0 L 220.2 267.1 L 216.4 267.1 L 216.4 238.7 \" fill=\"#000000\"/>\n",
       "<path class=\"atom-13\" d=\"M 355.5 226.5 L 359.3 226.5 L 359.3 238.6 L 373.8 238.6 L 373.8 226.5 L 377.6 226.5 L 377.6 254.9 L 373.8 254.9 L 373.8 241.8 L 359.3 241.8 L 359.3 254.9 L 355.5 254.9 L 355.5 226.5 \" fill=\"#000000\"/>\n",
       "<path class=\"atom-14\" d=\"M 269.0 256.1 L 272.9 256.1 L 272.9 268.1 L 287.4 268.1 L 287.4 256.1 L 291.2 256.1 L 291.2 284.4 L 287.4 284.4 L 287.4 271.3 L 272.9 271.3 L 272.9 284.4 L 269.0 284.4 L 269.0 256.1 \" fill=\"#000000\"/>\n",
       "<path class=\"atom-15\" d=\"M 387.9 89.6 L 391.7 89.6 L 391.7 101.7 L 406.2 101.7 L 406.2 89.6 L 410.0 89.6 L 410.0 117.9 L 406.2 117.9 L 406.2 104.9 L 391.7 104.9 L 391.7 117.9 L 387.9 117.9 L 387.9 89.6 \" fill=\"#000000\"/>\n",
       "<path class=\"atom-16\" d=\"M 388.1 181.5 L 391.9 181.5 L 391.9 193.6 L 406.4 193.6 L 406.4 181.5 L 410.2 181.5 L 410.2 209.9 L 406.4 209.9 L 406.4 196.8 L 391.9 196.8 L 391.9 209.9 L 388.1 209.9 L 388.1 181.5 \" fill=\"#000000\"/>\n",
       "<path class=\"atom-17\" d=\"M 268.5 15.6 L 272.3 15.6 L 272.3 27.6 L 286.8 27.6 L 286.8 15.6 L 290.7 15.6 L 290.7 43.9 L 286.8 43.9 L 286.8 30.8 L 272.3 30.8 L 272.3 43.9 L 268.5 43.9 L 268.5 15.6 \" fill=\"#000000\"/>\n",
       "<path class=\"atom-18\" d=\"M 355.0 44.8 L 358.8 44.8 L 358.8 56.8 L 373.3 56.8 L 373.3 44.8 L 377.1 44.8 L 377.1 73.1 L 373.3 73.1 L 373.3 60.0 L 358.8 60.0 L 358.8 73.1 L 355.0 73.1 L 355.0 44.8 \" fill=\"#000000\"/>\n",
       "</svg>"
      ],
      "text/plain": [
       "<IPython.core.display.SVG object>"
      ]
     },
     "metadata": {},
     "output_type": "display_data"
    }
   ],
   "source": [
    "r4r5_fuse = Molecule.from_smiles('C13CCC3CCC1',allow_undefined_stereo=True)\n",
    "r4r5_fuse"
   ]
  },
  {
   "cell_type": "code",
   "execution_count": 24,
   "metadata": {},
   "outputs": [
    {
     "data": {
      "image/svg+xml": [
       "<svg xmlns=\"http://www.w3.org/2000/svg\" xmlns:rdkit=\"http://www.rdkit.org/xml\" xmlns:xlink=\"http://www.w3.org/1999/xlink\" version=\"1.1\" baseProfile=\"full\" xml:space=\"preserve\" width=\"500px\" height=\"300px\" viewBox=\"0 0 500 300\">\n",
       "<!-- END OF HEADER -->\n",
       "<rect style=\"opacity:1.0;fill:#FFFFFF;stroke:none\" width=\"500.0\" height=\"300.0\" x=\"0.0\" y=\"0.0\"> </rect>\n",
       "<path class=\"bond-0 atom-0 atom-1\" d=\"M 249.9,150.0 L 208.6,94.5\" style=\"fill:none;fill-rule:evenodd;stroke:#000000;stroke-width:2.0px;stroke-linecap:butt;stroke-linejoin:miter;stroke-opacity:1\"/>\n",
       "<path class=\"bond-1 atom-1 atom-2\" d=\"M 208.6,94.5 L 144.0,116.1\" style=\"fill:none;fill-rule:evenodd;stroke:#000000;stroke-width:2.0px;stroke-linecap:butt;stroke-linejoin:miter;stroke-opacity:1\"/>\n",
       "<path class=\"bond-2 atom-2 atom-3\" d=\"M 144.0,116.1 L 143.9,183.9\" style=\"fill:none;fill-rule:evenodd;stroke:#000000;stroke-width:2.0px;stroke-linecap:butt;stroke-linejoin:miter;stroke-opacity:1\"/>\n",
       "<path class=\"bond-3 atom-3 atom-4\" d=\"M 143.9,183.9 L 207.6,205.6\" style=\"fill:none;fill-rule:evenodd;stroke:#000000;stroke-width:2.0px;stroke-linecap:butt;stroke-linejoin:miter;stroke-opacity:1\"/>\n",
       "<path class=\"bond-4 atom-0 atom-5\" d=\"M 249.9,150.0 L 291.5,205.5\" style=\"fill:none;fill-rule:evenodd;stroke:#000000;stroke-width:2.0px;stroke-linecap:butt;stroke-linejoin:miter;stroke-opacity:1\"/>\n",
       "<path class=\"bond-5 atom-5 atom-6\" d=\"M 291.5,205.5 L 355.9,183.9\" style=\"fill:none;fill-rule:evenodd;stroke:#000000;stroke-width:2.0px;stroke-linecap:butt;stroke-linejoin:miter;stroke-opacity:1\"/>\n",
       "<path class=\"bond-6 atom-6 atom-7\" d=\"M 355.9,183.9 L 356.3,116.0\" style=\"fill:none;fill-rule:evenodd;stroke:#000000;stroke-width:2.0px;stroke-linecap:butt;stroke-linejoin:miter;stroke-opacity:1\"/>\n",
       "<path class=\"bond-7 atom-7 atom-8\" d=\"M 356.3,116.0 L 292.5,94.5\" style=\"fill:none;fill-rule:evenodd;stroke:#000000;stroke-width:2.0px;stroke-linecap:butt;stroke-linejoin:miter;stroke-opacity:1\"/>\n",
       "<path class=\"bond-8 atom-8 atom-0\" d=\"M 292.5,94.5 L 249.9,150.0\" style=\"fill:none;fill-rule:evenodd;stroke:#000000;stroke-width:2.0px;stroke-linecap:butt;stroke-linejoin:miter;stroke-opacity:1\"/>\n",
       "<path class=\"bond-9 atom-4 atom-0\" d=\"M 207.6,205.6 L 249.9,150.0\" style=\"fill:none;fill-rule:evenodd;stroke:#000000;stroke-width:2.0px;stroke-linecap:butt;stroke-linejoin:miter;stroke-opacity:1\"/>\n",
       "<path class=\"bond-10 atom-1 atom-9\" d=\"M 208.6,94.5 L 181.8,53.6\" style=\"fill:none;fill-rule:evenodd;stroke:#000000;stroke-width:2.0px;stroke-linecap:butt;stroke-linejoin:miter;stroke-opacity:1\"/>\n",
       "<path class=\"bond-11 atom-1 atom-10\" d=\"M 208.6,94.5 L 233.5,54.5\" style=\"fill:none;fill-rule:evenodd;stroke:#000000;stroke-width:2.0px;stroke-linecap:butt;stroke-linejoin:miter;stroke-opacity:1\"/>\n",
       "<path class=\"bond-12 atom-2 atom-11\" d=\"M 144.0,116.1 L 90.4,125.1\" style=\"fill:none;fill-rule:evenodd;stroke:#000000;stroke-width:2.0px;stroke-linecap:butt;stroke-linejoin:miter;stroke-opacity:1\"/>\n",
       "<path class=\"bond-13 atom-2 atom-12\" d=\"M 144.0,116.1 L 126.2,70.5\" style=\"fill:none;fill-rule:evenodd;stroke:#000000;stroke-width:2.0px;stroke-linecap:butt;stroke-linejoin:miter;stroke-opacity:1\"/>\n",
       "<path class=\"bond-14 atom-3 atom-13\" d=\"M 143.9,183.9 L 134.9,234.5\" style=\"fill:none;fill-rule:evenodd;stroke:#000000;stroke-width:2.0px;stroke-linecap:butt;stroke-linejoin:miter;stroke-opacity:1\"/>\n",
       "<path class=\"bond-15 atom-3 atom-14\" d=\"M 143.9,183.9 L 90.7,181.7\" style=\"fill:none;fill-rule:evenodd;stroke:#000000;stroke-width:2.0px;stroke-linecap:butt;stroke-linejoin:miter;stroke-opacity:1\"/>\n",
       "<path class=\"bond-16 atom-4 atom-15\" d=\"M 207.6,205.6 L 219.1,204.0\" style=\"fill:none;fill-rule:evenodd;stroke:#000000;stroke-width:2.0px;stroke-linecap:butt;stroke-linejoin:miter;stroke-opacity:1\"/>\n",
       "<path class=\"bond-17 atom-4 atom-16\" d=\"M 207.6,205.6 L 198.6,254.4\" style=\"fill:none;fill-rule:evenodd;stroke:#000000;stroke-width:2.0px;stroke-linecap:butt;stroke-linejoin:miter;stroke-opacity:1\"/>\n",
       "<path class=\"bond-18 atom-5 atom-17\" d=\"M 291.5,205.5 L 318.3,246.3\" style=\"fill:none;fill-rule:evenodd;stroke:#000000;stroke-width:2.0px;stroke-linecap:butt;stroke-linejoin:miter;stroke-opacity:1\"/>\n",
       "<path class=\"bond-19 atom-5 atom-18\" d=\"M 291.5,205.5 L 266.6,245.4\" style=\"fill:none;fill-rule:evenodd;stroke:#000000;stroke-width:2.0px;stroke-linecap:butt;stroke-linejoin:miter;stroke-opacity:1\"/>\n",
       "<path class=\"bond-20 atom-6 atom-19\" d=\"M 355.9,183.9 L 409.6,174.9\" style=\"fill:none;fill-rule:evenodd;stroke:#000000;stroke-width:2.0px;stroke-linecap:butt;stroke-linejoin:miter;stroke-opacity:1\"/>\n",
       "<path class=\"bond-21 atom-6 atom-20\" d=\"M 355.9,183.9 L 373.7,229.5\" style=\"fill:none;fill-rule:evenodd;stroke:#000000;stroke-width:2.0px;stroke-linecap:butt;stroke-linejoin:miter;stroke-opacity:1\"/>\n",
       "<path class=\"bond-22 atom-7 atom-21\" d=\"M 356.3,116.0 L 365.2,65.5\" style=\"fill:none;fill-rule:evenodd;stroke:#000000;stroke-width:2.0px;stroke-linecap:butt;stroke-linejoin:miter;stroke-opacity:1\"/>\n",
       "<path class=\"bond-23 atom-7 atom-22\" d=\"M 356.3,116.0 L 409.4,118.3\" style=\"fill:none;fill-rule:evenodd;stroke:#000000;stroke-width:2.0px;stroke-linecap:butt;stroke-linejoin:miter;stroke-opacity:1\"/>\n",
       "<path class=\"bond-24 atom-8 atom-23\" d=\"M 292.5,94.5 L 280.8,96.1\" style=\"fill:none;fill-rule:evenodd;stroke:#000000;stroke-width:2.0px;stroke-linecap:butt;stroke-linejoin:miter;stroke-opacity:1\"/>\n",
       "<path class=\"bond-25 atom-8 atom-24\" d=\"M 292.5,94.5 L 301.5,45.6\" style=\"fill:none;fill-rule:evenodd;stroke:#000000;stroke-width:2.0px;stroke-linecap:butt;stroke-linejoin:miter;stroke-opacity:1\"/>\n",
       "<path class=\"atom-9\" d=\"M 160.0 23.2 L 163.9 23.2 L 163.9 35.2 L 178.4 35.2 L 178.4 23.2 L 182.2 23.2 L 182.2 51.5 L 178.4 51.5 L 178.4 38.4 L 163.9 38.4 L 163.9 51.5 L 160.0 51.5 L 160.0 23.2 \" fill=\"#000000\"/>\n",
       "<path class=\"atom-10\" d=\"M 232.6 24.1 L 236.4 24.1 L 236.4 36.1 L 250.9 36.1 L 250.9 24.1 L 254.7 24.1 L 254.7 52.4 L 250.9 52.4 L 250.9 39.3 L 236.4 39.3 L 236.4 52.4 L 232.6 52.4 L 232.6 24.1 \" fill=\"#000000\"/>\n",
       "<path class=\"atom-11\" d=\"M 66.2 113.1 L 70.0 113.1 L 70.0 125.2 L 84.5 125.2 L 84.5 113.1 L 88.3 113.1 L 88.3 141.5 L 84.5 141.5 L 84.5 128.4 L 70.0 128.4 L 70.0 141.5 L 66.2 141.5 L 66.2 113.1 \" fill=\"#000000\"/>\n",
       "<path class=\"atom-12\" d=\"M 108.8 40.1 L 112.6 40.1 L 112.6 52.1 L 127.1 52.1 L 127.1 40.1 L 130.9 40.1 L 130.9 68.4 L 127.1 68.4 L 127.1 55.3 L 112.6 55.3 L 112.6 68.4 L 108.8 68.4 L 108.8 40.1 \" fill=\"#000000\"/>\n",
       "<path class=\"atom-13\" d=\"M 120.9 236.6 L 124.7 236.6 L 124.7 248.6 L 139.2 248.6 L 139.2 236.6 L 143.0 236.6 L 143.0 264.9 L 139.2 264.9 L 139.2 251.8 L 124.7 251.8 L 124.7 264.9 L 120.9 264.9 L 120.9 236.6 \" fill=\"#000000\"/>\n",
       "<path class=\"atom-14\" d=\"M 66.4 167.0 L 70.2 167.0 L 70.2 179.1 L 84.7 179.1 L 84.7 167.0 L 88.6 167.0 L 88.6 195.4 L 84.7 195.4 L 84.7 182.3 L 70.2 182.3 L 70.2 195.4 L 66.4 195.4 L 66.4 167.0 \" fill=\"#000000\"/>\n",
       "<path class=\"atom-15\" d=\"M 221.2 187.9 L 225.1 187.9 L 225.1 200.0 L 239.5 200.0 L 239.5 187.9 L 243.4 187.9 L 243.4 216.2 L 239.5 216.2 L 239.5 203.2 L 225.1 203.2 L 225.1 216.2 L 221.2 216.2 L 221.2 187.9 \" fill=\"#000000\"/>\n",
       "<path class=\"atom-16\" d=\"M 184.5 256.5 L 188.4 256.5 L 188.4 268.6 L 202.8 268.6 L 202.8 256.5 L 206.7 256.5 L 206.7 284.9 L 202.8 284.9 L 202.8 271.8 L 188.4 271.8 L 188.4 284.9 L 184.5 284.9 L 184.5 256.5 \" fill=\"#000000\"/>\n",
       "<path class=\"atom-17\" d=\"M 317.9 248.5 L 321.7 248.5 L 321.7 260.5 L 336.2 260.5 L 336.2 248.5 L 340.0 248.5 L 340.0 276.8 L 336.2 276.8 L 336.2 263.7 L 321.7 263.7 L 321.7 276.8 L 317.9 276.8 L 317.9 248.5 \" fill=\"#000000\"/>\n",
       "<path class=\"atom-18\" d=\"M 245.3 247.6 L 249.1 247.6 L 249.1 259.6 L 263.6 259.6 L 263.6 247.6 L 267.5 247.6 L 267.5 275.9 L 263.6 275.9 L 263.6 262.8 L 249.1 262.8 L 249.1 275.9 L 245.3 275.9 L 245.3 247.6 \" fill=\"#000000\"/>\n",
       "<path class=\"atom-19\" d=\"M 411.7 158.5 L 415.5 158.5 L 415.5 170.5 L 430.0 170.5 L 430.0 158.5 L 433.8 158.5 L 433.8 186.8 L 430.0 186.8 L 430.0 173.7 L 415.5 173.7 L 415.5 186.8 L 411.7 186.8 L 411.7 158.5 \" fill=\"#000000\"/>\n",
       "<path class=\"atom-20\" d=\"M 368.9 231.7 L 372.8 231.7 L 372.8 243.7 L 387.3 243.7 L 387.3 231.7 L 391.1 231.7 L 391.1 260.0 L 387.3 260.0 L 387.3 246.9 L 372.8 246.9 L 372.8 260.0 L 368.9 260.0 L 368.9 231.7 \" fill=\"#000000\"/>\n",
       "<path class=\"atom-21\" d=\"M 357.0 35.1 L 360.8 35.1 L 360.8 47.1 L 375.3 47.1 L 375.3 35.1 L 379.1 35.1 L 379.1 63.4 L 375.3 63.4 L 375.3 50.3 L 360.8 50.3 L 360.8 63.4 L 357.0 63.4 L 357.0 35.1 \" fill=\"#000000\"/>\n",
       "<path class=\"atom-22\" d=\"M 411.5 104.7 L 415.3 104.7 L 415.3 116.8 L 429.8 116.8 L 429.8 104.7 L 433.6 104.7 L 433.6 133.1 L 429.8 133.1 L 429.8 120.0 L 415.3 120.0 L 415.3 133.1 L 411.5 133.1 L 411.5 104.7 \" fill=\"#000000\"/>\n",
       "<path class=\"atom-23\" d=\"M 256.5 83.8 L 260.4 83.8 L 260.4 95.8 L 274.9 95.8 L 274.9 83.8 L 278.7 83.8 L 278.7 112.1 L 274.9 112.1 L 274.9 99.0 L 260.4 99.0 L 260.4 112.1 L 256.5 112.1 L 256.5 83.8 \" fill=\"#000000\"/>\n",
       "<path class=\"atom-24\" d=\"M 293.4 15.1 L 297.2 15.1 L 297.2 27.2 L 311.7 27.2 L 311.7 15.1 L 315.5 15.1 L 315.5 43.5 L 311.7 43.5 L 311.7 30.4 L 297.2 30.4 L 297.2 43.5 L 293.4 43.5 L 293.4 15.1 \" fill=\"#000000\"/>\n",
       "</svg>"
      ],
      "text/plain": [
       "<IPython.core.display.SVG object>"
      ]
     },
     "metadata": {},
     "output_type": "display_data"
    }
   ],
   "source": [
    "# r5r5spiro_mol = r5_problem_fuses_rm[16][1]\n",
    "r5r5_spiro = Molecule.from_smiles('C13(CCCC3)CCCC1')\n",
    "r5r5_spiro"
   ]
  },
  {
   "cell_type": "code",
   "execution_count": 25,
   "metadata": {},
   "outputs": [
    {
     "data": {
      "image/svg+xml": [
       "<svg xmlns=\"http://www.w3.org/2000/svg\" xmlns:rdkit=\"http://www.rdkit.org/xml\" xmlns:xlink=\"http://www.w3.org/1999/xlink\" version=\"1.1\" baseProfile=\"full\" xml:space=\"preserve\" width=\"500px\" height=\"300px\" viewBox=\"0 0 500 300\">\n",
       "<!-- END OF HEADER -->\n",
       "<rect style=\"opacity:1.0;fill:#FFFFFF;stroke:none\" width=\"500.0\" height=\"300.0\" x=\"0.0\" y=\"0.0\"> </rect>\n",
       "<path class=\"bond-0 atom-0 atom-1\" d=\"M 249.9,184.0 L 184.8,205.1\" style=\"fill:none;fill-rule:evenodd;stroke:#000000;stroke-width:2.0px;stroke-linecap:butt;stroke-linejoin:miter;stroke-opacity:1\"/>\n",
       "<path class=\"bond-1 atom-1 atom-2\" d=\"M 184.8,205.1 L 145.0,149.8\" style=\"fill:none;fill-rule:evenodd;stroke:#000000;stroke-width:2.0px;stroke-linecap:butt;stroke-linejoin:miter;stroke-opacity:1\"/>\n",
       "<path class=\"bond-2 atom-2 atom-3\" d=\"M 145.0,149.8 L 185.0,94.7\" style=\"fill:none;fill-rule:evenodd;stroke:#000000;stroke-width:2.0px;stroke-linecap:butt;stroke-linejoin:miter;stroke-opacity:1\"/>\n",
       "<path class=\"bond-3 atom-3 atom-4\" d=\"M 185.0,94.7 L 250.1,116.0\" style=\"fill:none;fill-rule:evenodd;stroke:#000000;stroke-width:2.0px;stroke-linecap:butt;stroke-linejoin:miter;stroke-opacity:1\"/>\n",
       "<path class=\"bond-4 atom-4 atom-5\" d=\"M 250.1,116.0 L 315.2,94.9\" style=\"fill:none;fill-rule:evenodd;stroke:#000000;stroke-width:2.0px;stroke-linecap:butt;stroke-linejoin:miter;stroke-opacity:1\"/>\n",
       "<path class=\"bond-5 atom-5 atom-6\" d=\"M 315.2,94.9 L 355.0,150.2\" style=\"fill:none;fill-rule:evenodd;stroke:#000000;stroke-width:2.0px;stroke-linecap:butt;stroke-linejoin:miter;stroke-opacity:1\"/>\n",
       "<path class=\"bond-6 atom-6 atom-7\" d=\"M 355.0,150.2 L 315.0,205.3\" style=\"fill:none;fill-rule:evenodd;stroke:#000000;stroke-width:2.0px;stroke-linecap:butt;stroke-linejoin:miter;stroke-opacity:1\"/>\n",
       "<path class=\"bond-7 atom-7 atom-0\" d=\"M 315.0,205.3 L 249.9,184.0\" style=\"fill:none;fill-rule:evenodd;stroke:#000000;stroke-width:2.0px;stroke-linecap:butt;stroke-linejoin:miter;stroke-opacity:1\"/>\n",
       "<path class=\"bond-8 atom-4 atom-0\" d=\"M 250.1,116.0 L 249.9,184.0\" style=\"fill:none;fill-rule:evenodd;stroke:#000000;stroke-width:2.0px;stroke-linecap:butt;stroke-linejoin:miter;stroke-opacity:1\"/>\n",
       "<path class=\"bond-9 atom-0 atom-8\" d=\"M 249.9,184.0 L 249.7,217.3\" style=\"fill:none;fill-rule:evenodd;stroke:#000000;stroke-width:2.0px;stroke-linecap:butt;stroke-linejoin:miter;stroke-opacity:1\"/>\n",
       "<path class=\"bond-10 atom-1 atom-9\" d=\"M 184.8,205.1 L 138.8,230.4\" style=\"fill:none;fill-rule:evenodd;stroke:#000000;stroke-width:2.0px;stroke-linecap:butt;stroke-linejoin:miter;stroke-opacity:1\"/>\n",
       "<path class=\"bond-11 atom-1 atom-10\" d=\"M 184.8,205.1 L 199.1,254.2\" style=\"fill:none;fill-rule:evenodd;stroke:#000000;stroke-width:2.0px;stroke-linecap:butt;stroke-linejoin:miter;stroke-opacity:1\"/>\n",
       "<path class=\"bond-12 atom-2 atom-11\" d=\"M 145.0,149.8 L 106.7,117.2\" style=\"fill:none;fill-rule:evenodd;stroke:#000000;stroke-width:2.0px;stroke-linecap:butt;stroke-linejoin:miter;stroke-opacity:1\"/>\n",
       "<path class=\"bond-13 atom-2 atom-12\" d=\"M 145.0,149.8 L 106.6,182.5\" style=\"fill:none;fill-rule:evenodd;stroke:#000000;stroke-width:2.0px;stroke-linecap:butt;stroke-linejoin:miter;stroke-opacity:1\"/>\n",
       "<path class=\"bond-14 atom-3 atom-13\" d=\"M 185.0,94.7 L 199.8,45.9\" style=\"fill:none;fill-rule:evenodd;stroke:#000000;stroke-width:2.0px;stroke-linecap:butt;stroke-linejoin:miter;stroke-opacity:1\"/>\n",
       "<path class=\"bond-15 atom-3 atom-14\" d=\"M 185.0,94.7 L 139.2,69.2\" style=\"fill:none;fill-rule:evenodd;stroke:#000000;stroke-width:2.0px;stroke-linecap:butt;stroke-linejoin:miter;stroke-opacity:1\"/>\n",
       "<path class=\"bond-16 atom-4 atom-15\" d=\"M 250.1,116.0 L 250.3,82.7\" style=\"fill:none;fill-rule:evenodd;stroke:#000000;stroke-width:2.0px;stroke-linecap:butt;stroke-linejoin:miter;stroke-opacity:1\"/>\n",
       "<path class=\"bond-17 atom-5 atom-16\" d=\"M 315.2,94.9 L 361.2,69.6\" style=\"fill:none;fill-rule:evenodd;stroke:#000000;stroke-width:2.0px;stroke-linecap:butt;stroke-linejoin:miter;stroke-opacity:1\"/>\n",
       "<path class=\"bond-18 atom-5 atom-17\" d=\"M 315.2,94.9 L 300.9,45.8\" style=\"fill:none;fill-rule:evenodd;stroke:#000000;stroke-width:2.0px;stroke-linecap:butt;stroke-linejoin:miter;stroke-opacity:1\"/>\n",
       "<path class=\"bond-19 atom-6 atom-18\" d=\"M 355.0,150.2 L 393.2,182.9\" style=\"fill:none;fill-rule:evenodd;stroke:#000000;stroke-width:2.0px;stroke-linecap:butt;stroke-linejoin:miter;stroke-opacity:1\"/>\n",
       "<path class=\"bond-20 atom-6 atom-19\" d=\"M 355.0,150.2 L 393.4,117.5\" style=\"fill:none;fill-rule:evenodd;stroke:#000000;stroke-width:2.0px;stroke-linecap:butt;stroke-linejoin:miter;stroke-opacity:1\"/>\n",
       "<path class=\"bond-21 atom-7 atom-20\" d=\"M 315.0,205.3 L 300.2,254.1\" style=\"fill:none;fill-rule:evenodd;stroke:#000000;stroke-width:2.0px;stroke-linecap:butt;stroke-linejoin:miter;stroke-opacity:1\"/>\n",
       "<path class=\"bond-22 atom-7 atom-21\" d=\"M 315.0,205.3 L 360.9,230.7\" style=\"fill:none;fill-rule:evenodd;stroke:#000000;stroke-width:2.0px;stroke-linecap:butt;stroke-linejoin:miter;stroke-opacity:1\"/>\n",
       "<path class=\"atom-8\" d=\"M 238.4 219.5 L 242.3 219.5 L 242.3 231.6 L 256.8 231.6 L 256.8 219.5 L 260.6 219.5 L 260.6 247.9 L 256.8 247.9 L 256.8 234.8 L 242.3 234.8 L 242.3 247.9 L 238.4 247.9 L 238.4 219.5 \" fill=\"#000000\"/>\n",
       "<path class=\"atom-9\" d=\"M 114.4 223.5 L 118.3 223.5 L 118.3 235.6 L 132.7 235.6 L 132.7 223.5 L 136.6 223.5 L 136.6 251.8 L 132.7 251.8 L 132.7 238.8 L 118.3 238.8 L 118.3 251.8 L 114.4 251.8 L 114.4 223.5 \" fill=\"#000000\"/>\n",
       "<path class=\"atom-10\" d=\"M 192.7 256.4 L 196.6 256.4 L 196.6 268.4 L 211.1 268.4 L 211.1 256.4 L 214.9 256.4 L 214.9 284.7 L 211.1 284.7 L 211.1 271.6 L 196.6 271.6 L 196.6 284.7 L 192.7 284.7 L 192.7 256.4 \" fill=\"#000000\"/>\n",
       "<path class=\"atom-11\" d=\"M 82.4 91.7 L 86.2 91.7 L 86.2 103.7 L 100.7 103.7 L 100.7 91.7 L 104.5 91.7 L 104.5 120.0 L 100.7 120.0 L 100.7 106.9 L 86.2 106.9 L 86.2 120.0 L 82.4 120.0 L 82.4 91.7 \" fill=\"#000000\"/>\n",
       "<path class=\"atom-12\" d=\"M 82.2 179.6 L 86.1 179.6 L 86.1 191.6 L 100.5 191.6 L 100.5 179.6 L 104.4 179.6 L 104.4 207.9 L 100.5 207.9 L 100.5 194.8 L 86.1 194.8 L 86.1 207.9 L 82.2 207.9 L 82.2 179.6 \" fill=\"#000000\"/>\n",
       "<path class=\"atom-13\" d=\"M 193.7 15.4 L 197.6 15.4 L 197.6 27.4 L 212.0 27.4 L 212.0 15.4 L 215.9 15.4 L 215.9 43.7 L 212.0 43.7 L 212.0 30.6 L 197.6 30.6 L 197.6 43.7 L 193.7 43.7 L 193.7 15.4 \" fill=\"#000000\"/>\n",
       "<path class=\"atom-14\" d=\"M 114.8 47.6 L 118.7 47.6 L 118.7 59.7 L 133.1 59.7 L 133.1 47.6 L 137.0 47.6 L 137.0 76.0 L 133.1 76.0 L 133.1 62.9 L 118.7 62.9 L 118.7 76.0 L 114.8 76.0 L 114.8 47.6 \" fill=\"#000000\"/>\n",
       "<path class=\"atom-15\" d=\"M 239.4 52.1 L 243.2 52.1 L 243.2 64.2 L 257.7 64.2 L 257.7 52.1 L 261.6 52.1 L 261.6 80.5 L 257.7 80.5 L 257.7 67.4 L 243.2 67.4 L 243.2 80.5 L 239.4 80.5 L 239.4 52.1 \" fill=\"#000000\"/>\n",
       "<path class=\"atom-16\" d=\"M 363.4 48.2 L 367.3 48.2 L 367.3 60.2 L 381.7 60.2 L 381.7 48.2 L 385.6 48.2 L 385.6 76.5 L 381.7 76.5 L 381.7 63.4 L 367.3 63.4 L 367.3 76.5 L 363.4 76.5 L 363.4 48.2 \" fill=\"#000000\"/>\n",
       "<path class=\"atom-17\" d=\"M 285.1 15.3 L 289.0 15.3 L 289.0 27.4 L 303.4 27.4 L 303.4 15.3 L 307.3 15.3 L 307.3 43.6 L 303.4 43.6 L 303.4 30.6 L 289.0 30.6 L 289.0 43.6 L 285.1 43.6 L 285.1 15.3 \" fill=\"#000000\"/>\n",
       "<path class=\"atom-18\" d=\"M 395.4 180.2 L 399.2 180.2 L 399.2 192.2 L 413.7 192.2 L 413.7 180.2 L 417.6 180.2 L 417.6 208.5 L 413.7 208.5 L 413.7 195.4 L 399.2 195.4 L 399.2 208.5 L 395.4 208.5 L 395.4 180.2 \" fill=\"#000000\"/>\n",
       "<path class=\"atom-19\" d=\"M 395.6 92.1 L 399.5 92.1 L 399.5 104.1 L 413.9 104.1 L 413.9 92.1 L 417.8 92.1 L 417.8 120.4 L 413.9 120.4 L 413.9 107.3 L 399.5 107.3 L 399.5 120.4 L 395.6 120.4 L 395.6 92.1 \" fill=\"#000000\"/>\n",
       "<path class=\"atom-20\" d=\"M 284.1 256.3 L 288.0 256.3 L 288.0 268.3 L 302.5 268.3 L 302.5 256.3 L 306.3 256.3 L 306.3 284.6 L 302.5 284.6 L 302.5 271.5 L 288.0 271.5 L 288.0 284.6 L 284.1 284.6 L 284.1 256.3 \" fill=\"#000000\"/>\n",
       "<path class=\"atom-21\" d=\"M 363.1 223.9 L 367.0 223.9 L 367.0 236.0 L 381.4 236.0 L 381.4 223.9 L 385.3 223.9 L 385.3 252.2 L 381.4 252.2 L 381.4 239.2 L 367.0 239.2 L 367.0 252.2 L 363.1 252.2 L 363.1 223.9 \" fill=\"#000000\"/>\n",
       "</svg>"
      ],
      "text/plain": [
       "<IPython.core.display.SVG object>"
      ]
     },
     "metadata": {},
     "output_type": "display_data"
    }
   ],
   "source": [
    "# r5r5fuse_mol =r5_problem_fuses_rm[12][1]\n",
    "r5r5_fuse = Molecule.from_smiles('C13CCCC3CCC1',allow_undefined_stereo=True)\n",
    "r5r5_fuse"
   ]
  },
  {
   "cell_type": "code",
   "execution_count": 27,
   "metadata": {},
   "outputs": [
    {
     "name": "stdout",
     "output_type": "stream",
     "text": [
      "[6, 6, 6, 6, 6, 6, 6, 1, 1, 1, 1, 1, 1, 1, 1, 1, 1, 1, 1]\n",
      "Forces for molecule 0\n",
      "\n",
      "Angles:\n",
      "atoms:   0  1  2  parameter_id: a7  smirks [*;r4:1]1-;@[*;r4:2]-;@[*;r4:3]-;@[*;r4]1\n",
      "atoms:   0  3  2  parameter_id: a7  smirks [*;r4:1]1-;@[*;r4:2]-;@[*;r4:3]-;@[*;r4]1\n",
      "atoms:   0  4  5  parameter_id: a7  smirks [*;r4:1]1-;@[*;r4:2]-;@[*;r4:3]-;@[*;r4]1\n",
      "atoms:   0  6  5  parameter_id: a7  smirks [*;r4:1]1-;@[*;r4:2]-;@[*;r4:3]-;@[*;r4]1\n",
      "atoms:   1  0  3  parameter_id: a7  smirks [*;r4:1]1-;@[*;r4:2]-;@[*;r4:3]-;@[*;r4]1\n",
      "atoms:   1  0  4  parameter_id: a1  smirks [*:1]~[#6X4:2]-[*:3]\n",
      "atoms:   1  0  6  parameter_id: a1  smirks [*:1]~[#6X4:2]-[*:3]\n",
      "atoms:   1  2  3  parameter_id: a7  smirks [*;r4:1]1-;@[*;r4:2]-;@[*;r4:3]-;@[*;r4]1\n",
      "atoms:   3  0  4  parameter_id: a1  smirks [*:1]~[#6X4:2]-[*:3]\n",
      "atoms:   3  0  6  parameter_id: a1  smirks [*:1]~[#6X4:2]-[*:3]\n",
      "atoms:   4  0  6  parameter_id: a7  smirks [*;r4:1]1-;@[*;r4:2]-;@[*;r4:3]-;@[*;r4]1\n",
      "atoms:   4  5  6  parameter_id: a7  smirks [*;r4:1]1-;@[*;r4:2]-;@[*;r4:3]-;@[*;r4]1\n"
     ]
    },
    {
     "data": {
      "image/svg+xml": [
       "<svg xmlns=\"http://www.w3.org/2000/svg\" xmlns:rdkit=\"http://www.rdkit.org/xml\" xmlns:xlink=\"http://www.w3.org/1999/xlink\" version=\"1.1\" baseProfile=\"full\" xml:space=\"preserve\" width=\"500px\" height=\"300px\" viewBox=\"0 0 500 300\">\n",
       "<!-- END OF HEADER -->\n",
       "<rect style=\"opacity:1.0;fill:#FFFFFF;stroke:none\" width=\"500.0\" height=\"300.0\" x=\"0.0\" y=\"0.0\"> </rect>\n",
       "<path class=\"bond-0 atom-0 atom-1\" d=\"M 250.0,160.8 L 192.9,102.6\" style=\"fill:none;fill-rule:evenodd;stroke:#000000;stroke-width:2.0px;stroke-linecap:butt;stroke-linejoin:miter;stroke-opacity:1\"/>\n",
       "<path class=\"bond-1 atom-1 atom-2\" d=\"M 192.9,102.6 L 135.2,159.5\" style=\"fill:none;fill-rule:evenodd;stroke:#000000;stroke-width:2.0px;stroke-linecap:butt;stroke-linejoin:miter;stroke-opacity:1\"/>\n",
       "<path class=\"bond-2 atom-2 atom-3\" d=\"M 135.2,159.5 L 191.7,217.6\" style=\"fill:none;fill-rule:evenodd;stroke:#000000;stroke-width:2.0px;stroke-linecap:butt;stroke-linejoin:miter;stroke-opacity:1\"/>\n",
       "<path class=\"bond-3 atom-0 atom-4\" d=\"M 250.0,160.8 L 308.5,217.2\" style=\"fill:none;fill-rule:evenodd;stroke:#000000;stroke-width:2.0px;stroke-linecap:butt;stroke-linejoin:miter;stroke-opacity:1\"/>\n",
       "<path class=\"bond-4 atom-4 atom-5\" d=\"M 308.5,217.2 L 364.7,159.3\" style=\"fill:none;fill-rule:evenodd;stroke:#000000;stroke-width:2.0px;stroke-linecap:butt;stroke-linejoin:miter;stroke-opacity:1\"/>\n",
       "<path class=\"bond-5 atom-5 atom-6\" d=\"M 364.7,159.3 L 306.7,103.0\" style=\"fill:none;fill-rule:evenodd;stroke:#000000;stroke-width:2.0px;stroke-linecap:butt;stroke-linejoin:miter;stroke-opacity:1\"/>\n",
       "<path class=\"bond-6 atom-6 atom-0\" d=\"M 306.7,103.0 L 250.0,160.8\" style=\"fill:none;fill-rule:evenodd;stroke:#000000;stroke-width:2.0px;stroke-linecap:butt;stroke-linejoin:miter;stroke-opacity:1\"/>\n",
       "<path class=\"bond-7 atom-3 atom-0\" d=\"M 191.7,217.6 L 250.0,160.8\" style=\"fill:none;fill-rule:evenodd;stroke:#000000;stroke-width:2.0px;stroke-linecap:butt;stroke-linejoin:miter;stroke-opacity:1\"/>\n",
       "<path class=\"bond-8 atom-1 atom-7\" d=\"M 192.9,102.6 L 142.4,63.6\" style=\"fill:none;fill-rule:evenodd;stroke:#000000;stroke-width:2.0px;stroke-linecap:butt;stroke-linejoin:miter;stroke-opacity:1\"/>\n",
       "<path class=\"bond-9 atom-1 atom-8\" d=\"M 192.9,102.6 L 223.5,48.8\" style=\"fill:none;fill-rule:evenodd;stroke:#000000;stroke-width:2.0px;stroke-linecap:butt;stroke-linejoin:miter;stroke-opacity:1\"/>\n",
       "<path class=\"bond-10 atom-2 atom-9\" d=\"M 135.2,159.5 L 92.1,203.7\" style=\"fill:none;fill-rule:evenodd;stroke:#000000;stroke-width:2.0px;stroke-linecap:butt;stroke-linejoin:miter;stroke-opacity:1\"/>\n",
       "<path class=\"bond-11 atom-2 atom-10\" d=\"M 135.2,159.5 L 91.0,116.6\" style=\"fill:none;fill-rule:evenodd;stroke:#000000;stroke-width:2.0px;stroke-linecap:butt;stroke-linejoin:miter;stroke-opacity:1\"/>\n",
       "<path class=\"bond-12 atom-3 atom-11\" d=\"M 191.7,217.6 L 211.0,250.0\" style=\"fill:none;fill-rule:evenodd;stroke:#000000;stroke-width:2.0px;stroke-linecap:butt;stroke-linejoin:miter;stroke-opacity:1\"/>\n",
       "<path class=\"bond-13 atom-3 atom-12\" d=\"M 191.7,217.6 L 142.4,257.0\" style=\"fill:none;fill-rule:evenodd;stroke:#000000;stroke-width:2.0px;stroke-linecap:butt;stroke-linejoin:miter;stroke-opacity:1\"/>\n",
       "<path class=\"bond-14 atom-4 atom-13\" d=\"M 308.5,217.2 L 360.2,254.7\" style=\"fill:none;fill-rule:evenodd;stroke:#000000;stroke-width:2.0px;stroke-linecap:butt;stroke-linejoin:miter;stroke-opacity:1\"/>\n",
       "<path class=\"bond-15 atom-4 atom-14\" d=\"M 308.5,217.2 L 293.6,247.5\" style=\"fill:none;fill-rule:evenodd;stroke:#000000;stroke-width:2.0px;stroke-linecap:butt;stroke-linejoin:miter;stroke-opacity:1\"/>\n",
       "<path class=\"bond-16 atom-5 atom-15\" d=\"M 364.7,159.3 L 407.3,115.5\" style=\"fill:none;fill-rule:evenodd;stroke:#000000;stroke-width:2.0px;stroke-linecap:butt;stroke-linejoin:miter;stroke-opacity:1\"/>\n",
       "<path class=\"bond-17 atom-5 atom-16\" d=\"M 364.7,159.3 L 409.0,202.4\" style=\"fill:none;fill-rule:evenodd;stroke:#000000;stroke-width:2.0px;stroke-linecap:butt;stroke-linejoin:miter;stroke-opacity:1\"/>\n",
       "<path class=\"bond-18 atom-6 atom-17\" d=\"M 306.7,103.0 L 296.5,89.7\" style=\"fill:none;fill-rule:evenodd;stroke:#000000;stroke-width:2.0px;stroke-linecap:butt;stroke-linejoin:miter;stroke-opacity:1\"/>\n",
       "<path class=\"bond-19 atom-6 atom-18\" d=\"M 306.7,103.0 L 351.7,60.1\" style=\"fill:none;fill-rule:evenodd;stroke:#000000;stroke-width:2.0px;stroke-linecap:butt;stroke-linejoin:miter;stroke-opacity:1\"/>\n",
       "<path class=\"atom-7\" d=\"M 117.7 38.9 L 121.6 38.9 L 121.6 51.0 L 136.0 51.0 L 136.0 38.9 L 139.9 38.9 L 139.9 67.2 L 136.0 67.2 L 136.0 54.2 L 121.6 54.2 L 121.6 67.2 L 117.7 67.2 L 117.7 38.9 \" fill=\"#000000\"/>\n",
       "<path class=\"atom-8\" d=\"M 221.9 18.0 L 225.8 18.0 L 225.8 30.0 L 240.3 30.0 L 240.3 18.0 L 244.1 18.0 L 244.1 46.3 L 240.3 46.3 L 240.3 33.2 L 225.8 33.2 L 225.8 46.3 L 221.9 46.3 L 221.9 18.0 \" fill=\"#000000\"/>\n",
       "<path class=\"atom-9\" d=\"M 67.4 203.4 L 71.2 203.4 L 71.2 215.5 L 85.7 215.5 L 85.7 203.4 L 89.6 203.4 L 89.6 231.7 L 85.7 231.7 L 85.7 218.7 L 71.2 218.7 L 71.2 231.7 L 67.4 231.7 L 67.4 203.4 \" fill=\"#000000\"/>\n",
       "<path class=\"atom-10\" d=\"M 66.3 89.2 L 70.1 89.2 L 70.1 101.2 L 84.6 101.2 L 84.6 89.2 L 88.5 89.2 L 88.5 117.5 L 84.6 117.5 L 84.6 104.4 L 70.1 104.4 L 70.1 117.5 L 66.3 117.5 L 66.3 89.2 \" fill=\"#000000\"/>\n",
       "<path class=\"atom-11\" d=\"M 209.8 252.5 L 213.7 252.5 L 213.7 264.5 L 228.2 264.5 L 228.2 252.5 L 232.0 252.5 L 232.0 280.8 L 228.2 280.8 L 228.2 267.7 L 213.7 267.7 L 213.7 280.8 L 209.8 280.8 L 209.8 252.5 \" fill=\"#000000\"/>\n",
       "<path class=\"atom-12\" d=\"M 117.7 253.7 L 121.6 253.7 L 121.6 265.7 L 136.1 265.7 L 136.1 253.7 L 139.9 253.7 L 139.9 282.0 L 136.1 282.0 L 136.1 268.9 L 121.6 268.9 L 121.6 282.0 L 117.7 282.0 L 117.7 253.7 \" fill=\"#000000\"/>\n",
       "<path class=\"atom-13\" d=\"M 362.7 250.4 L 366.5 250.4 L 366.5 262.5 L 381.0 262.5 L 381.0 250.4 L 384.8 250.4 L 384.8 278.8 L 381.0 278.8 L 381.0 265.7 L 366.5 265.7 L 366.5 278.8 L 362.7 278.8 L 362.7 250.4 \" fill=\"#000000\"/>\n",
       "<path class=\"atom-14\" d=\"M 274.3 250.0 L 278.1 250.0 L 278.1 262.0 L 292.6 262.0 L 292.6 250.0 L 296.5 250.0 L 296.5 278.3 L 292.6 278.3 L 292.6 265.2 L 278.1 265.2 L 278.1 278.3 L 274.3 278.3 L 274.3 250.0 \" fill=\"#000000\"/>\n",
       "<path class=\"atom-15\" d=\"M 409.8 87.3 L 413.6 87.3 L 413.6 99.3 L 428.1 99.3 L 428.1 87.3 L 432.0 87.3 L 432.0 115.6 L 428.1 115.6 L 428.1 102.5 L 413.6 102.5 L 413.6 115.6 L 409.8 115.6 L 409.8 87.3 \" fill=\"#000000\"/>\n",
       "<path class=\"atom-16\" d=\"M 411.5 201.5 L 415.4 201.5 L 415.4 213.5 L 429.9 213.5 L 429.9 201.5 L 433.7 201.5 L 433.7 229.8 L 429.9 229.8 L 429.9 216.7 L 415.4 216.7 L 415.4 229.8 L 411.5 229.8 L 411.5 201.5 \" fill=\"#000000\"/>\n",
       "<path class=\"atom-17\" d=\"M 272.6 58.9 L 276.4 58.9 L 276.4 71.0 L 290.9 71.0 L 290.9 58.9 L 294.8 58.9 L 294.8 87.2 L 290.9 87.2 L 290.9 74.2 L 276.4 74.2 L 276.4 87.2 L 272.6 87.2 L 272.6 58.9 \" fill=\"#000000\"/>\n",
       "<path class=\"atom-18\" d=\"M 354.2 32.9 L 358.0 32.9 L 358.0 45.0 L 372.5 45.0 L 372.5 32.9 L 376.3 32.9 L 376.3 61.3 L 372.5 61.3 L 372.5 48.2 L 358.0 48.2 L 358.0 61.3 L 354.2 61.3 L 354.2 32.9 \" fill=\"#000000\"/>\n",
       "</svg>"
      ],
      "text/plain": [
       "<IPython.core.display.SVG object>"
      ]
     },
     "metadata": {},
     "output_type": "display_data"
    }
   ],
   "source": [
    "topo = r4r4_spiro.to_topology()\n",
    "get_forces(topo)\n",
    "\n",
    "r4r4_spiro"
   ]
  },
  {
   "cell_type": "code",
   "execution_count": 28,
   "metadata": {},
   "outputs": [
    {
     "name": "stdout",
     "output_type": "stream",
     "text": [
      "[6, 6, 6, 6, 6, 6, 1, 1, 1, 1, 1, 1, 1, 1, 1, 1]\n",
      "Forces for molecule 0\n",
      "\n",
      "Angles:\n",
      "atoms:   0  1  2  parameter_id: a7  smirks [*;r4:1]1-;@[*;r4:2]-;@[*;r4:3]-;@[*;r4]1\n",
      "atoms:   0  3  2  parameter_id: a7  smirks [*;r4:1]1-;@[*;r4:2]-;@[*;r4:3]-;@[*;r4]1\n",
      "atoms:   0  3  4  parameter_id: a7  smirks [*;r4:1]1-;@[*;r4:2]-;@[*;r4:3]-;@[*;r4]1\n",
      "atoms:   0  5  4  parameter_id: a7  smirks [*;r4:1]1-;@[*;r4:2]-;@[*;r4:3]-;@[*;r4]1\n",
      "atoms:   1  0  3  parameter_id: a7  smirks [*;r4:1]1-;@[*;r4:2]-;@[*;r4:3]-;@[*;r4]1\n",
      "atoms:   1  0  5  parameter_id: a1  smirks [*:1]~[#6X4:2]-[*:3]\n",
      "atoms:   1  2  3  parameter_id: a7  smirks [*;r4:1]1-;@[*;r4:2]-;@[*;r4:3]-;@[*;r4]1\n",
      "atoms:   2  3  4  parameter_id: a1  smirks [*:1]~[#6X4:2]-[*:3]\n",
      "atoms:   3  0  5  parameter_id: a7  smirks [*;r4:1]1-;@[*;r4:2]-;@[*;r4:3]-;@[*;r4]1\n",
      "atoms:   3  4  5  parameter_id: a7  smirks [*;r4:1]1-;@[*;r4:2]-;@[*;r4:3]-;@[*;r4]1\n"
     ]
    },
    {
     "data": {
      "image/svg+xml": [
       "<svg xmlns=\"http://www.w3.org/2000/svg\" xmlns:rdkit=\"http://www.rdkit.org/xml\" xmlns:xlink=\"http://www.w3.org/1999/xlink\" version=\"1.1\" baseProfile=\"full\" xml:space=\"preserve\" width=\"500px\" height=\"300px\" viewBox=\"0 0 500 300\">\n",
       "<!-- END OF HEADER -->\n",
       "<rect style=\"opacity:1.0;fill:#FFFFFF;stroke:none\" width=\"500.0\" height=\"300.0\" x=\"0.0\" y=\"0.0\"> </rect>\n",
       "<path class=\"bond-0 atom-0 atom-1\" d=\"M 276.7,165.3 L 246.0,218.6\" style=\"fill:none;fill-rule:evenodd;stroke:#000000;stroke-width:2.0px;stroke-linecap:butt;stroke-linejoin:miter;stroke-opacity:1\"/>\n",
       "<path class=\"bond-1 atom-1 atom-2\" d=\"M 246.0,218.6 L 192.7,188.0\" style=\"fill:none;fill-rule:evenodd;stroke:#000000;stroke-width:2.0px;stroke-linecap:butt;stroke-linejoin:miter;stroke-opacity:1\"/>\n",
       "<path class=\"bond-2 atom-2 atom-3\" d=\"M 192.7,188.0 L 223.3,134.7\" style=\"fill:none;fill-rule:evenodd;stroke:#000000;stroke-width:2.0px;stroke-linecap:butt;stroke-linejoin:miter;stroke-opacity:1\"/>\n",
       "<path class=\"bond-3 atom-3 atom-4\" d=\"M 223.3,134.7 L 254.0,81.4\" style=\"fill:none;fill-rule:evenodd;stroke:#000000;stroke-width:2.0px;stroke-linecap:butt;stroke-linejoin:miter;stroke-opacity:1\"/>\n",
       "<path class=\"bond-4 atom-4 atom-5\" d=\"M 254.0,81.4 L 307.3,112.0\" style=\"fill:none;fill-rule:evenodd;stroke:#000000;stroke-width:2.0px;stroke-linecap:butt;stroke-linejoin:miter;stroke-opacity:1\"/>\n",
       "<path class=\"bond-5 atom-5 atom-0\" d=\"M 307.3,112.0 L 276.7,165.3\" style=\"fill:none;fill-rule:evenodd;stroke:#000000;stroke-width:2.0px;stroke-linecap:butt;stroke-linejoin:miter;stroke-opacity:1\"/>\n",
       "<path class=\"bond-6 atom-3 atom-0\" d=\"M 223.3,134.7 L 276.7,165.3\" style=\"fill:none;fill-rule:evenodd;stroke:#000000;stroke-width:2.0px;stroke-linecap:butt;stroke-linejoin:miter;stroke-opacity:1\"/>\n",
       "<path class=\"bond-7 atom-0 atom-6\" d=\"M 276.7,165.3 L 317.7,188.9\" style=\"fill:none;fill-rule:evenodd;stroke:#000000;stroke-width:2.0px;stroke-linecap:butt;stroke-linejoin:miter;stroke-opacity:1\"/>\n",
       "<path class=\"bond-8 atom-1 atom-7\" d=\"M 246.0,218.6 L 224.1,256.9\" style=\"fill:none;fill-rule:evenodd;stroke:#000000;stroke-width:2.0px;stroke-linecap:butt;stroke-linejoin:miter;stroke-opacity:1\"/>\n",
       "<path class=\"bond-9 atom-1 atom-8\" d=\"M 246.0,218.6 L 287.1,242.2\" style=\"fill:none;fill-rule:evenodd;stroke:#000000;stroke-width:2.0px;stroke-linecap:butt;stroke-linejoin:miter;stroke-opacity:1\"/>\n",
       "<path class=\"bond-10 atom-2 atom-9\" d=\"M 192.7,188.0 L 151.6,164.4\" style=\"fill:none;fill-rule:evenodd;stroke:#000000;stroke-width:2.0px;stroke-linecap:butt;stroke-linejoin:miter;stroke-opacity:1\"/>\n",
       "<path class=\"bond-11 atom-2 atom-10\" d=\"M 192.7,188.0 L 170.7,226.2\" style=\"fill:none;fill-rule:evenodd;stroke:#000000;stroke-width:2.0px;stroke-linecap:butt;stroke-linejoin:miter;stroke-opacity:1\"/>\n",
       "<path class=\"bond-12 atom-3 atom-11\" d=\"M 223.3,134.7 L 182.3,111.1\" style=\"fill:none;fill-rule:evenodd;stroke:#000000;stroke-width:2.0px;stroke-linecap:butt;stroke-linejoin:miter;stroke-opacity:1\"/>\n",
       "<path class=\"bond-13 atom-4 atom-12\" d=\"M 254.0,81.4 L 275.9,43.1\" style=\"fill:none;fill-rule:evenodd;stroke:#000000;stroke-width:2.0px;stroke-linecap:butt;stroke-linejoin:miter;stroke-opacity:1\"/>\n",
       "<path class=\"bond-14 atom-4 atom-13\" d=\"M 254.0,81.4 L 212.9,57.8\" style=\"fill:none;fill-rule:evenodd;stroke:#000000;stroke-width:2.0px;stroke-linecap:butt;stroke-linejoin:miter;stroke-opacity:1\"/>\n",
       "<path class=\"bond-15 atom-5 atom-14\" d=\"M 307.3,112.0 L 348.4,135.6\" style=\"fill:none;fill-rule:evenodd;stroke:#000000;stroke-width:2.0px;stroke-linecap:butt;stroke-linejoin:miter;stroke-opacity:1\"/>\n",
       "<path class=\"bond-16 atom-5 atom-15\" d=\"M 307.3,112.0 L 329.3,73.8\" style=\"fill:none;fill-rule:evenodd;stroke:#000000;stroke-width:2.0px;stroke-linecap:butt;stroke-linejoin:miter;stroke-opacity:1\"/>\n",
       "<path class=\"atom-6\" d=\"M 319.8 182.9 L 323.3 182.9 L 323.3 194.0 L 336.6 194.0 L 336.6 182.9 L 340.2 182.9 L 340.2 209.0 L 336.6 209.0 L 336.6 197.0 L 323.3 197.0 L 323.3 209.0 L 319.8 209.0 L 319.8 182.9 \" fill=\"#000000\"/>\n",
       "<path class=\"atom-7\" d=\"M 205.2 258.9 L 208.7 258.9 L 208.7 270.0 L 222.1 270.0 L 222.1 258.9 L 225.6 258.9 L 225.6 285.0 L 222.1 285.0 L 222.1 272.9 L 208.7 272.9 L 208.7 285.0 L 205.2 285.0 L 205.2 258.9 \" fill=\"#000000\"/>\n",
       "<path class=\"atom-8\" d=\"M 289.1 236.2 L 292.6 236.2 L 292.6 247.3 L 306.0 247.3 L 306.0 236.2 L 309.5 236.2 L 309.5 262.3 L 306.0 262.3 L 306.0 250.3 L 292.6 250.3 L 292.6 262.3 L 289.1 262.3 L 289.1 236.2 \" fill=\"#000000\"/>\n",
       "<path class=\"atom-9\" d=\"M 129.2 144.3 L 132.7 144.3 L 132.7 155.4 L 146.1 155.4 L 146.1 144.3 L 149.6 144.3 L 149.6 170.4 L 146.1 170.4 L 146.1 158.3 L 132.7 158.3 L 132.7 170.4 L 129.2 170.4 L 129.2 144.3 \" fill=\"#000000\"/>\n",
       "<path class=\"atom-10\" d=\"M 151.9 228.2 L 155.4 228.2 L 155.4 239.4 L 168.8 239.4 L 168.8 228.2 L 172.3 228.2 L 172.3 254.4 L 168.8 254.4 L 168.8 242.3 L 155.4 242.3 L 155.4 254.4 L 151.9 254.4 L 151.9 228.2 \" fill=\"#000000\"/>\n",
       "<path class=\"atom-11\" d=\"M 159.8 91.0 L 163.4 91.0 L 163.4 102.1 L 176.7 102.1 L 176.7 91.0 L 180.2 91.0 L 180.2 117.1 L 176.7 117.1 L 176.7 105.0 L 163.4 105.0 L 163.4 117.1 L 159.8 117.1 L 159.8 91.0 \" fill=\"#000000\"/>\n",
       "<path class=\"atom-12\" d=\"M 274.4 15.0 L 277.9 15.0 L 277.9 26.1 L 291.3 26.1 L 291.3 15.0 L 294.8 15.0 L 294.8 41.1 L 291.3 41.1 L 291.3 29.1 L 277.9 29.1 L 277.9 41.1 L 274.4 41.1 L 274.4 15.0 \" fill=\"#000000\"/>\n",
       "<path class=\"atom-13\" d=\"M 190.5 37.7 L 194.0 37.7 L 194.0 48.8 L 207.4 48.8 L 207.4 37.7 L 210.9 37.7 L 210.9 63.8 L 207.4 63.8 L 207.4 51.7 L 194.0 51.7 L 194.0 63.8 L 190.5 63.8 L 190.5 37.7 \" fill=\"#000000\"/>\n",
       "<path class=\"atom-14\" d=\"M 350.4 129.6 L 353.9 129.6 L 353.9 140.7 L 367.3 140.7 L 367.3 129.6 L 370.8 129.6 L 370.8 155.7 L 367.3 155.7 L 367.3 143.6 L 353.9 143.6 L 353.9 155.7 L 350.4 155.7 L 350.4 129.6 \" fill=\"#000000\"/>\n",
       "<path class=\"atom-15\" d=\"M 327.7 45.6 L 331.2 45.6 L 331.2 56.7 L 344.6 56.7 L 344.6 45.6 L 348.1 45.6 L 348.1 71.8 L 344.6 71.8 L 344.6 59.7 L 331.2 59.7 L 331.2 71.8 L 327.7 71.8 L 327.7 45.6 \" fill=\"#000000\"/>\n",
       "</svg>"
      ],
      "text/plain": [
       "<IPython.core.display.SVG object>"
      ]
     },
     "metadata": {},
     "output_type": "display_data"
    }
   ],
   "source": [
    "topo = r4r4_fuse.to_topology()\n",
    "get_forces(topo)\n",
    "\n",
    "r4r4_fuse"
   ]
  },
  {
   "cell_type": "code",
   "execution_count": 29,
   "metadata": {},
   "outputs": [
    {
     "name": "stdout",
     "output_type": "stream",
     "text": [
      "[6, 6, 6, 6, 1, 1, 1, 1, 1, 1]\n",
      "Forces for molecule 0\n",
      "\n",
      "Angles:\n",
      "atoms:   0  1  2  parameter_id: a3  smirks [*;r3:1]1~;@[*;r3:2]~;@[*;r3:3]1\n",
      "atoms:   0  2  1  parameter_id: a3  smirks [*;r3:1]1~;@[*;r3:2]~;@[*;r3:3]1\n",
      "atoms:   0  2  3  parameter_id: a3  smirks [*;r3:1]1~;@[*;r3:2]~;@[*;r3:3]1\n",
      "atoms:   0  3  2  parameter_id: a3  smirks [*;r3:1]1~;@[*;r3:2]~;@[*;r3:3]1\n",
      "atoms:   1  0  2  parameter_id: a3  smirks [*;r3:1]1~;@[*;r3:2]~;@[*;r3:3]1\n",
      "atoms:   1  0  3  parameter_id: a1  smirks [*:1]~[#6X4:2]-[*:3]\n",
      "atoms:   1  2  3  parameter_id: a1  smirks [*:1]~[#6X4:2]-[*:3]\n",
      "atoms:   2  0  3  parameter_id: a3  smirks [*;r3:1]1~;@[*;r3:2]~;@[*;r3:3]1\n"
     ]
    },
    {
     "data": {
      "image/svg+xml": [
       "<svg xmlns=\"http://www.w3.org/2000/svg\" xmlns:rdkit=\"http://www.rdkit.org/xml\" xmlns:xlink=\"http://www.w3.org/1999/xlink\" version=\"1.1\" baseProfile=\"full\" xml:space=\"preserve\" width=\"500px\" height=\"300px\" viewBox=\"0 0 500 300\">\n",
       "<!-- END OF HEADER -->\n",
       "<rect style=\"opacity:1.0;fill:#FFFFFF;stroke:none\" width=\"500.0\" height=\"300.0\" x=\"0.0\" y=\"0.0\"> </rect>\n",
       "<path class=\"bond-0 atom-0 atom-1\" d=\"M 250.0,189.4 L 181.7,150.0\" style=\"fill:none;fill-rule:evenodd;stroke:#000000;stroke-width:2.0px;stroke-linecap:butt;stroke-linejoin:miter;stroke-opacity:1\"/>\n",
       "<path class=\"bond-1 atom-1 atom-2\" d=\"M 181.7,150.0 L 250.0,110.6\" style=\"fill:none;fill-rule:evenodd;stroke:#000000;stroke-width:2.0px;stroke-linecap:butt;stroke-linejoin:miter;stroke-opacity:1\"/>\n",
       "<path class=\"bond-2 atom-2 atom-3\" d=\"M 250.0,110.6 L 318.3,150.0\" style=\"fill:none;fill-rule:evenodd;stroke:#000000;stroke-width:2.0px;stroke-linecap:butt;stroke-linejoin:miter;stroke-opacity:1\"/>\n",
       "<path class=\"bond-3 atom-3 atom-0\" d=\"M 318.3,150.0 L 250.0,189.4\" style=\"fill:none;fill-rule:evenodd;stroke:#000000;stroke-width:2.0px;stroke-linecap:butt;stroke-linejoin:miter;stroke-opacity:1\"/>\n",
       "<path class=\"bond-4 atom-2 atom-0\" d=\"M 250.0,110.6 L 250.0,189.4\" style=\"fill:none;fill-rule:evenodd;stroke:#000000;stroke-width:2.0px;stroke-linecap:butt;stroke-linejoin:miter;stroke-opacity:1\"/>\n",
       "<path class=\"bond-5 atom-0 atom-4\" d=\"M 250.0,189.4 L 249.9,251.5\" style=\"fill:none;fill-rule:evenodd;stroke:#000000;stroke-width:2.0px;stroke-linecap:butt;stroke-linejoin:miter;stroke-opacity:1\"/>\n",
       "<path class=\"bond-6 atom-1 atom-5\" d=\"M 181.7,150.0 L 144.8,105.8\" style=\"fill:none;fill-rule:evenodd;stroke:#000000;stroke-width:2.0px;stroke-linecap:butt;stroke-linejoin:miter;stroke-opacity:1\"/>\n",
       "<path class=\"bond-7 atom-1 atom-6\" d=\"M 181.7,150.0 L 144.7,194.0\" style=\"fill:none;fill-rule:evenodd;stroke:#000000;stroke-width:2.0px;stroke-linecap:butt;stroke-linejoin:miter;stroke-opacity:1\"/>\n",
       "<path class=\"bond-8 atom-2 atom-7\" d=\"M 250.0,110.6 L 250.1,48.5\" style=\"fill:none;fill-rule:evenodd;stroke:#000000;stroke-width:2.0px;stroke-linecap:butt;stroke-linejoin:miter;stroke-opacity:1\"/>\n",
       "<path class=\"bond-9 atom-3 atom-8\" d=\"M 318.3,150.0 L 355.2,194.2\" style=\"fill:none;fill-rule:evenodd;stroke:#000000;stroke-width:2.0px;stroke-linecap:butt;stroke-linejoin:miter;stroke-opacity:1\"/>\n",
       "<path class=\"bond-10 atom-3 atom-9\" d=\"M 318.3,150.0 L 355.3,106.0\" style=\"fill:none;fill-rule:evenodd;stroke:#000000;stroke-width:2.0px;stroke-linecap:butt;stroke-linejoin:miter;stroke-opacity:1\"/>\n",
       "<path class=\"atom-4\" d=\"M 238.8 254.1 L 242.7 254.1 L 242.7 266.1 L 257.1 266.1 L 257.1 254.1 L 261.0 254.1 L 261.0 282.4 L 257.1 282.4 L 257.1 269.3 L 242.7 269.3 L 242.7 282.4 L 238.8 282.4 L 238.8 254.1 \" fill=\"#000000\"/>\n",
       "<path class=\"atom-5\" d=\"M 120.0 75.4 L 123.9 75.4 L 123.9 87.4 L 138.3 87.4 L 138.3 75.4 L 142.2 75.4 L 142.2 103.7 L 138.3 103.7 L 138.3 90.6 L 123.9 90.6 L 123.9 103.7 L 120.0 103.7 L 120.0 75.4 \" fill=\"#000000\"/>\n",
       "<path class=\"atom-6\" d=\"M 119.9 196.1 L 123.8 196.1 L 123.8 208.2 L 138.2 208.2 L 138.2 196.1 L 142.1 196.1 L 142.1 224.5 L 138.2 224.5 L 138.2 211.4 L 123.8 211.4 L 123.8 224.5 L 119.9 224.5 L 119.9 196.1 \" fill=\"#000000\"/>\n",
       "<path class=\"atom-7\" d=\"M 239.0 17.6 L 242.9 17.6 L 242.9 29.6 L 257.3 29.6 L 257.3 17.6 L 261.2 17.6 L 261.2 45.9 L 257.3 45.9 L 257.3 32.8 L 242.9 32.8 L 242.9 45.9 L 239.0 45.9 L 239.0 17.6 \" fill=\"#000000\"/>\n",
       "<path class=\"atom-8\" d=\"M 357.8 196.3 L 361.7 196.3 L 361.7 208.4 L 376.1 208.4 L 376.1 196.3 L 380.0 196.3 L 380.0 224.6 L 376.1 224.6 L 376.1 211.6 L 361.7 211.6 L 361.7 224.6 L 357.8 224.6 L 357.8 196.3 \" fill=\"#000000\"/>\n",
       "<path class=\"atom-9\" d=\"M 357.9 75.5 L 361.8 75.5 L 361.8 87.6 L 376.2 87.6 L 376.2 75.5 L 380.1 75.5 L 380.1 103.9 L 376.2 103.9 L 376.2 90.8 L 361.8 90.8 L 361.8 103.9 L 357.9 103.9 L 357.9 75.5 \" fill=\"#000000\"/>\n",
       "</svg>"
      ],
      "text/plain": [
       "<IPython.core.display.SVG object>"
      ]
     },
     "metadata": {},
     "output_type": "display_data"
    }
   ],
   "source": [
    "topo = r3r3_fuse.to_topology()\n",
    "get_forces(topo)\n",
    "\n",
    "r3r3_fuse"
   ]
  },
  {
   "cell_type": "code",
   "execution_count": 30,
   "metadata": {},
   "outputs": [
    {
     "name": "stdout",
     "output_type": "stream",
     "text": [
      "[6, 6, 6, 6, 6, 1, 1, 1, 1, 1, 1, 1, 1]\n",
      "Forces for molecule 0\n",
      "\n",
      "Angles:\n",
      "atoms:   0  1  2  parameter_id: a3  smirks [*;r3:1]1~;@[*;r3:2]~;@[*;r3:3]1\n",
      "atoms:   0  2  1  parameter_id: a3  smirks [*;r3:1]1~;@[*;r3:2]~;@[*;r3:3]1\n",
      "atoms:   0  3  4  parameter_id: a3  smirks [*;r3:1]1~;@[*;r3:2]~;@[*;r3:3]1\n",
      "atoms:   0  4  3  parameter_id: a3  smirks [*;r3:1]1~;@[*;r3:2]~;@[*;r3:3]1\n",
      "atoms:   1  0  2  parameter_id: a3  smirks [*;r3:1]1~;@[*;r3:2]~;@[*;r3:3]1\n",
      "atoms:   1  0  3  parameter_id: a1  smirks [*:1]~[#6X4:2]-[*:3]\n",
      "atoms:   1  0  4  parameter_id: a1  smirks [*:1]~[#6X4:2]-[*:3]\n",
      "atoms:   2  0  3  parameter_id: a1  smirks [*:1]~[#6X4:2]-[*:3]\n",
      "atoms:   2  0  4  parameter_id: a1  smirks [*:1]~[#6X4:2]-[*:3]\n",
      "atoms:   3  0  4  parameter_id: a3  smirks [*;r3:1]1~;@[*;r3:2]~;@[*;r3:3]1\n"
     ]
    },
    {
     "data": {
      "image/svg+xml": [
       "<svg xmlns=\"http://www.w3.org/2000/svg\" xmlns:rdkit=\"http://www.rdkit.org/xml\" xmlns:xlink=\"http://www.w3.org/1999/xlink\" version=\"1.1\" baseProfile=\"full\" xml:space=\"preserve\" width=\"500px\" height=\"300px\" viewBox=\"0 0 500 300\">\n",
       "<!-- END OF HEADER -->\n",
       "<rect style=\"opacity:1.0;fill:#FFFFFF;stroke:none\" width=\"500.0\" height=\"300.0\" x=\"0.0\" y=\"0.0\"> </rect>\n",
       "<path class=\"bond-0 atom-0 atom-1\" d=\"M 250.0,150.0 L 179.2,190.5\" style=\"fill:none;fill-rule:evenodd;stroke:#000000;stroke-width:2.0px;stroke-linecap:butt;stroke-linejoin:miter;stroke-opacity:1\"/>\n",
       "<path class=\"bond-1 atom-1 atom-2\" d=\"M 179.2,190.5 L 179.5,108.9\" style=\"fill:none;fill-rule:evenodd;stroke:#000000;stroke-width:2.0px;stroke-linecap:butt;stroke-linejoin:miter;stroke-opacity:1\"/>\n",
       "<path class=\"bond-2 atom-0 atom-3\" d=\"M 250.0,150.0 L 320.8,109.5\" style=\"fill:none;fill-rule:evenodd;stroke:#000000;stroke-width:2.0px;stroke-linecap:butt;stroke-linejoin:miter;stroke-opacity:1\"/>\n",
       "<path class=\"bond-3 atom-3 atom-4\" d=\"M 320.8,109.5 L 320.5,191.1\" style=\"fill:none;fill-rule:evenodd;stroke:#000000;stroke-width:2.0px;stroke-linecap:butt;stroke-linejoin:miter;stroke-opacity:1\"/>\n",
       "<path class=\"bond-4 atom-4 atom-0\" d=\"M 320.5,191.1 L 250.0,150.0\" style=\"fill:none;fill-rule:evenodd;stroke:#000000;stroke-width:2.0px;stroke-linecap:butt;stroke-linejoin:miter;stroke-opacity:1\"/>\n",
       "<path class=\"bond-5 atom-2 atom-0\" d=\"M 179.5,108.9 L 250.0,150.0\" style=\"fill:none;fill-rule:evenodd;stroke:#000000;stroke-width:2.0px;stroke-linecap:butt;stroke-linejoin:miter;stroke-opacity:1\"/>\n",
       "<path class=\"bond-6 atom-1 atom-5\" d=\"M 179.2,190.5 L 112.5,202.1\" style=\"fill:none;fill-rule:evenodd;stroke:#000000;stroke-width:2.0px;stroke-linecap:butt;stroke-linejoin:miter;stroke-opacity:1\"/>\n",
       "<path class=\"bond-7 atom-1 atom-6\" d=\"M 179.2,190.5 L 200.7,250.5\" style=\"fill:none;fill-rule:evenodd;stroke:#000000;stroke-width:2.0px;stroke-linecap:butt;stroke-linejoin:miter;stroke-opacity:1\"/>\n",
       "<path class=\"bond-8 atom-2 atom-7\" d=\"M 179.5,108.9 L 201.5,49.2\" style=\"fill:none;fill-rule:evenodd;stroke:#000000;stroke-width:2.0px;stroke-linecap:butt;stroke-linejoin:miter;stroke-opacity:1\"/>\n",
       "<path class=\"bond-9 atom-2 atom-8\" d=\"M 179.5,108.9 L 112.9,96.9\" style=\"fill:none;fill-rule:evenodd;stroke:#000000;stroke-width:2.0px;stroke-linecap:butt;stroke-linejoin:miter;stroke-opacity:1\"/>\n",
       "<path class=\"bond-10 atom-3 atom-9\" d=\"M 320.8,109.5 L 387.5,97.9\" style=\"fill:none;fill-rule:evenodd;stroke:#000000;stroke-width:2.0px;stroke-linecap:butt;stroke-linejoin:miter;stroke-opacity:1\"/>\n",
       "<path class=\"bond-11 atom-3 atom-10\" d=\"M 320.8,109.5 L 299.3,49.5\" style=\"fill:none;fill-rule:evenodd;stroke:#000000;stroke-width:2.0px;stroke-linecap:butt;stroke-linejoin:miter;stroke-opacity:1\"/>\n",
       "<path class=\"bond-12 atom-4 atom-11\" d=\"M 320.5,191.1 L 298.5,250.8\" style=\"fill:none;fill-rule:evenodd;stroke:#000000;stroke-width:2.0px;stroke-linecap:butt;stroke-linejoin:miter;stroke-opacity:1\"/>\n",
       "<path class=\"bond-13 atom-4 atom-12\" d=\"M 320.5,191.1 L 387.1,203.1\" style=\"fill:none;fill-rule:evenodd;stroke:#000000;stroke-width:2.0px;stroke-linecap:butt;stroke-linejoin:miter;stroke-opacity:1\"/>\n",
       "<path class=\"atom-5\" d=\"M 87.7 190.3 L 91.5 190.3 L 91.5 202.3 L 106.0 202.3 L 106.0 190.3 L 109.8 190.3 L 109.8 218.6 L 106.0 218.6 L 106.0 205.5 L 91.5 205.5 L 91.5 218.6 L 87.7 218.6 L 87.7 190.3 \" fill=\"#000000\"/>\n",
       "<path class=\"atom-6\" d=\"M 195.7 253.2 L 199.6 253.2 L 199.6 265.2 L 214.0 265.2 L 214.0 253.2 L 217.9 253.2 L 217.9 281.5 L 214.0 281.5 L 214.0 268.4 L 199.6 268.4 L 199.6 281.5 L 195.7 281.5 L 195.7 253.2 \" fill=\"#000000\"/>\n",
       "<path class=\"atom-7\" d=\"M 196.6 18.2 L 200.4 18.2 L 200.4 30.2 L 214.9 30.2 L 214.9 18.2 L 218.7 18.2 L 218.7 46.5 L 214.9 46.5 L 214.9 33.4 L 200.4 33.4 L 200.4 46.5 L 196.6 46.5 L 196.6 18.2 \" fill=\"#000000\"/>\n",
       "<path class=\"atom-8\" d=\"M 88.1 80.3 L 91.9 80.3 L 91.9 92.3 L 106.4 92.3 L 106.4 80.3 L 110.2 80.3 L 110.2 108.6 L 106.4 108.6 L 106.4 95.5 L 91.9 95.5 L 91.9 108.6 L 88.1 108.6 L 88.1 80.3 \" fill=\"#000000\"/>\n",
       "<path class=\"atom-9\" d=\"M 390.2 81.4 L 394.0 81.4 L 394.0 93.4 L 408.5 93.4 L 408.5 81.4 L 412.3 81.4 L 412.3 109.7 L 408.5 109.7 L 408.5 96.6 L 394.0 96.6 L 394.0 109.7 L 390.2 109.7 L 390.2 81.4 \" fill=\"#000000\"/>\n",
       "<path class=\"atom-10\" d=\"M 282.1 18.5 L 286.0 18.5 L 286.0 30.5 L 300.4 30.5 L 300.4 18.5 L 304.3 18.5 L 304.3 46.8 L 300.4 46.8 L 300.4 33.7 L 286.0 33.7 L 286.0 46.8 L 282.1 46.8 L 282.1 18.5 \" fill=\"#000000\"/>\n",
       "<path class=\"atom-11\" d=\"M 281.3 253.5 L 285.1 253.5 L 285.1 265.5 L 299.6 265.5 L 299.6 253.5 L 303.4 253.5 L 303.4 281.8 L 299.6 281.8 L 299.6 268.7 L 285.1 268.7 L 285.1 281.8 L 281.3 281.8 L 281.3 253.5 \" fill=\"#000000\"/>\n",
       "<path class=\"atom-12\" d=\"M 389.8 191.4 L 393.6 191.4 L 393.6 203.4 L 408.1 203.4 L 408.1 191.4 L 411.9 191.4 L 411.9 219.7 L 408.1 219.7 L 408.1 206.6 L 393.6 206.6 L 393.6 219.7 L 389.8 219.7 L 389.8 191.4 \" fill=\"#000000\"/>\n",
       "</svg>"
      ],
      "text/plain": [
       "<IPython.core.display.SVG object>"
      ]
     },
     "metadata": {},
     "output_type": "display_data"
    }
   ],
   "source": [
    "topo = r3r3_spiro.to_topology()\n",
    "get_forces(topo)\n",
    "\n",
    "r3r3_spiro"
   ]
  },
  {
   "cell_type": "code",
   "execution_count": 31,
   "metadata": {},
   "outputs": [
    {
     "name": "stdout",
     "output_type": "stream",
     "text": [
      "[6, 6, 6, 6, 6, 6, 6, 6, 6, 1, 1, 1, 1, 1, 1, 1, 1, 1, 1, 1, 1, 1, 1, 1, 1]\n",
      "Forces for molecule 0\n",
      "\n",
      "Angles:\n",
      "atoms:   0  1  2  parameter_id: a41  smirks [*;r5:1]@1[*;r5:2]@[*;r5:3]@[r5]@[r5]@1\n",
      "atoms:   0  4  3  parameter_id: a41  smirks [*;r5:1]@1[*;r5:2]@[*;r5:3]@[r5]@[r5]@1\n",
      "atoms:   0  5  6  parameter_id: a41  smirks [*;r5:1]@1[*;r5:2]@[*;r5:3]@[r5]@[r5]@1\n",
      "atoms:   0  8  7  parameter_id: a41  smirks [*;r5:1]@1[*;r5:2]@[*;r5:3]@[r5]@[r5]@1\n",
      "atoms:   1  0  4  parameter_id: a41  smirks [*;r5:1]@1[*;r5:2]@[*;r5:3]@[r5]@[r5]@1\n",
      "atoms:   1  0  5  parameter_id: a1  smirks [*:1]~[#6X4:2]-[*:3]\n",
      "atoms:   1  0  8  parameter_id: a1  smirks [*:1]~[#6X4:2]-[*:3]\n",
      "atoms:   1  2  3  parameter_id: a41  smirks [*;r5:1]@1[*;r5:2]@[*;r5:3]@[r5]@[r5]@1\n",
      "atoms:   2  3  4  parameter_id: a41  smirks [*;r5:1]@1[*;r5:2]@[*;r5:3]@[r5]@[r5]@1\n",
      "atoms:   4  0  5  parameter_id: a1  smirks [*:1]~[#6X4:2]-[*:3]\n",
      "atoms:   4  0  8  parameter_id: a1  smirks [*:1]~[#6X4:2]-[*:3]\n",
      "atoms:   5  0  8  parameter_id: a41  smirks [*;r5:1]@1[*;r5:2]@[*;r5:3]@[r5]@[r5]@1\n",
      "atoms:   5  6  7  parameter_id: a41  smirks [*;r5:1]@1[*;r5:2]@[*;r5:3]@[r5]@[r5]@1\n",
      "atoms:   6  7  8  parameter_id: a41  smirks [*;r5:1]@1[*;r5:2]@[*;r5:3]@[r5]@[r5]@1\n"
     ]
    },
    {
     "data": {
      "image/svg+xml": [
       "<svg xmlns=\"http://www.w3.org/2000/svg\" xmlns:rdkit=\"http://www.rdkit.org/xml\" xmlns:xlink=\"http://www.w3.org/1999/xlink\" version=\"1.1\" baseProfile=\"full\" xml:space=\"preserve\" width=\"500px\" height=\"300px\" viewBox=\"0 0 500 300\">\n",
       "<!-- END OF HEADER -->\n",
       "<rect style=\"opacity:1.0;fill:#FFFFFF;stroke:none\" width=\"500.0\" height=\"300.0\" x=\"0.0\" y=\"0.0\"> </rect>\n",
       "<path class=\"bond-0 atom-0 atom-1\" d=\"M 249.9,150.0 L 208.6,94.5\" style=\"fill:none;fill-rule:evenodd;stroke:#000000;stroke-width:2.0px;stroke-linecap:butt;stroke-linejoin:miter;stroke-opacity:1\"/>\n",
       "<path class=\"bond-1 atom-1 atom-2\" d=\"M 208.6,94.5 L 144.0,116.1\" style=\"fill:none;fill-rule:evenodd;stroke:#000000;stroke-width:2.0px;stroke-linecap:butt;stroke-linejoin:miter;stroke-opacity:1\"/>\n",
       "<path class=\"bond-2 atom-2 atom-3\" d=\"M 144.0,116.1 L 143.9,183.9\" style=\"fill:none;fill-rule:evenodd;stroke:#000000;stroke-width:2.0px;stroke-linecap:butt;stroke-linejoin:miter;stroke-opacity:1\"/>\n",
       "<path class=\"bond-3 atom-3 atom-4\" d=\"M 143.9,183.9 L 207.6,205.6\" style=\"fill:none;fill-rule:evenodd;stroke:#000000;stroke-width:2.0px;stroke-linecap:butt;stroke-linejoin:miter;stroke-opacity:1\"/>\n",
       "<path class=\"bond-4 atom-0 atom-5\" d=\"M 249.9,150.0 L 291.5,205.5\" style=\"fill:none;fill-rule:evenodd;stroke:#000000;stroke-width:2.0px;stroke-linecap:butt;stroke-linejoin:miter;stroke-opacity:1\"/>\n",
       "<path class=\"bond-5 atom-5 atom-6\" d=\"M 291.5,205.5 L 355.9,183.9\" style=\"fill:none;fill-rule:evenodd;stroke:#000000;stroke-width:2.0px;stroke-linecap:butt;stroke-linejoin:miter;stroke-opacity:1\"/>\n",
       "<path class=\"bond-6 atom-6 atom-7\" d=\"M 355.9,183.9 L 356.3,116.0\" style=\"fill:none;fill-rule:evenodd;stroke:#000000;stroke-width:2.0px;stroke-linecap:butt;stroke-linejoin:miter;stroke-opacity:1\"/>\n",
       "<path class=\"bond-7 atom-7 atom-8\" d=\"M 356.3,116.0 L 292.5,94.5\" style=\"fill:none;fill-rule:evenodd;stroke:#000000;stroke-width:2.0px;stroke-linecap:butt;stroke-linejoin:miter;stroke-opacity:1\"/>\n",
       "<path class=\"bond-8 atom-8 atom-0\" d=\"M 292.5,94.5 L 249.9,150.0\" style=\"fill:none;fill-rule:evenodd;stroke:#000000;stroke-width:2.0px;stroke-linecap:butt;stroke-linejoin:miter;stroke-opacity:1\"/>\n",
       "<path class=\"bond-9 atom-4 atom-0\" d=\"M 207.6,205.6 L 249.9,150.0\" style=\"fill:none;fill-rule:evenodd;stroke:#000000;stroke-width:2.0px;stroke-linecap:butt;stroke-linejoin:miter;stroke-opacity:1\"/>\n",
       "<path class=\"bond-10 atom-1 atom-9\" d=\"M 208.6,94.5 L 181.8,53.6\" style=\"fill:none;fill-rule:evenodd;stroke:#000000;stroke-width:2.0px;stroke-linecap:butt;stroke-linejoin:miter;stroke-opacity:1\"/>\n",
       "<path class=\"bond-11 atom-1 atom-10\" d=\"M 208.6,94.5 L 233.5,54.5\" style=\"fill:none;fill-rule:evenodd;stroke:#000000;stroke-width:2.0px;stroke-linecap:butt;stroke-linejoin:miter;stroke-opacity:1\"/>\n",
       "<path class=\"bond-12 atom-2 atom-11\" d=\"M 144.0,116.1 L 90.4,125.1\" style=\"fill:none;fill-rule:evenodd;stroke:#000000;stroke-width:2.0px;stroke-linecap:butt;stroke-linejoin:miter;stroke-opacity:1\"/>\n",
       "<path class=\"bond-13 atom-2 atom-12\" d=\"M 144.0,116.1 L 126.2,70.5\" style=\"fill:none;fill-rule:evenodd;stroke:#000000;stroke-width:2.0px;stroke-linecap:butt;stroke-linejoin:miter;stroke-opacity:1\"/>\n",
       "<path class=\"bond-14 atom-3 atom-13\" d=\"M 143.9,183.9 L 134.9,234.5\" style=\"fill:none;fill-rule:evenodd;stroke:#000000;stroke-width:2.0px;stroke-linecap:butt;stroke-linejoin:miter;stroke-opacity:1\"/>\n",
       "<path class=\"bond-15 atom-3 atom-14\" d=\"M 143.9,183.9 L 90.7,181.7\" style=\"fill:none;fill-rule:evenodd;stroke:#000000;stroke-width:2.0px;stroke-linecap:butt;stroke-linejoin:miter;stroke-opacity:1\"/>\n",
       "<path class=\"bond-16 atom-4 atom-15\" d=\"M 207.6,205.6 L 219.1,204.0\" style=\"fill:none;fill-rule:evenodd;stroke:#000000;stroke-width:2.0px;stroke-linecap:butt;stroke-linejoin:miter;stroke-opacity:1\"/>\n",
       "<path class=\"bond-17 atom-4 atom-16\" d=\"M 207.6,205.6 L 198.6,254.4\" style=\"fill:none;fill-rule:evenodd;stroke:#000000;stroke-width:2.0px;stroke-linecap:butt;stroke-linejoin:miter;stroke-opacity:1\"/>\n",
       "<path class=\"bond-18 atom-5 atom-17\" d=\"M 291.5,205.5 L 318.3,246.3\" style=\"fill:none;fill-rule:evenodd;stroke:#000000;stroke-width:2.0px;stroke-linecap:butt;stroke-linejoin:miter;stroke-opacity:1\"/>\n",
       "<path class=\"bond-19 atom-5 atom-18\" d=\"M 291.5,205.5 L 266.6,245.4\" style=\"fill:none;fill-rule:evenodd;stroke:#000000;stroke-width:2.0px;stroke-linecap:butt;stroke-linejoin:miter;stroke-opacity:1\"/>\n",
       "<path class=\"bond-20 atom-6 atom-19\" d=\"M 355.9,183.9 L 409.6,174.9\" style=\"fill:none;fill-rule:evenodd;stroke:#000000;stroke-width:2.0px;stroke-linecap:butt;stroke-linejoin:miter;stroke-opacity:1\"/>\n",
       "<path class=\"bond-21 atom-6 atom-20\" d=\"M 355.9,183.9 L 373.7,229.5\" style=\"fill:none;fill-rule:evenodd;stroke:#000000;stroke-width:2.0px;stroke-linecap:butt;stroke-linejoin:miter;stroke-opacity:1\"/>\n",
       "<path class=\"bond-22 atom-7 atom-21\" d=\"M 356.3,116.0 L 365.2,65.5\" style=\"fill:none;fill-rule:evenodd;stroke:#000000;stroke-width:2.0px;stroke-linecap:butt;stroke-linejoin:miter;stroke-opacity:1\"/>\n",
       "<path class=\"bond-23 atom-7 atom-22\" d=\"M 356.3,116.0 L 409.4,118.3\" style=\"fill:none;fill-rule:evenodd;stroke:#000000;stroke-width:2.0px;stroke-linecap:butt;stroke-linejoin:miter;stroke-opacity:1\"/>\n",
       "<path class=\"bond-24 atom-8 atom-23\" d=\"M 292.5,94.5 L 280.8,96.1\" style=\"fill:none;fill-rule:evenodd;stroke:#000000;stroke-width:2.0px;stroke-linecap:butt;stroke-linejoin:miter;stroke-opacity:1\"/>\n",
       "<path class=\"bond-25 atom-8 atom-24\" d=\"M 292.5,94.5 L 301.5,45.6\" style=\"fill:none;fill-rule:evenodd;stroke:#000000;stroke-width:2.0px;stroke-linecap:butt;stroke-linejoin:miter;stroke-opacity:1\"/>\n",
       "<path class=\"atom-9\" d=\"M 160.0 23.2 L 163.9 23.2 L 163.9 35.2 L 178.4 35.2 L 178.4 23.2 L 182.2 23.2 L 182.2 51.5 L 178.4 51.5 L 178.4 38.4 L 163.9 38.4 L 163.9 51.5 L 160.0 51.5 L 160.0 23.2 \" fill=\"#000000\"/>\n",
       "<path class=\"atom-10\" d=\"M 232.6 24.1 L 236.4 24.1 L 236.4 36.1 L 250.9 36.1 L 250.9 24.1 L 254.7 24.1 L 254.7 52.4 L 250.9 52.4 L 250.9 39.3 L 236.4 39.3 L 236.4 52.4 L 232.6 52.4 L 232.6 24.1 \" fill=\"#000000\"/>\n",
       "<path class=\"atom-11\" d=\"M 66.2 113.1 L 70.0 113.1 L 70.0 125.2 L 84.5 125.2 L 84.5 113.1 L 88.3 113.1 L 88.3 141.5 L 84.5 141.5 L 84.5 128.4 L 70.0 128.4 L 70.0 141.5 L 66.2 141.5 L 66.2 113.1 \" fill=\"#000000\"/>\n",
       "<path class=\"atom-12\" d=\"M 108.8 40.1 L 112.6 40.1 L 112.6 52.1 L 127.1 52.1 L 127.1 40.1 L 130.9 40.1 L 130.9 68.4 L 127.1 68.4 L 127.1 55.3 L 112.6 55.3 L 112.6 68.4 L 108.8 68.4 L 108.8 40.1 \" fill=\"#000000\"/>\n",
       "<path class=\"atom-13\" d=\"M 120.9 236.6 L 124.7 236.6 L 124.7 248.6 L 139.2 248.6 L 139.2 236.6 L 143.0 236.6 L 143.0 264.9 L 139.2 264.9 L 139.2 251.8 L 124.7 251.8 L 124.7 264.9 L 120.9 264.9 L 120.9 236.6 \" fill=\"#000000\"/>\n",
       "<path class=\"atom-14\" d=\"M 66.4 167.0 L 70.2 167.0 L 70.2 179.1 L 84.7 179.1 L 84.7 167.0 L 88.6 167.0 L 88.6 195.4 L 84.7 195.4 L 84.7 182.3 L 70.2 182.3 L 70.2 195.4 L 66.4 195.4 L 66.4 167.0 \" fill=\"#000000\"/>\n",
       "<path class=\"atom-15\" d=\"M 221.2 187.9 L 225.1 187.9 L 225.1 200.0 L 239.5 200.0 L 239.5 187.9 L 243.4 187.9 L 243.4 216.2 L 239.5 216.2 L 239.5 203.2 L 225.1 203.2 L 225.1 216.2 L 221.2 216.2 L 221.2 187.9 \" fill=\"#000000\"/>\n",
       "<path class=\"atom-16\" d=\"M 184.5 256.5 L 188.4 256.5 L 188.4 268.6 L 202.8 268.6 L 202.8 256.5 L 206.7 256.5 L 206.7 284.9 L 202.8 284.9 L 202.8 271.8 L 188.4 271.8 L 188.4 284.9 L 184.5 284.9 L 184.5 256.5 \" fill=\"#000000\"/>\n",
       "<path class=\"atom-17\" d=\"M 317.9 248.5 L 321.7 248.5 L 321.7 260.5 L 336.2 260.5 L 336.2 248.5 L 340.0 248.5 L 340.0 276.8 L 336.2 276.8 L 336.2 263.7 L 321.7 263.7 L 321.7 276.8 L 317.9 276.8 L 317.9 248.5 \" fill=\"#000000\"/>\n",
       "<path class=\"atom-18\" d=\"M 245.3 247.6 L 249.1 247.6 L 249.1 259.6 L 263.6 259.6 L 263.6 247.6 L 267.5 247.6 L 267.5 275.9 L 263.6 275.9 L 263.6 262.8 L 249.1 262.8 L 249.1 275.9 L 245.3 275.9 L 245.3 247.6 \" fill=\"#000000\"/>\n",
       "<path class=\"atom-19\" d=\"M 411.7 158.5 L 415.5 158.5 L 415.5 170.5 L 430.0 170.5 L 430.0 158.5 L 433.8 158.5 L 433.8 186.8 L 430.0 186.8 L 430.0 173.7 L 415.5 173.7 L 415.5 186.8 L 411.7 186.8 L 411.7 158.5 \" fill=\"#000000\"/>\n",
       "<path class=\"atom-20\" d=\"M 368.9 231.7 L 372.8 231.7 L 372.8 243.7 L 387.3 243.7 L 387.3 231.7 L 391.1 231.7 L 391.1 260.0 L 387.3 260.0 L 387.3 246.9 L 372.8 246.9 L 372.8 260.0 L 368.9 260.0 L 368.9 231.7 \" fill=\"#000000\"/>\n",
       "<path class=\"atom-21\" d=\"M 357.0 35.1 L 360.8 35.1 L 360.8 47.1 L 375.3 47.1 L 375.3 35.1 L 379.1 35.1 L 379.1 63.4 L 375.3 63.4 L 375.3 50.3 L 360.8 50.3 L 360.8 63.4 L 357.0 63.4 L 357.0 35.1 \" fill=\"#000000\"/>\n",
       "<path class=\"atom-22\" d=\"M 411.5 104.7 L 415.3 104.7 L 415.3 116.8 L 429.8 116.8 L 429.8 104.7 L 433.6 104.7 L 433.6 133.1 L 429.8 133.1 L 429.8 120.0 L 415.3 120.0 L 415.3 133.1 L 411.5 133.1 L 411.5 104.7 \" fill=\"#000000\"/>\n",
       "<path class=\"atom-23\" d=\"M 256.5 83.8 L 260.4 83.8 L 260.4 95.8 L 274.9 95.8 L 274.9 83.8 L 278.7 83.8 L 278.7 112.1 L 274.9 112.1 L 274.9 99.0 L 260.4 99.0 L 260.4 112.1 L 256.5 112.1 L 256.5 83.8 \" fill=\"#000000\"/>\n",
       "<path class=\"atom-24\" d=\"M 293.4 15.1 L 297.2 15.1 L 297.2 27.2 L 311.7 27.2 L 311.7 15.1 L 315.5 15.1 L 315.5 43.5 L 311.7 43.5 L 311.7 30.4 L 297.2 30.4 L 297.2 43.5 L 293.4 43.5 L 293.4 15.1 \" fill=\"#000000\"/>\n",
       "</svg>"
      ],
      "text/plain": [
       "<IPython.core.display.SVG object>"
      ]
     },
     "metadata": {},
     "output_type": "display_data"
    }
   ],
   "source": [
    "topo = r5r5_spiro.to_topology()\n",
    "get_forces(topo)\n",
    "\n",
    "r5r5_spiro"
   ]
  },
  {
   "cell_type": "code",
   "execution_count": 32,
   "metadata": {},
   "outputs": [
    {
     "name": "stdout",
     "output_type": "stream",
     "text": [
      "[6, 6, 6, 6, 6, 6, 6, 6, 1, 1, 1, 1, 1, 1, 1, 1, 1, 1, 1, 1, 1, 1]\n",
      "Forces for molecule 0\n",
      "\n",
      "Angles:\n",
      "atoms:   0  1  2  parameter_id: a41  smirks [*;r5:1]@1[*;r5:2]@[*;r5:3]@[r5]@[r5]@1\n",
      "atoms:   0  4  3  parameter_id: a41  smirks [*;r5:1]@1[*;r5:2]@[*;r5:3]@[r5]@[r5]@1\n",
      "atoms:   0  4  5  parameter_id: a41  smirks [*;r5:1]@1[*;r5:2]@[*;r5:3]@[r5]@[r5]@1\n",
      "atoms:   0  7  6  parameter_id: a41  smirks [*;r5:1]@1[*;r5:2]@[*;r5:3]@[r5]@[r5]@1\n",
      "atoms:   1  0  4  parameter_id: a41  smirks [*;r5:1]@1[*;r5:2]@[*;r5:3]@[r5]@[r5]@1\n",
      "atoms:   1  0  7  parameter_id: a1  smirks [*:1]~[#6X4:2]-[*:3]\n",
      "atoms:   1  2  3  parameter_id: a41  smirks [*;r5:1]@1[*;r5:2]@[*;r5:3]@[r5]@[r5]@1\n",
      "atoms:   2  3  4  parameter_id: a41  smirks [*;r5:1]@1[*;r5:2]@[*;r5:3]@[r5]@[r5]@1\n",
      "atoms:   3  4  5  parameter_id: a1  smirks [*:1]~[#6X4:2]-[*:3]\n",
      "atoms:   4  0  7  parameter_id: a41  smirks [*;r5:1]@1[*;r5:2]@[*;r5:3]@[r5]@[r5]@1\n",
      "atoms:   4  5  6  parameter_id: a41  smirks [*;r5:1]@1[*;r5:2]@[*;r5:3]@[r5]@[r5]@1\n",
      "atoms:   5  6  7  parameter_id: a41  smirks [*;r5:1]@1[*;r5:2]@[*;r5:3]@[r5]@[r5]@1\n"
     ]
    },
    {
     "data": {
      "image/svg+xml": [
       "<svg xmlns=\"http://www.w3.org/2000/svg\" xmlns:rdkit=\"http://www.rdkit.org/xml\" xmlns:xlink=\"http://www.w3.org/1999/xlink\" version=\"1.1\" baseProfile=\"full\" xml:space=\"preserve\" width=\"500px\" height=\"300px\" viewBox=\"0 0 500 300\">\n",
       "<!-- END OF HEADER -->\n",
       "<rect style=\"opacity:1.0;fill:#FFFFFF;stroke:none\" width=\"500.0\" height=\"300.0\" x=\"0.0\" y=\"0.0\"> </rect>\n",
       "<path class=\"bond-0 atom-0 atom-1\" d=\"M 249.9,184.0 L 184.8,205.1\" style=\"fill:none;fill-rule:evenodd;stroke:#000000;stroke-width:2.0px;stroke-linecap:butt;stroke-linejoin:miter;stroke-opacity:1\"/>\n",
       "<path class=\"bond-1 atom-1 atom-2\" d=\"M 184.8,205.1 L 145.0,149.8\" style=\"fill:none;fill-rule:evenodd;stroke:#000000;stroke-width:2.0px;stroke-linecap:butt;stroke-linejoin:miter;stroke-opacity:1\"/>\n",
       "<path class=\"bond-2 atom-2 atom-3\" d=\"M 145.0,149.8 L 185.0,94.7\" style=\"fill:none;fill-rule:evenodd;stroke:#000000;stroke-width:2.0px;stroke-linecap:butt;stroke-linejoin:miter;stroke-opacity:1\"/>\n",
       "<path class=\"bond-3 atom-3 atom-4\" d=\"M 185.0,94.7 L 250.1,116.0\" style=\"fill:none;fill-rule:evenodd;stroke:#000000;stroke-width:2.0px;stroke-linecap:butt;stroke-linejoin:miter;stroke-opacity:1\"/>\n",
       "<path class=\"bond-4 atom-4 atom-5\" d=\"M 250.1,116.0 L 315.2,94.9\" style=\"fill:none;fill-rule:evenodd;stroke:#000000;stroke-width:2.0px;stroke-linecap:butt;stroke-linejoin:miter;stroke-opacity:1\"/>\n",
       "<path class=\"bond-5 atom-5 atom-6\" d=\"M 315.2,94.9 L 355.0,150.2\" style=\"fill:none;fill-rule:evenodd;stroke:#000000;stroke-width:2.0px;stroke-linecap:butt;stroke-linejoin:miter;stroke-opacity:1\"/>\n",
       "<path class=\"bond-6 atom-6 atom-7\" d=\"M 355.0,150.2 L 315.0,205.3\" style=\"fill:none;fill-rule:evenodd;stroke:#000000;stroke-width:2.0px;stroke-linecap:butt;stroke-linejoin:miter;stroke-opacity:1\"/>\n",
       "<path class=\"bond-7 atom-7 atom-0\" d=\"M 315.0,205.3 L 249.9,184.0\" style=\"fill:none;fill-rule:evenodd;stroke:#000000;stroke-width:2.0px;stroke-linecap:butt;stroke-linejoin:miter;stroke-opacity:1\"/>\n",
       "<path class=\"bond-8 atom-4 atom-0\" d=\"M 250.1,116.0 L 249.9,184.0\" style=\"fill:none;fill-rule:evenodd;stroke:#000000;stroke-width:2.0px;stroke-linecap:butt;stroke-linejoin:miter;stroke-opacity:1\"/>\n",
       "<path class=\"bond-9 atom-0 atom-8\" d=\"M 249.9,184.0 L 249.7,217.3\" style=\"fill:none;fill-rule:evenodd;stroke:#000000;stroke-width:2.0px;stroke-linecap:butt;stroke-linejoin:miter;stroke-opacity:1\"/>\n",
       "<path class=\"bond-10 atom-1 atom-9\" d=\"M 184.8,205.1 L 138.8,230.4\" style=\"fill:none;fill-rule:evenodd;stroke:#000000;stroke-width:2.0px;stroke-linecap:butt;stroke-linejoin:miter;stroke-opacity:1\"/>\n",
       "<path class=\"bond-11 atom-1 atom-10\" d=\"M 184.8,205.1 L 199.1,254.2\" style=\"fill:none;fill-rule:evenodd;stroke:#000000;stroke-width:2.0px;stroke-linecap:butt;stroke-linejoin:miter;stroke-opacity:1\"/>\n",
       "<path class=\"bond-12 atom-2 atom-11\" d=\"M 145.0,149.8 L 106.7,117.2\" style=\"fill:none;fill-rule:evenodd;stroke:#000000;stroke-width:2.0px;stroke-linecap:butt;stroke-linejoin:miter;stroke-opacity:1\"/>\n",
       "<path class=\"bond-13 atom-2 atom-12\" d=\"M 145.0,149.8 L 106.6,182.5\" style=\"fill:none;fill-rule:evenodd;stroke:#000000;stroke-width:2.0px;stroke-linecap:butt;stroke-linejoin:miter;stroke-opacity:1\"/>\n",
       "<path class=\"bond-14 atom-3 atom-13\" d=\"M 185.0,94.7 L 199.8,45.9\" style=\"fill:none;fill-rule:evenodd;stroke:#000000;stroke-width:2.0px;stroke-linecap:butt;stroke-linejoin:miter;stroke-opacity:1\"/>\n",
       "<path class=\"bond-15 atom-3 atom-14\" d=\"M 185.0,94.7 L 139.2,69.2\" style=\"fill:none;fill-rule:evenodd;stroke:#000000;stroke-width:2.0px;stroke-linecap:butt;stroke-linejoin:miter;stroke-opacity:1\"/>\n",
       "<path class=\"bond-16 atom-4 atom-15\" d=\"M 250.1,116.0 L 250.3,82.7\" style=\"fill:none;fill-rule:evenodd;stroke:#000000;stroke-width:2.0px;stroke-linecap:butt;stroke-linejoin:miter;stroke-opacity:1\"/>\n",
       "<path class=\"bond-17 atom-5 atom-16\" d=\"M 315.2,94.9 L 361.2,69.6\" style=\"fill:none;fill-rule:evenodd;stroke:#000000;stroke-width:2.0px;stroke-linecap:butt;stroke-linejoin:miter;stroke-opacity:1\"/>\n",
       "<path class=\"bond-18 atom-5 atom-17\" d=\"M 315.2,94.9 L 300.9,45.8\" style=\"fill:none;fill-rule:evenodd;stroke:#000000;stroke-width:2.0px;stroke-linecap:butt;stroke-linejoin:miter;stroke-opacity:1\"/>\n",
       "<path class=\"bond-19 atom-6 atom-18\" d=\"M 355.0,150.2 L 393.2,182.9\" style=\"fill:none;fill-rule:evenodd;stroke:#000000;stroke-width:2.0px;stroke-linecap:butt;stroke-linejoin:miter;stroke-opacity:1\"/>\n",
       "<path class=\"bond-20 atom-6 atom-19\" d=\"M 355.0,150.2 L 393.4,117.5\" style=\"fill:none;fill-rule:evenodd;stroke:#000000;stroke-width:2.0px;stroke-linecap:butt;stroke-linejoin:miter;stroke-opacity:1\"/>\n",
       "<path class=\"bond-21 atom-7 atom-20\" d=\"M 315.0,205.3 L 300.2,254.1\" style=\"fill:none;fill-rule:evenodd;stroke:#000000;stroke-width:2.0px;stroke-linecap:butt;stroke-linejoin:miter;stroke-opacity:1\"/>\n",
       "<path class=\"bond-22 atom-7 atom-21\" d=\"M 315.0,205.3 L 360.9,230.7\" style=\"fill:none;fill-rule:evenodd;stroke:#000000;stroke-width:2.0px;stroke-linecap:butt;stroke-linejoin:miter;stroke-opacity:1\"/>\n",
       "<path class=\"atom-8\" d=\"M 238.4 219.5 L 242.3 219.5 L 242.3 231.6 L 256.8 231.6 L 256.8 219.5 L 260.6 219.5 L 260.6 247.9 L 256.8 247.9 L 256.8 234.8 L 242.3 234.8 L 242.3 247.9 L 238.4 247.9 L 238.4 219.5 \" fill=\"#000000\"/>\n",
       "<path class=\"atom-9\" d=\"M 114.4 223.5 L 118.3 223.5 L 118.3 235.6 L 132.7 235.6 L 132.7 223.5 L 136.6 223.5 L 136.6 251.8 L 132.7 251.8 L 132.7 238.8 L 118.3 238.8 L 118.3 251.8 L 114.4 251.8 L 114.4 223.5 \" fill=\"#000000\"/>\n",
       "<path class=\"atom-10\" d=\"M 192.7 256.4 L 196.6 256.4 L 196.6 268.4 L 211.1 268.4 L 211.1 256.4 L 214.9 256.4 L 214.9 284.7 L 211.1 284.7 L 211.1 271.6 L 196.6 271.6 L 196.6 284.7 L 192.7 284.7 L 192.7 256.4 \" fill=\"#000000\"/>\n",
       "<path class=\"atom-11\" d=\"M 82.4 91.7 L 86.2 91.7 L 86.2 103.7 L 100.7 103.7 L 100.7 91.7 L 104.5 91.7 L 104.5 120.0 L 100.7 120.0 L 100.7 106.9 L 86.2 106.9 L 86.2 120.0 L 82.4 120.0 L 82.4 91.7 \" fill=\"#000000\"/>\n",
       "<path class=\"atom-12\" d=\"M 82.2 179.6 L 86.1 179.6 L 86.1 191.6 L 100.5 191.6 L 100.5 179.6 L 104.4 179.6 L 104.4 207.9 L 100.5 207.9 L 100.5 194.8 L 86.1 194.8 L 86.1 207.9 L 82.2 207.9 L 82.2 179.6 \" fill=\"#000000\"/>\n",
       "<path class=\"atom-13\" d=\"M 193.7 15.4 L 197.6 15.4 L 197.6 27.4 L 212.0 27.4 L 212.0 15.4 L 215.9 15.4 L 215.9 43.7 L 212.0 43.7 L 212.0 30.6 L 197.6 30.6 L 197.6 43.7 L 193.7 43.7 L 193.7 15.4 \" fill=\"#000000\"/>\n",
       "<path class=\"atom-14\" d=\"M 114.8 47.6 L 118.7 47.6 L 118.7 59.7 L 133.1 59.7 L 133.1 47.6 L 137.0 47.6 L 137.0 76.0 L 133.1 76.0 L 133.1 62.9 L 118.7 62.9 L 118.7 76.0 L 114.8 76.0 L 114.8 47.6 \" fill=\"#000000\"/>\n",
       "<path class=\"atom-15\" d=\"M 239.4 52.1 L 243.2 52.1 L 243.2 64.2 L 257.7 64.2 L 257.7 52.1 L 261.6 52.1 L 261.6 80.5 L 257.7 80.5 L 257.7 67.4 L 243.2 67.4 L 243.2 80.5 L 239.4 80.5 L 239.4 52.1 \" fill=\"#000000\"/>\n",
       "<path class=\"atom-16\" d=\"M 363.4 48.2 L 367.3 48.2 L 367.3 60.2 L 381.7 60.2 L 381.7 48.2 L 385.6 48.2 L 385.6 76.5 L 381.7 76.5 L 381.7 63.4 L 367.3 63.4 L 367.3 76.5 L 363.4 76.5 L 363.4 48.2 \" fill=\"#000000\"/>\n",
       "<path class=\"atom-17\" d=\"M 285.1 15.3 L 289.0 15.3 L 289.0 27.4 L 303.4 27.4 L 303.4 15.3 L 307.3 15.3 L 307.3 43.6 L 303.4 43.6 L 303.4 30.6 L 289.0 30.6 L 289.0 43.6 L 285.1 43.6 L 285.1 15.3 \" fill=\"#000000\"/>\n",
       "<path class=\"atom-18\" d=\"M 395.4 180.2 L 399.2 180.2 L 399.2 192.2 L 413.7 192.2 L 413.7 180.2 L 417.6 180.2 L 417.6 208.5 L 413.7 208.5 L 413.7 195.4 L 399.2 195.4 L 399.2 208.5 L 395.4 208.5 L 395.4 180.2 \" fill=\"#000000\"/>\n",
       "<path class=\"atom-19\" d=\"M 395.6 92.1 L 399.5 92.1 L 399.5 104.1 L 413.9 104.1 L 413.9 92.1 L 417.8 92.1 L 417.8 120.4 L 413.9 120.4 L 413.9 107.3 L 399.5 107.3 L 399.5 120.4 L 395.6 120.4 L 395.6 92.1 \" fill=\"#000000\"/>\n",
       "<path class=\"atom-20\" d=\"M 284.1 256.3 L 288.0 256.3 L 288.0 268.3 L 302.5 268.3 L 302.5 256.3 L 306.3 256.3 L 306.3 284.6 L 302.5 284.6 L 302.5 271.5 L 288.0 271.5 L 288.0 284.6 L 284.1 284.6 L 284.1 256.3 \" fill=\"#000000\"/>\n",
       "<path class=\"atom-21\" d=\"M 363.1 223.9 L 367.0 223.9 L 367.0 236.0 L 381.4 236.0 L 381.4 223.9 L 385.3 223.9 L 385.3 252.2 L 381.4 252.2 L 381.4 239.2 L 367.0 239.2 L 367.0 252.2 L 363.1 252.2 L 363.1 223.9 \" fill=\"#000000\"/>\n",
       "</svg>"
      ],
      "text/plain": [
       "<IPython.core.display.SVG object>"
      ]
     },
     "metadata": {},
     "output_type": "display_data"
    }
   ],
   "source": [
    "topo = r5r5_fuse.to_topology()\n",
    "get_forces(topo)\n",
    "\n",
    "r5r5_fuse"
   ]
  },
  {
   "cell_type": "markdown",
   "metadata": {},
   "source": [
    "For same-same fuse/spiro, all internal angles are correct, while external angles are correctly assigned a1"
   ]
  },
  {
   "cell_type": "code",
   "execution_count": 33,
   "metadata": {},
   "outputs": [
    {
     "name": "stdout",
     "output_type": "stream",
     "text": [
      "[6, 6, 6, 6, 6, 6, 1, 1, 1, 1, 1, 1, 1, 1, 1, 1]\n",
      "Forces for molecule 0\n",
      "\n",
      "Angles:\n",
      "atoms:   0  1  2  parameter_id: a1  smirks [*:1]~[#6X4:2]-[*:3]\n",
      "atoms:   0  1  3  parameter_id: a1  smirks [*:1]~[#6X4:2]-[*:3]\n",
      "atoms:   0  5  4  parameter_id: a1  smirks [*:1]~[#6X4:2]-[*:3]\n",
      "atoms:   1  0  5  parameter_id: a1  smirks [*:1]~[#6X4:2]-[*:3]\n",
      "atoms:   1  2  3  parameter_id: a3  smirks [*;r3:1]1~;@[*;r3:2]~;@[*;r3:3]1\n",
      "atoms:   1  3  2  parameter_id: a3  smirks [*;r3:1]1~;@[*;r3:2]~;@[*;r3:3]1\n",
      "atoms:   1  3  4  parameter_id: a1  smirks [*:1]~[#6X4:2]-[*:3]\n",
      "atoms:   2  1  3  parameter_id: a3  smirks [*;r3:1]1~;@[*;r3:2]~;@[*;r3:3]1\n",
      "atoms:   2  3  4  parameter_id: a1  smirks [*:1]~[#6X4:2]-[*:3]\n",
      "atoms:   3  4  5  parameter_id: a1  smirks [*:1]~[#6X4:2]-[*:3]\n"
     ]
    },
    {
     "data": {
      "image/svg+xml": [
       "<svg xmlns=\"http://www.w3.org/2000/svg\" xmlns:rdkit=\"http://www.rdkit.org/xml\" xmlns:xlink=\"http://www.w3.org/1999/xlink\" version=\"1.1\" baseProfile=\"full\" xml:space=\"preserve\" width=\"500px\" height=\"300px\" viewBox=\"0 0 500 300\">\n",
       "<!-- END OF HEADER -->\n",
       "<rect style=\"opacity:1.0;fill:#FFFFFF;stroke:none\" width=\"500.0\" height=\"300.0\" x=\"0.0\" y=\"0.0\"> </rect>\n",
       "<path class=\"bond-0 atom-0 atom-1\" d=\"M 289.3,93.5 L 223.0,115.1\" style=\"fill:none;fill-rule:evenodd;stroke:#000000;stroke-width:2.0px;stroke-linecap:butt;stroke-linejoin:miter;stroke-opacity:1\"/>\n",
       "<path class=\"bond-1 atom-1 atom-2\" d=\"M 223.0,115.1 L 162.6,150.1\" style=\"fill:none;fill-rule:evenodd;stroke:#000000;stroke-width:2.0px;stroke-linecap:butt;stroke-linejoin:miter;stroke-opacity:1\"/>\n",
       "<path class=\"bond-2 atom-2 atom-3\" d=\"M 162.6,150.1 L 223.1,184.9\" style=\"fill:none;fill-rule:evenodd;stroke:#000000;stroke-width:2.0px;stroke-linecap:butt;stroke-linejoin:miter;stroke-opacity:1\"/>\n",
       "<path class=\"bond-3 atom-3 atom-4\" d=\"M 223.1,184.9 L 289.4,206.4\" style=\"fill:none;fill-rule:evenodd;stroke:#000000;stroke-width:2.0px;stroke-linecap:butt;stroke-linejoin:miter;stroke-opacity:1\"/>\n",
       "<path class=\"bond-4 atom-4 atom-5\" d=\"M 289.4,206.4 L 330.4,149.9\" style=\"fill:none;fill-rule:evenodd;stroke:#000000;stroke-width:2.0px;stroke-linecap:butt;stroke-linejoin:miter;stroke-opacity:1\"/>\n",
       "<path class=\"bond-5 atom-5 atom-0\" d=\"M 330.4,149.9 L 289.3,93.5\" style=\"fill:none;fill-rule:evenodd;stroke:#000000;stroke-width:2.0px;stroke-linecap:butt;stroke-linejoin:miter;stroke-opacity:1\"/>\n",
       "<path class=\"bond-6 atom-3 atom-1\" d=\"M 223.1,184.9 L 223.0,115.1\" style=\"fill:none;fill-rule:evenodd;stroke:#000000;stroke-width:2.0px;stroke-linecap:butt;stroke-linejoin:miter;stroke-opacity:1\"/>\n",
       "<path class=\"bond-7 atom-0 atom-6\" d=\"M 289.3,93.5 L 268.2,46.3\" style=\"fill:none;fill-rule:evenodd;stroke:#000000;stroke-width:2.0px;stroke-linecap:butt;stroke-linejoin:miter;stroke-opacity:1\"/>\n",
       "<path class=\"bond-8 atom-0 atom-7\" d=\"M 289.3,93.5 L 336.3,66.3\" style=\"fill:none;fill-rule:evenodd;stroke:#000000;stroke-width:2.0px;stroke-linecap:butt;stroke-linejoin:miter;stroke-opacity:1\"/>\n",
       "<path class=\"bond-9 atom-1 atom-8\" d=\"M 223.0,115.1 L 201.9,67.9\" style=\"fill:none;fill-rule:evenodd;stroke:#000000;stroke-width:2.0px;stroke-linecap:butt;stroke-linejoin:miter;stroke-opacity:1\"/>\n",
       "<path class=\"bond-10 atom-2 atom-9\" d=\"M 162.6,150.1 L 131.2,187.6\" style=\"fill:none;fill-rule:evenodd;stroke:#000000;stroke-width:2.0px;stroke-linecap:butt;stroke-linejoin:miter;stroke-opacity:1\"/>\n",
       "<path class=\"bond-11 atom-2 atom-10\" d=\"M 162.6,150.1 L 131.1,112.6\" style=\"fill:none;fill-rule:evenodd;stroke:#000000;stroke-width:2.0px;stroke-linecap:butt;stroke-linejoin:miter;stroke-opacity:1\"/>\n",
       "<path class=\"bond-12 atom-3 atom-11\" d=\"M 223.1,184.9 L 202.0,232.2\" style=\"fill:none;fill-rule:evenodd;stroke:#000000;stroke-width:2.0px;stroke-linecap:butt;stroke-linejoin:miter;stroke-opacity:1\"/>\n",
       "<path class=\"bond-13 atom-4 atom-12\" d=\"M 289.4,206.4 L 336.5,233.5\" style=\"fill:none;fill-rule:evenodd;stroke:#000000;stroke-width:2.0px;stroke-linecap:butt;stroke-linejoin:miter;stroke-opacity:1\"/>\n",
       "<path class=\"bond-14 atom-4 atom-13\" d=\"M 289.4,206.4 L 268.4,253.7\" style=\"fill:none;fill-rule:evenodd;stroke:#000000;stroke-width:2.0px;stroke-linecap:butt;stroke-linejoin:miter;stroke-opacity:1\"/>\n",
       "<path class=\"bond-15 atom-5 atom-14\" d=\"M 330.4,149.9 L 368.8,115.3\" style=\"fill:none;fill-rule:evenodd;stroke:#000000;stroke-width:2.0px;stroke-linecap:butt;stroke-linejoin:miter;stroke-opacity:1\"/>\n",
       "<path class=\"bond-16 atom-5 atom-15\" d=\"M 330.4,149.9 L 368.9,184.6\" style=\"fill:none;fill-rule:evenodd;stroke:#000000;stroke-width:2.0px;stroke-linecap:butt;stroke-linejoin:miter;stroke-opacity:1\"/>\n",
       "<path class=\"atom-6\" d=\"M 249.8 15.7 L 253.7 15.7 L 253.7 27.7 L 268.1 27.7 L 268.1 15.7 L 272.0 15.7 L 272.0 44.0 L 268.1 44.0 L 268.1 30.9 L 253.7 30.9 L 253.7 44.0 L 249.8 44.0 L 249.8 15.7 \" fill=\"#000000\"/>\n",
       "<path class=\"atom-7\" d=\"M 338.6 44.4 L 342.5 44.4 L 342.5 56.5 L 357.0 56.5 L 357.0 44.4 L 360.8 44.4 L 360.8 72.8 L 357.0 72.8 L 357.0 59.7 L 342.5 59.7 L 342.5 72.8 L 338.6 72.8 L 338.6 44.4 \" fill=\"#000000\"/>\n",
       "<path class=\"atom-8\" d=\"M 183.5 37.3 L 187.3 37.3 L 187.3 49.3 L 201.8 49.3 L 201.8 37.3 L 205.6 37.3 L 205.6 65.6 L 201.8 65.6 L 201.8 52.5 L 187.3 52.5 L 187.3 65.6 L 183.5 65.6 L 183.5 37.3 \" fill=\"#000000\"/>\n",
       "<path class=\"atom-9\" d=\"M 106.7 189.4 L 110.6 189.4 L 110.6 201.4 L 125.0 201.4 L 125.0 189.4 L 128.9 189.4 L 128.9 217.7 L 125.0 217.7 L 125.0 204.6 L 110.6 204.6 L 110.6 217.7 L 106.7 217.7 L 106.7 189.4 \" fill=\"#000000\"/>\n",
       "<path class=\"atom-10\" d=\"M 106.6 82.5 L 110.5 82.5 L 110.5 94.6 L 125.0 94.6 L 125.0 82.5 L 128.8 82.5 L 128.8 110.8 L 125.0 110.8 L 125.0 97.8 L 110.5 97.8 L 110.5 110.8 L 106.6 110.8 L 106.6 82.5 \" fill=\"#000000\"/>\n",
       "<path class=\"atom-11\" d=\"M 183.6 234.5 L 187.5 234.5 L 187.5 246.5 L 202.0 246.5 L 202.0 234.5 L 205.8 234.5 L 205.8 262.8 L 202.0 262.8 L 202.0 249.7 L 187.5 249.7 L 187.5 262.8 L 183.6 262.8 L 183.6 234.5 \" fill=\"#000000\"/>\n",
       "<path class=\"atom-12\" d=\"M 338.8 227.1 L 342.6 227.1 L 342.6 239.1 L 357.1 239.1 L 357.1 227.1 L 361.0 227.1 L 361.0 255.4 L 357.1 255.4 L 357.1 242.3 L 342.6 242.3 L 342.6 255.4 L 338.8 255.4 L 338.8 227.1 \" fill=\"#000000\"/>\n",
       "<path class=\"atom-13\" d=\"M 250.0 256.0 L 253.8 256.0 L 253.8 268.1 L 268.3 268.1 L 268.3 256.0 L 272.2 256.0 L 272.2 284.3 L 268.3 284.3 L 268.3 271.3 L 253.8 271.3 L 253.8 284.3 L 250.0 284.3 L 250.0 256.0 \" fill=\"#000000\"/>\n",
       "<path class=\"atom-14\" d=\"M 371.1 89.1 L 375.0 89.1 L 375.0 101.1 L 389.4 101.1 L 389.4 89.1 L 393.3 89.1 L 393.3 117.4 L 389.4 117.4 L 389.4 104.3 L 375.0 104.3 L 375.0 117.4 L 371.1 117.4 L 371.1 89.1 \" fill=\"#000000\"/>\n",
       "<path class=\"atom-15\" d=\"M 371.2 182.4 L 375.0 182.4 L 375.0 194.5 L 389.5 194.5 L 389.5 182.4 L 393.4 182.4 L 393.4 210.8 L 389.5 210.8 L 389.5 197.7 L 375.0 197.7 L 375.0 210.8 L 371.2 210.8 L 371.2 182.4 \" fill=\"#000000\"/>\n",
       "</svg>"
      ],
      "text/plain": [
       "<IPython.core.display.SVG object>"
      ]
     },
     "metadata": {},
     "output_type": "display_data"
    }
   ],
   "source": [
    "topo = r3r5_fuse.to_topology()\n",
    "get_forces(topo)\n",
    "\n",
    "r3r5_fuse"
   ]
  },
  {
   "cell_type": "code",
   "execution_count": 34,
   "metadata": {},
   "outputs": [
    {
     "name": "stdout",
     "output_type": "stream",
     "text": [
      "[6, 6, 6, 6, 6, 6, 6, 1, 1, 1, 1, 1, 1, 1, 1, 1, 1, 1, 1]\n",
      "Forces for molecule 0\n",
      "\n",
      "Angles:\n",
      "atoms:   0  1  2  parameter_id: a1  smirks [*:1]~[#6X4:2]-[*:3]\n",
      "atoms:   0  1  3  parameter_id: a1  smirks [*:1]~[#6X4:2]-[*:3]\n",
      "atoms:   0  1  4  parameter_id: a1  smirks [*:1]~[#6X4:2]-[*:3]\n",
      "atoms:   0  6  5  parameter_id: a1  smirks [*:1]~[#6X4:2]-[*:3]\n",
      "atoms:   1  0  6  parameter_id: a1  smirks [*:1]~[#6X4:2]-[*:3]\n",
      "atoms:   1  2  3  parameter_id: a3  smirks [*;r3:1]1~;@[*;r3:2]~;@[*;r3:3]1\n",
      "atoms:   1  3  2  parameter_id: a3  smirks [*;r3:1]1~;@[*;r3:2]~;@[*;r3:3]1\n",
      "atoms:   1  4  5  parameter_id: a1  smirks [*:1]~[#6X4:2]-[*:3]\n",
      "atoms:   2  1  3  parameter_id: a3  smirks [*;r3:1]1~;@[*;r3:2]~;@[*;r3:3]1\n",
      "atoms:   2  1  4  parameter_id: a1  smirks [*:1]~[#6X4:2]-[*:3]\n",
      "atoms:   3  1  4  parameter_id: a1  smirks [*:1]~[#6X4:2]-[*:3]\n",
      "atoms:   4  5  6  parameter_id: a1  smirks [*:1]~[#6X4:2]-[*:3]\n"
     ]
    },
    {
     "data": {
      "image/svg+xml": [
       "<svg xmlns=\"http://www.w3.org/2000/svg\" xmlns:rdkit=\"http://www.rdkit.org/xml\" xmlns:xlink=\"http://www.w3.org/1999/xlink\" version=\"1.1\" baseProfile=\"full\" xml:space=\"preserve\" width=\"500px\" height=\"300px\" viewBox=\"0 0 500 300\">\n",
       "<!-- END OF HEADER -->\n",
       "<rect style=\"opacity:1.0;fill:#FFFFFF;stroke:none\" width=\"500.0\" height=\"300.0\" x=\"0.0\" y=\"0.0\"> </rect>\n",
       "<path class=\"bond-0 atom-0 atom-1\" d=\"M 268.3,207.0 L 226.3,150.2\" style=\"fill:none;fill-rule:evenodd;stroke:#000000;stroke-width:2.0px;stroke-linecap:butt;stroke-linejoin:miter;stroke-opacity:1\"/>\n",
       "<path class=\"bond-1 atom-1 atom-2\" d=\"M 226.3,150.2 L 165.2,115.0\" style=\"fill:none;fill-rule:evenodd;stroke:#000000;stroke-width:2.0px;stroke-linecap:butt;stroke-linejoin:miter;stroke-opacity:1\"/>\n",
       "<path class=\"bond-2 atom-2 atom-3\" d=\"M 165.2,115.0 L 165.4,185.6\" style=\"fill:none;fill-rule:evenodd;stroke:#000000;stroke-width:2.0px;stroke-linecap:butt;stroke-linejoin:miter;stroke-opacity:1\"/>\n",
       "<path class=\"bond-3 atom-1 atom-4\" d=\"M 226.3,150.2 L 268.0,93.1\" style=\"fill:none;fill-rule:evenodd;stroke:#000000;stroke-width:2.0px;stroke-linecap:butt;stroke-linejoin:miter;stroke-opacity:1\"/>\n",
       "<path class=\"bond-4 atom-4 atom-5\" d=\"M 268.0,93.1 L 334.9,114.7\" style=\"fill:none;fill-rule:evenodd;stroke:#000000;stroke-width:2.0px;stroke-linecap:butt;stroke-linejoin:miter;stroke-opacity:1\"/>\n",
       "<path class=\"bond-5 atom-5 atom-6\" d=\"M 334.9,114.7 L 335.2,185.1\" style=\"fill:none;fill-rule:evenodd;stroke:#000000;stroke-width:2.0px;stroke-linecap:butt;stroke-linejoin:miter;stroke-opacity:1\"/>\n",
       "<path class=\"bond-6 atom-6 atom-0\" d=\"M 335.2,185.1 L 268.3,207.0\" style=\"fill:none;fill-rule:evenodd;stroke:#000000;stroke-width:2.0px;stroke-linecap:butt;stroke-linejoin:miter;stroke-opacity:1\"/>\n",
       "<path class=\"bond-7 atom-3 atom-1\" d=\"M 165.4,185.6 L 226.3,150.2\" style=\"fill:none;fill-rule:evenodd;stroke:#000000;stroke-width:2.0px;stroke-linecap:butt;stroke-linejoin:miter;stroke-opacity:1\"/>\n",
       "<path class=\"bond-8 atom-0 atom-7\" d=\"M 268.3,207.0 L 290.7,253.7\" style=\"fill:none;fill-rule:evenodd;stroke:#000000;stroke-width:2.0px;stroke-linecap:butt;stroke-linejoin:miter;stroke-opacity:1\"/>\n",
       "<path class=\"bond-9 atom-0 atom-8\" d=\"M 268.3,207.0 L 245.8,225.3\" style=\"fill:none;fill-rule:evenodd;stroke:#000000;stroke-width:2.0px;stroke-linecap:butt;stroke-linejoin:miter;stroke-opacity:1\"/>\n",
       "<path class=\"bond-10 atom-2 atom-9\" d=\"M 165.2,115.0 L 108.4,109.5\" style=\"fill:none;fill-rule:evenodd;stroke:#000000;stroke-width:2.0px;stroke-linecap:butt;stroke-linejoin:miter;stroke-opacity:1\"/>\n",
       "<path class=\"bond-11 atom-2 atom-10\" d=\"M 165.2,115.0 L 175.5,62.4\" style=\"fill:none;fill-rule:evenodd;stroke:#000000;stroke-width:2.0px;stroke-linecap:butt;stroke-linejoin:miter;stroke-opacity:1\"/>\n",
       "<path class=\"bond-12 atom-3 atom-11\" d=\"M 165.4,185.6 L 175.9,238.2\" style=\"fill:none;fill-rule:evenodd;stroke:#000000;stroke-width:2.0px;stroke-linecap:butt;stroke-linejoin:miter;stroke-opacity:1\"/>\n",
       "<path class=\"bond-13 atom-3 atom-12\" d=\"M 165.4,185.6 L 108.6,191.4\" style=\"fill:none;fill-rule:evenodd;stroke:#000000;stroke-width:2.0px;stroke-linecap:butt;stroke-linejoin:miter;stroke-opacity:1\"/>\n",
       "<path class=\"bond-14 atom-4 atom-13\" d=\"M 268.0,93.1 L 245.4,74.9\" style=\"fill:none;fill-rule:evenodd;stroke:#000000;stroke-width:2.0px;stroke-linecap:butt;stroke-linejoin:miter;stroke-opacity:1\"/>\n",
       "<path class=\"bond-15 atom-4 atom-14\" d=\"M 268.0,93.1 L 290.3,46.3\" style=\"fill:none;fill-rule:evenodd;stroke:#000000;stroke-width:2.0px;stroke-linecap:butt;stroke-linejoin:miter;stroke-opacity:1\"/>\n",
       "<path class=\"bond-16 atom-5 atom-15\" d=\"M 334.9,114.7 L 347.6,63.2\" style=\"fill:none;fill-rule:evenodd;stroke:#000000;stroke-width:2.0px;stroke-linecap:butt;stroke-linejoin:miter;stroke-opacity:1\"/>\n",
       "<path class=\"bond-17 atom-5 atom-16\" d=\"M 334.9,114.7 L 391.5,120.3\" style=\"fill:none;fill-rule:evenodd;stroke:#000000;stroke-width:2.0px;stroke-linecap:butt;stroke-linejoin:miter;stroke-opacity:1\"/>\n",
       "<path class=\"bond-18 atom-6 atom-17\" d=\"M 335.2,185.1 L 391.6,179.3\" style=\"fill:none;fill-rule:evenodd;stroke:#000000;stroke-width:2.0px;stroke-linecap:butt;stroke-linejoin:miter;stroke-opacity:1\"/>\n",
       "<path class=\"bond-19 atom-6 atom-18\" d=\"M 335.2,185.1 L 348.1,236.5\" style=\"fill:none;fill-rule:evenodd;stroke:#000000;stroke-width:2.0px;stroke-linecap:butt;stroke-linejoin:miter;stroke-opacity:1\"/>\n",
       "<path class=\"atom-7\" d=\"M 287.6 255.9 L 291.4 255.9 L 291.4 267.9 L 305.9 267.9 L 305.9 255.9 L 309.7 255.9 L 309.7 284.2 L 305.9 284.2 L 305.9 271.1 L 291.4 271.1 L 291.4 284.2 L 287.6 284.2 L 287.6 255.9 \" fill=\"#000000\"/>\n",
       "<path class=\"atom-8\" d=\"M 221.4 222.0 L 225.3 222.0 L 225.3 234.0 L 239.8 234.0 L 239.8 222.0 L 243.6 222.0 L 243.6 250.3 L 239.8 250.3 L 239.8 237.2 L 225.3 237.2 L 225.3 250.3 L 221.4 250.3 L 221.4 222.0 \" fill=\"#000000\"/>\n",
       "<path class=\"atom-9\" d=\"M 84.0 94.1 L 87.9 94.1 L 87.9 106.1 L 102.3 106.1 L 102.3 94.1 L 106.2 94.1 L 106.2 122.4 L 102.3 122.4 L 102.3 109.3 L 87.9 109.3 L 87.9 122.4 L 84.0 122.4 L 84.0 94.1 \" fill=\"#000000\"/>\n",
       "<path class=\"atom-10\" d=\"M 167.6 31.9 L 171.4 31.9 L 171.4 43.9 L 185.9 43.9 L 185.9 31.9 L 189.7 31.9 L 189.7 60.2 L 185.9 60.2 L 185.9 47.1 L 171.4 47.1 L 171.4 60.2 L 167.6 60.2 L 167.6 31.9 \" fill=\"#000000\"/>\n",
       "<path class=\"atom-11\" d=\"M 168.1 240.4 L 172.0 240.4 L 172.0 252.5 L 186.4 252.5 L 186.4 240.4 L 190.3 240.4 L 190.3 268.7 L 186.4 268.7 L 186.4 255.7 L 172.0 255.7 L 172.0 268.7 L 168.1 268.7 L 168.1 240.4 \" fill=\"#000000\"/>\n",
       "<path class=\"atom-12\" d=\"M 84.2 178.6 L 88.1 178.6 L 88.1 190.7 L 102.6 190.7 L 102.6 178.6 L 106.4 178.6 L 106.4 207.0 L 102.6 207.0 L 102.6 193.9 L 88.1 193.9 L 88.1 207.0 L 84.2 207.0 L 84.2 178.6 \" fill=\"#000000\"/>\n",
       "<path class=\"atom-13\" d=\"M 221.0 50.0 L 224.8 50.0 L 224.8 62.0 L 239.3 62.0 L 239.3 50.0 L 243.2 50.0 L 243.2 78.3 L 239.3 78.3 L 239.3 65.2 L 224.8 65.2 L 224.8 78.3 L 221.0 78.3 L 221.0 50.0 \" fill=\"#000000\"/>\n",
       "<path class=\"atom-14\" d=\"M 287.0 15.8 L 290.8 15.8 L 290.8 27.8 L 305.3 27.8 L 305.3 15.8 L 309.2 15.8 L 309.2 44.1 L 305.3 44.1 L 305.3 31.0 L 290.8 31.0 L 290.8 44.1 L 287.0 44.1 L 287.0 15.8 \" fill=\"#000000\"/>\n",
       "<path class=\"atom-15\" d=\"M 340.6 32.6 L 344.4 32.6 L 344.4 44.7 L 358.9 44.7 L 358.9 32.6 L 362.8 32.6 L 362.8 61.0 L 358.9 61.0 L 358.9 47.9 L 344.4 47.9 L 344.4 61.0 L 340.6 61.0 L 340.6 32.6 \" fill=\"#000000\"/>\n",
       "<path class=\"atom-16\" d=\"M 393.7 107.5 L 397.5 107.5 L 397.5 119.5 L 412.0 119.5 L 412.0 107.5 L 415.9 107.5 L 415.9 135.8 L 412.0 135.8 L 412.0 122.7 L 397.5 122.7 L 397.5 135.8 L 393.7 135.8 L 393.7 107.5 \" fill=\"#000000\"/>\n",
       "<path class=\"atom-17\" d=\"M 393.8 163.7 L 397.7 163.7 L 397.7 175.8 L 412.1 175.8 L 412.1 163.7 L 416.0 163.7 L 416.0 192.0 L 412.1 192.0 L 412.1 179.0 L 397.7 179.0 L 397.7 192.0 L 393.8 192.0 L 393.8 163.7 \" fill=\"#000000\"/>\n",
       "<path class=\"atom-18\" d=\"M 341.1 238.8 L 345.0 238.8 L 345.0 250.8 L 359.4 250.8 L 359.4 238.8 L 363.3 238.8 L 363.3 267.1 L 359.4 267.1 L 359.4 254.0 L 345.0 254.0 L 345.0 267.1 L 341.1 267.1 L 341.1 238.8 \" fill=\"#000000\"/>\n",
       "</svg>"
      ],
      "text/plain": [
       "<IPython.core.display.SVG object>"
      ]
     },
     "metadata": {},
     "output_type": "display_data"
    }
   ],
   "source": [
    "topo = r3r5_spiro.to_topology()\n",
    "get_forces(topo)\n",
    "\n",
    "r3r5_spiro"
   ]
  },
  {
   "cell_type": "code",
   "execution_count": 35,
   "metadata": {},
   "outputs": [
    {
     "name": "stdout",
     "output_type": "stream",
     "text": [
      "[6, 6, 6, 6, 6, 6, 6, 1, 1, 1, 1, 1, 1, 1, 1, 1, 1, 1, 1]\n",
      "Forces for molecule 0\n",
      "\n",
      "Angles:\n",
      "atoms:   0  1  2  parameter_id: a7  smirks [*;r4:1]1-;@[*;r4:2]-;@[*;r4:3]-;@[*;r4]1\n",
      "atoms:   0  3  2  parameter_id: a7  smirks [*;r4:1]1-;@[*;r4:2]-;@[*;r4:3]-;@[*;r4]1\n",
      "atoms:   0  3  4  parameter_id: a1  smirks [*:1]~[#6X4:2]-[*:3]\n",
      "atoms:   0  6  5  parameter_id: a1  smirks [*:1]~[#6X4:2]-[*:3]\n",
      "atoms:   1  0  3  parameter_id: a7  smirks [*;r4:1]1-;@[*;r4:2]-;@[*;r4:3]-;@[*;r4]1\n",
      "atoms:   1  0  6  parameter_id: a1  smirks [*:1]~[#6X4:2]-[*:3]\n",
      "atoms:   1  2  3  parameter_id: a7  smirks [*;r4:1]1-;@[*;r4:2]-;@[*;r4:3]-;@[*;r4]1\n",
      "atoms:   2  3  4  parameter_id: a1  smirks [*:1]~[#6X4:2]-[*:3]\n",
      "atoms:   3  0  6  parameter_id: a1  smirks [*:1]~[#6X4:2]-[*:3]\n",
      "atoms:   3  4  5  parameter_id: a1  smirks [*:1]~[#6X4:2]-[*:3]\n",
      "atoms:   4  5  6  parameter_id: a1  smirks [*:1]~[#6X4:2]-[*:3]\n"
     ]
    },
    {
     "data": {
      "image/svg+xml": [
       "<svg xmlns=\"http://www.w3.org/2000/svg\" xmlns:rdkit=\"http://www.rdkit.org/xml\" xmlns:xlink=\"http://www.w3.org/1999/xlink\" version=\"1.1\" baseProfile=\"full\" xml:space=\"preserve\" width=\"500px\" height=\"300px\" viewBox=\"0 0 500 300\">\n",
       "<!-- END OF HEADER -->\n",
       "<rect style=\"opacity:1.0;fill:#FFFFFF;stroke:none\" width=\"500.0\" height=\"300.0\" x=\"0.0\" y=\"0.0\"> </rect>\n",
       "<path class=\"bond-0 atom-0 atom-1\" d=\"M 239.9,115.4 L 170.3,115.5\" style=\"fill:none;fill-rule:evenodd;stroke:#000000;stroke-width:2.0px;stroke-linecap:butt;stroke-linejoin:miter;stroke-opacity:1\"/>\n",
       "<path class=\"bond-1 atom-1 atom-2\" d=\"M 170.3,115.5 L 170.5,185.0\" style=\"fill:none;fill-rule:evenodd;stroke:#000000;stroke-width:2.0px;stroke-linecap:butt;stroke-linejoin:miter;stroke-opacity:1\"/>\n",
       "<path class=\"bond-2 atom-2 atom-3\" d=\"M 170.5,185.0 L 239.9,184.8\" style=\"fill:none;fill-rule:evenodd;stroke:#000000;stroke-width:2.0px;stroke-linecap:butt;stroke-linejoin:miter;stroke-opacity:1\"/>\n",
       "<path class=\"bond-3 atom-3 atom-4\" d=\"M 239.9,184.8 L 306.4,206.2\" style=\"fill:none;fill-rule:evenodd;stroke:#000000;stroke-width:2.0px;stroke-linecap:butt;stroke-linejoin:miter;stroke-opacity:1\"/>\n",
       "<path class=\"bond-4 atom-4 atom-5\" d=\"M 306.4,206.2 L 347.0,149.9\" style=\"fill:none;fill-rule:evenodd;stroke:#000000;stroke-width:2.0px;stroke-linecap:butt;stroke-linejoin:miter;stroke-opacity:1\"/>\n",
       "<path class=\"bond-5 atom-5 atom-6\" d=\"M 347.0,149.9 L 306.1,93.6\" style=\"fill:none;fill-rule:evenodd;stroke:#000000;stroke-width:2.0px;stroke-linecap:butt;stroke-linejoin:miter;stroke-opacity:1\"/>\n",
       "<path class=\"bond-6 atom-6 atom-0\" d=\"M 306.1,93.6 L 239.9,115.4\" style=\"fill:none;fill-rule:evenodd;stroke:#000000;stroke-width:2.0px;stroke-linecap:butt;stroke-linejoin:miter;stroke-opacity:1\"/>\n",
       "<path class=\"bond-7 atom-3 atom-0\" d=\"M 239.9,184.8 L 239.9,115.4\" style=\"fill:none;fill-rule:evenodd;stroke:#000000;stroke-width:2.0px;stroke-linecap:butt;stroke-linejoin:miter;stroke-opacity:1\"/>\n",
       "<path class=\"bond-8 atom-0 atom-7\" d=\"M 239.9,115.4 L 230.1,63.8\" style=\"fill:none;fill-rule:evenodd;stroke:#000000;stroke-width:2.0px;stroke-linecap:butt;stroke-linejoin:miter;stroke-opacity:1\"/>\n",
       "<path class=\"bond-9 atom-1 atom-8\" d=\"M 170.3,115.5 L 114.2,115.6\" style=\"fill:none;fill-rule:evenodd;stroke:#000000;stroke-width:2.0px;stroke-linecap:butt;stroke-linejoin:miter;stroke-opacity:1\"/>\n",
       "<path class=\"bond-10 atom-1 atom-9\" d=\"M 170.3,115.5 L 170.2,62.4\" style=\"fill:none;fill-rule:evenodd;stroke:#000000;stroke-width:2.0px;stroke-linecap:butt;stroke-linejoin:miter;stroke-opacity:1\"/>\n",
       "<path class=\"bond-11 atom-2 atom-10\" d=\"M 170.5,185.0 L 170.5,238.0\" style=\"fill:none;fill-rule:evenodd;stroke:#000000;stroke-width:2.0px;stroke-linecap:butt;stroke-linejoin:miter;stroke-opacity:1\"/>\n",
       "<path class=\"bond-12 atom-2 atom-11\" d=\"M 170.5,185.0 L 114.3,185.0\" style=\"fill:none;fill-rule:evenodd;stroke:#000000;stroke-width:2.0px;stroke-linecap:butt;stroke-linejoin:miter;stroke-opacity:1\"/>\n",
       "<path class=\"bond-13 atom-3 atom-12\" d=\"M 239.9,184.8 L 230.5,236.4\" style=\"fill:none;fill-rule:evenodd;stroke:#000000;stroke-width:2.0px;stroke-linecap:butt;stroke-linejoin:miter;stroke-opacity:1\"/>\n",
       "<path class=\"bond-14 atom-4 atom-13\" d=\"M 306.4,206.2 L 353.2,233.0\" style=\"fill:none;fill-rule:evenodd;stroke:#000000;stroke-width:2.0px;stroke-linecap:butt;stroke-linejoin:miter;stroke-opacity:1\"/>\n",
       "<path class=\"bond-15 atom-4 atom-14\" d=\"M 306.4,206.2 L 286.9,253.8\" style=\"fill:none;fill-rule:evenodd;stroke:#000000;stroke-width:2.0px;stroke-linecap:butt;stroke-linejoin:miter;stroke-opacity:1\"/>\n",
       "<path class=\"bond-16 atom-5 atom-15\" d=\"M 347.0,149.9 L 385.6,115.6\" style=\"fill:none;fill-rule:evenodd;stroke:#000000;stroke-width:2.0px;stroke-linecap:butt;stroke-linejoin:miter;stroke-opacity:1\"/>\n",
       "<path class=\"bond-17 atom-5 atom-16\" d=\"M 347.0,149.9 L 385.8,183.9\" style=\"fill:none;fill-rule:evenodd;stroke:#000000;stroke-width:2.0px;stroke-linecap:butt;stroke-linejoin:miter;stroke-opacity:1\"/>\n",
       "<path class=\"bond-18 atom-6 atom-17\" d=\"M 306.1,93.6 L 286.4,46.2\" style=\"fill:none;fill-rule:evenodd;stroke:#000000;stroke-width:2.0px;stroke-linecap:butt;stroke-linejoin:miter;stroke-opacity:1\"/>\n",
       "<path class=\"bond-19 atom-6 atom-18\" d=\"M 306.1,93.6 L 352.7,66.7\" style=\"fill:none;fill-rule:evenodd;stroke:#000000;stroke-width:2.0px;stroke-linecap:butt;stroke-linejoin:miter;stroke-opacity:1\"/>\n",
       "<path class=\"atom-7\" d=\"M 215.9 33.2 L 219.8 33.2 L 219.8 45.2 L 234.2 45.2 L 234.2 33.2 L 238.1 33.2 L 238.1 61.5 L 234.2 61.5 L 234.2 48.4 L 219.8 48.4 L 219.8 61.5 L 215.9 61.5 L 215.9 33.2 \" fill=\"#000000\"/>\n",
       "<path class=\"atom-8\" d=\"M 89.8 101.4 L 93.6 101.4 L 93.6 113.5 L 108.1 113.5 L 108.1 101.4 L 111.9 101.4 L 111.9 129.8 L 108.1 129.8 L 108.1 116.7 L 93.6 116.7 L 93.6 129.8 L 89.8 129.8 L 89.8 101.4 \" fill=\"#000000\"/>\n",
       "<path class=\"atom-9\" d=\"M 159.2 31.8 L 163.0 31.8 L 163.0 43.9 L 177.5 43.9 L 177.5 31.8 L 181.3 31.8 L 181.3 60.2 L 177.5 60.2 L 177.5 47.1 L 163.0 47.1 L 163.0 60.2 L 159.2 60.2 L 159.2 31.8 \" fill=\"#000000\"/>\n",
       "<path class=\"atom-10\" d=\"M 159.5 240.3 L 163.3 240.3 L 163.3 252.3 L 177.8 252.3 L 177.8 240.3 L 181.6 240.3 L 181.6 268.6 L 177.8 268.6 L 177.8 255.5 L 163.3 255.5 L 163.3 268.6 L 159.5 268.6 L 159.5 240.3 \" fill=\"#000000\"/>\n",
       "<path class=\"atom-11\" d=\"M 89.9 170.9 L 93.7 170.9 L 93.7 182.9 L 108.2 182.9 L 108.2 170.9 L 112.0 170.9 L 112.0 199.2 L 108.2 199.2 L 108.2 186.1 L 93.7 186.1 L 93.7 199.2 L 89.9 199.2 L 89.9 170.9 \" fill=\"#000000\"/>\n",
       "<path class=\"atom-12\" d=\"M 216.4 238.7 L 220.2 238.7 L 220.2 250.8 L 234.7 250.8 L 234.7 238.7 L 238.5 238.7 L 238.5 267.1 L 234.7 267.1 L 234.7 254.0 L 220.2 254.0 L 220.2 267.1 L 216.4 267.1 L 216.4 238.7 \" fill=\"#000000\"/>\n",
       "<path class=\"atom-13\" d=\"M 355.5 226.5 L 359.3 226.5 L 359.3 238.6 L 373.8 238.6 L 373.8 226.5 L 377.6 226.5 L 377.6 254.9 L 373.8 254.9 L 373.8 241.8 L 359.3 241.8 L 359.3 254.9 L 355.5 254.9 L 355.5 226.5 \" fill=\"#000000\"/>\n",
       "<path class=\"atom-14\" d=\"M 269.0 256.1 L 272.9 256.1 L 272.9 268.1 L 287.4 268.1 L 287.4 256.1 L 291.2 256.1 L 291.2 284.4 L 287.4 284.4 L 287.4 271.3 L 272.9 271.3 L 272.9 284.4 L 269.0 284.4 L 269.0 256.1 \" fill=\"#000000\"/>\n",
       "<path class=\"atom-15\" d=\"M 387.9 89.6 L 391.7 89.6 L 391.7 101.7 L 406.2 101.7 L 406.2 89.6 L 410.0 89.6 L 410.0 117.9 L 406.2 117.9 L 406.2 104.9 L 391.7 104.9 L 391.7 117.9 L 387.9 117.9 L 387.9 89.6 \" fill=\"#000000\"/>\n",
       "<path class=\"atom-16\" d=\"M 388.1 181.5 L 391.9 181.5 L 391.9 193.6 L 406.4 193.6 L 406.4 181.5 L 410.2 181.5 L 410.2 209.9 L 406.4 209.9 L 406.4 196.8 L 391.9 196.8 L 391.9 209.9 L 388.1 209.9 L 388.1 181.5 \" fill=\"#000000\"/>\n",
       "<path class=\"atom-17\" d=\"M 268.5 15.6 L 272.3 15.6 L 272.3 27.6 L 286.8 27.6 L 286.8 15.6 L 290.7 15.6 L 290.7 43.9 L 286.8 43.9 L 286.8 30.8 L 272.3 30.8 L 272.3 43.9 L 268.5 43.9 L 268.5 15.6 \" fill=\"#000000\"/>\n",
       "<path class=\"atom-18\" d=\"M 355.0 44.8 L 358.8 44.8 L 358.8 56.8 L 373.3 56.8 L 373.3 44.8 L 377.1 44.8 L 377.1 73.1 L 373.3 73.1 L 373.3 60.0 L 358.8 60.0 L 358.8 73.1 L 355.0 73.1 L 355.0 44.8 \" fill=\"#000000\"/>\n",
       "</svg>"
      ],
      "text/plain": [
       "<IPython.core.display.SVG object>"
      ]
     },
     "metadata": {},
     "output_type": "display_data"
    }
   ],
   "source": [
    "topo = r4r5_fuse.to_topology()\n",
    "get_forces(topo)\n",
    "\n",
    "r4r5_fuse"
   ]
  },
  {
   "cell_type": "code",
   "execution_count": 36,
   "metadata": {},
   "outputs": [
    {
     "name": "stdout",
     "output_type": "stream",
     "text": [
      "[6, 6, 6, 6, 6, 6, 6, 6, 1, 1, 1, 1, 1, 1, 1, 1, 1, 1, 1, 1, 1, 1]\n",
      "Forces for molecule 0\n",
      "\n",
      "Angles:\n",
      "atoms:   0  1  2  parameter_id: a7  smirks [*;r4:1]1-;@[*;r4:2]-;@[*;r4:3]-;@[*;r4]1\n",
      "atoms:   0  3  2  parameter_id: a7  smirks [*;r4:1]1-;@[*;r4:2]-;@[*;r4:3]-;@[*;r4]1\n",
      "atoms:   0  4  5  parameter_id: a1  smirks [*:1]~[#6X4:2]-[*:3]\n",
      "atoms:   0  7  6  parameter_id: a1  smirks [*:1]~[#6X4:2]-[*:3]\n",
      "atoms:   1  0  3  parameter_id: a7  smirks [*;r4:1]1-;@[*;r4:2]-;@[*;r4:3]-;@[*;r4]1\n",
      "atoms:   1  0  4  parameter_id: a1  smirks [*:1]~[#6X4:2]-[*:3]\n",
      "atoms:   1  0  7  parameter_id: a1  smirks [*:1]~[#6X4:2]-[*:3]\n",
      "atoms:   1  2  3  parameter_id: a7  smirks [*;r4:1]1-;@[*;r4:2]-;@[*;r4:3]-;@[*;r4]1\n",
      "atoms:   3  0  4  parameter_id: a1  smirks [*:1]~[#6X4:2]-[*:3]\n",
      "atoms:   3  0  7  parameter_id: a1  smirks [*:1]~[#6X4:2]-[*:3]\n",
      "atoms:   4  0  7  parameter_id: a1  smirks [*:1]~[#6X4:2]-[*:3]\n",
      "atoms:   4  5  6  parameter_id: a1  smirks [*:1]~[#6X4:2]-[*:3]\n",
      "atoms:   5  6  7  parameter_id: a1  smirks [*:1]~[#6X4:2]-[*:3]\n"
     ]
    },
    {
     "data": {
      "image/svg+xml": [
       "<svg xmlns=\"http://www.w3.org/2000/svg\" xmlns:rdkit=\"http://www.rdkit.org/xml\" xmlns:xlink=\"http://www.w3.org/1999/xlink\" version=\"1.1\" baseProfile=\"full\" xml:space=\"preserve\" width=\"500px\" height=\"300px\" viewBox=\"0 0 500 300\">\n",
       "<!-- END OF HEADER -->\n",
       "<rect style=\"opacity:1.0;fill:#FFFFFF;stroke:none\" width=\"500.0\" height=\"300.0\" x=\"0.0\" y=\"0.0\"> </rect>\n",
       "<path class=\"bond-0 atom-0 atom-1\" d=\"M 235.9,150.4 L 185.4,200.1\" style=\"fill:none;fill-rule:evenodd;stroke:#000000;stroke-width:2.0px;stroke-linecap:butt;stroke-linejoin:miter;stroke-opacity:1\"/>\n",
       "<path class=\"bond-1 atom-1 atom-2\" d=\"M 185.4,200.1 L 136.0,149.8\" style=\"fill:none;fill-rule:evenodd;stroke:#000000;stroke-width:2.0px;stroke-linecap:butt;stroke-linejoin:miter;stroke-opacity:1\"/>\n",
       "<path class=\"bond-2 atom-2 atom-3\" d=\"M 136.0,149.8 L 185.9,100.1\" style=\"fill:none;fill-rule:evenodd;stroke:#000000;stroke-width:2.0px;stroke-linecap:butt;stroke-linejoin:miter;stroke-opacity:1\"/>\n",
       "<path class=\"bond-3 atom-0 atom-4\" d=\"M 235.9,150.4 L 277.5,93.7\" style=\"fill:none;fill-rule:evenodd;stroke:#000000;stroke-width:2.0px;stroke-linecap:butt;stroke-linejoin:miter;stroke-opacity:1\"/>\n",
       "<path class=\"bond-4 atom-4 atom-5\" d=\"M 277.5,93.7 L 344.1,115.0\" style=\"fill:none;fill-rule:evenodd;stroke:#000000;stroke-width:2.0px;stroke-linecap:butt;stroke-linejoin:miter;stroke-opacity:1\"/>\n",
       "<path class=\"bond-5 atom-5 atom-6\" d=\"M 344.1,115.0 L 344.2,185.0\" style=\"fill:none;fill-rule:evenodd;stroke:#000000;stroke-width:2.0px;stroke-linecap:butt;stroke-linejoin:miter;stroke-opacity:1\"/>\n",
       "<path class=\"bond-6 atom-6 atom-7\" d=\"M 344.2,185.0 L 277.8,206.9\" style=\"fill:none;fill-rule:evenodd;stroke:#000000;stroke-width:2.0px;stroke-linecap:butt;stroke-linejoin:miter;stroke-opacity:1\"/>\n",
       "<path class=\"bond-7 atom-7 atom-0\" d=\"M 277.8,206.9 L 235.9,150.4\" style=\"fill:none;fill-rule:evenodd;stroke:#000000;stroke-width:2.0px;stroke-linecap:butt;stroke-linejoin:miter;stroke-opacity:1\"/>\n",
       "<path class=\"bond-8 atom-3 atom-0\" d=\"M 185.9,100.1 L 235.9,150.4\" style=\"fill:none;fill-rule:evenodd;stroke:#000000;stroke-width:2.0px;stroke-linecap:butt;stroke-linejoin:miter;stroke-opacity:1\"/>\n",
       "<path class=\"bond-9 atom-1 atom-8\" d=\"M 185.4,200.1 L 140.3,229.8\" style=\"fill:none;fill-rule:evenodd;stroke:#000000;stroke-width:2.0px;stroke-linecap:butt;stroke-linejoin:miter;stroke-opacity:1\"/>\n",
       "<path class=\"bond-10 atom-1 atom-9\" d=\"M 185.4,200.1 L 205.4,248.3\" style=\"fill:none;fill-rule:evenodd;stroke:#000000;stroke-width:2.0px;stroke-linecap:butt;stroke-linejoin:miter;stroke-opacity:1\"/>\n",
       "<path class=\"bond-11 atom-2 atom-10\" d=\"M 136.0,149.8 L 99.9,113.5\" style=\"fill:none;fill-rule:evenodd;stroke:#000000;stroke-width:2.0px;stroke-linecap:butt;stroke-linejoin:miter;stroke-opacity:1\"/>\n",
       "<path class=\"bond-12 atom-2 atom-11\" d=\"M 136.0,149.8 L 99.5,185.9\" style=\"fill:none;fill-rule:evenodd;stroke:#000000;stroke-width:2.0px;stroke-linecap:butt;stroke-linejoin:miter;stroke-opacity:1\"/>\n",
       "<path class=\"bond-13 atom-3 atom-12\" d=\"M 185.9,100.1 L 205.3,51.5\" style=\"fill:none;fill-rule:evenodd;stroke:#000000;stroke-width:2.0px;stroke-linecap:butt;stroke-linejoin:miter;stroke-opacity:1\"/>\n",
       "<path class=\"bond-14 atom-3 atom-13\" d=\"M 185.9,100.1 L 140.7,70.4\" style=\"fill:none;fill-rule:evenodd;stroke:#000000;stroke-width:2.0px;stroke-linecap:butt;stroke-linejoin:miter;stroke-opacity:1\"/>\n",
       "<path class=\"bond-15 atom-4 atom-14\" d=\"M 277.5,93.7 L 298.6,46.2\" style=\"fill:none;fill-rule:evenodd;stroke:#000000;stroke-width:2.0px;stroke-linecap:butt;stroke-linejoin:miter;stroke-opacity:1\"/>\n",
       "<path class=\"bond-16 atom-4 atom-15\" d=\"M 277.5,93.7 L 267.8,86.8\" style=\"fill:none;fill-rule:evenodd;stroke:#000000;stroke-width:2.0px;stroke-linecap:butt;stroke-linejoin:miter;stroke-opacity:1\"/>\n",
       "<path class=\"bond-17 atom-5 atom-16\" d=\"M 344.1,115.0 L 400.4,120.4\" style=\"fill:none;fill-rule:evenodd;stroke:#000000;stroke-width:2.0px;stroke-linecap:butt;stroke-linejoin:miter;stroke-opacity:1\"/>\n",
       "<path class=\"bond-18 atom-5 atom-17\" d=\"M 344.1,115.0 L 355.5,63.2\" style=\"fill:none;fill-rule:evenodd;stroke:#000000;stroke-width:2.0px;stroke-linecap:butt;stroke-linejoin:miter;stroke-opacity:1\"/>\n",
       "<path class=\"bond-19 atom-6 atom-18\" d=\"M 344.2,185.0 L 356.5,236.5\" style=\"fill:none;fill-rule:evenodd;stroke:#000000;stroke-width:2.0px;stroke-linecap:butt;stroke-linejoin:miter;stroke-opacity:1\"/>\n",
       "<path class=\"bond-20 atom-6 atom-19\" d=\"M 344.2,185.0 L 400.5,179.1\" style=\"fill:none;fill-rule:evenodd;stroke:#000000;stroke-width:2.0px;stroke-linecap:butt;stroke-linejoin:miter;stroke-opacity:1\"/>\n",
       "<path class=\"bond-21 atom-7 atom-20\" d=\"M 277.8,206.9 L 268.5,214.0\" style=\"fill:none;fill-rule:evenodd;stroke:#000000;stroke-width:2.0px;stroke-linecap:butt;stroke-linejoin:miter;stroke-opacity:1\"/>\n",
       "<path class=\"bond-22 atom-7 atom-21\" d=\"M 277.8,206.9 L 299.5,253.8\" style=\"fill:none;fill-rule:evenodd;stroke:#000000;stroke-width:2.0px;stroke-linecap:butt;stroke-linejoin:miter;stroke-opacity:1\"/>\n",
       "<path class=\"atom-8\" d=\"M 115.9 224.4 L 119.7 224.4 L 119.7 236.4 L 134.2 236.4 L 134.2 224.4 L 138.1 224.4 L 138.1 252.7 L 134.2 252.7 L 134.2 239.6 L 119.7 239.6 L 119.7 252.7 L 115.9 252.7 L 115.9 224.4 \" fill=\"#000000\"/>\n",
       "<path class=\"atom-9\" d=\"M 201.1 250.5 L 204.9 250.5 L 204.9 262.6 L 219.4 262.6 L 219.4 250.5 L 223.3 250.5 L 223.3 278.8 L 219.4 278.8 L 219.4 265.8 L 204.9 265.8 L 204.9 278.8 L 201.1 278.8 L 201.1 250.5 \" fill=\"#000000\"/>\n",
       "<path class=\"atom-10\" d=\"M 75.5 86.1 L 79.4 86.1 L 79.4 98.1 L 93.9 98.1 L 93.9 86.1 L 97.7 86.1 L 97.7 114.4 L 93.9 114.4 L 93.9 101.3 L 79.4 101.3 L 79.4 114.4 L 75.5 114.4 L 75.5 86.1 \" fill=\"#000000\"/>\n",
       "<path class=\"atom-11\" d=\"M 75.2 184.9 L 79.0 184.9 L 79.0 197.0 L 93.5 197.0 L 93.5 184.9 L 97.3 184.9 L 97.3 213.2 L 93.5 213.2 L 93.5 200.2 L 79.0 200.2 L 79.0 213.2 L 75.2 213.2 L 75.2 184.9 \" fill=\"#000000\"/>\n",
       "<path class=\"atom-12\" d=\"M 200.8 21.0 L 204.6 21.0 L 204.6 33.0 L 219.1 33.0 L 219.1 21.0 L 222.9 21.0 L 222.9 49.3 L 219.1 49.3 L 219.1 36.2 L 204.6 36.2 L 204.6 49.3 L 200.8 49.3 L 200.8 21.0 \" fill=\"#000000\"/>\n",
       "<path class=\"atom-13\" d=\"M 116.3 47.6 L 120.1 47.6 L 120.1 59.6 L 134.6 59.6 L 134.6 47.6 L 138.5 47.6 L 138.5 75.9 L 134.6 75.9 L 134.6 62.8 L 120.1 62.8 L 120.1 75.9 L 116.3 75.9 L 116.3 47.6 \" fill=\"#000000\"/>\n",
       "<path class=\"atom-14\" d=\"M 294.8 15.7 L 298.6 15.7 L 298.6 27.7 L 313.1 27.7 L 313.1 15.7 L 316.9 15.7 L 316.9 44.0 L 313.1 44.0 L 313.1 30.9 L 298.6 30.9 L 298.6 44.0 L 294.8 44.0 L 294.8 15.7 \" fill=\"#000000\"/>\n",
       "<path class=\"atom-15\" d=\"M 243.5 63.1 L 247.3 63.1 L 247.3 75.1 L 261.8 75.1 L 261.8 63.1 L 265.6 63.1 L 265.6 91.4 L 261.8 91.4 L 261.8 78.3 L 247.3 78.3 L 247.3 91.4 L 243.5 91.4 L 243.5 63.1 \" fill=\"#000000\"/>\n",
       "<path class=\"atom-16\" d=\"M 402.6 107.6 L 406.4 107.6 L 406.4 119.6 L 420.9 119.6 L 420.9 107.6 L 424.7 107.6 L 424.7 135.9 L 420.9 135.9 L 420.9 122.8 L 406.4 122.8 L 406.4 135.9 L 402.6 135.9 L 402.6 107.6 \" fill=\"#000000\"/>\n",
       "<path class=\"atom-17\" d=\"M 348.0 32.7 L 351.9 32.7 L 351.9 44.7 L 366.3 44.7 L 366.3 32.7 L 370.2 32.7 L 370.2 61.0 L 366.3 61.0 L 366.3 47.9 L 351.9 47.9 L 351.9 61.0 L 348.0 61.0 L 348.0 32.7 \" fill=\"#000000\"/>\n",
       "<path class=\"atom-18\" d=\"M 349.3 238.7 L 353.2 238.7 L 353.2 250.7 L 367.7 250.7 L 367.7 238.7 L 371.5 238.7 L 371.5 267.0 L 367.7 267.0 L 367.7 253.9 L 353.2 253.9 L 353.2 267.0 L 349.3 267.0 L 349.3 238.7 \" fill=\"#000000\"/>\n",
       "<path class=\"atom-19\" d=\"M 402.7 163.5 L 406.5 163.5 L 406.5 175.6 L 421.0 175.6 L 421.0 163.5 L 424.8 163.5 L 424.8 191.9 L 421.0 191.9 L 421.0 178.8 L 406.5 178.8 L 406.5 191.9 L 402.7 191.9 L 402.7 163.5 \" fill=\"#000000\"/>\n",
       "<path class=\"atom-20\" d=\"M 244.2 210.0 L 248.0 210.0 L 248.0 222.0 L 262.5 222.0 L 262.5 210.0 L 266.3 210.0 L 266.3 238.3 L 262.5 238.3 L 262.5 225.2 L 248.0 225.2 L 248.0 238.3 L 244.2 238.3 L 244.2 210.0 \" fill=\"#000000\"/>\n",
       "<path class=\"atom-21\" d=\"M 295.9 256.0 L 299.8 256.0 L 299.8 268.0 L 314.3 268.0 L 314.3 256.0 L 318.1 256.0 L 318.1 284.3 L 314.3 284.3 L 314.3 271.2 L 299.8 271.2 L 299.8 284.3 L 295.9 284.3 L 295.9 256.0 \" fill=\"#000000\"/>\n",
       "</svg>"
      ],
      "text/plain": [
       "<IPython.core.display.SVG object>"
      ]
     },
     "metadata": {},
     "output_type": "display_data"
    }
   ],
   "source": [
    "topo = r4r5_spiro.to_topology()\n",
    "get_forces(topo)\n",
    "\n",
    "r4r5_spiro"
   ]
  },
  {
   "cell_type": "code",
   "execution_count": 41,
   "metadata": {},
   "outputs": [
    {
     "name": "stdout",
     "output_type": "stream",
     "text": [
      "[6, 6, 6, 6, 6, 6, 1, 1, 1, 1, 1, 1, 1, 1, 1, 1]\n",
      "Forces for molecule 0\n",
      "\n",
      "Angles:\n",
      "atoms:   0  1  2  parameter_id: a1  smirks [*:1]~[#6X4:2]-[*:3]\n",
      "atoms:   0  3  2  parameter_id: a1  smirks [*:1]~[#6X4:2]-[*:3]\n",
      "atoms:   0  4  5  parameter_id: a3  smirks [*;r3:1]1~;@[*;r3:2]~;@[*;r3:3]1\n",
      "atoms:   0  5  4  parameter_id: a3  smirks [*;r3:1]1~;@[*;r3:2]~;@[*;r3:3]1\n",
      "atoms:   1  0  3  parameter_id: a1  smirks [*:1]~[#6X4:2]-[*:3]\n",
      "atoms:   1  0  4  parameter_id: a1  smirks [*:1]~[#6X4:2]-[*:3]\n",
      "atoms:   1  0  5  parameter_id: a1  smirks [*:1]~[#6X4:2]-[*:3]\n",
      "atoms:   1  2  3  parameter_id: a1  smirks [*:1]~[#6X4:2]-[*:3]\n",
      "atoms:   3  0  4  parameter_id: a1  smirks [*:1]~[#6X4:2]-[*:3]\n",
      "atoms:   3  0  5  parameter_id: a1  smirks [*:1]~[#6X4:2]-[*:3]\n",
      "atoms:   4  0  5  parameter_id: a3  smirks [*;r3:1]1~;@[*;r3:2]~;@[*;r3:3]1\n"
     ]
    },
    {
     "data": {
      "image/svg+xml": [
       "<svg xmlns=\"http://www.w3.org/2000/svg\" xmlns:rdkit=\"http://www.rdkit.org/xml\" xmlns:xlink=\"http://www.w3.org/1999/xlink\" version=\"1.1\" baseProfile=\"full\" xml:space=\"preserve\" width=\"500px\" height=\"300px\" viewBox=\"0 0 500 300\">\n",
       "<!-- END OF HEADER -->\n",
       "<rect style=\"opacity:1.0;fill:#FFFFFF;stroke:none\" width=\"500.0\" height=\"300.0\" x=\"0.0\" y=\"0.0\"> </rect>\n",
       "<path class=\"bond-0 atom-0 atom-1\" d=\"M 239.3,149.7 L 298.1,209.0\" style=\"fill:none;fill-rule:evenodd;stroke:#000000;stroke-width:2.0px;stroke-linecap:butt;stroke-linejoin:miter;stroke-opacity:1\"/>\n",
       "<path class=\"bond-1 atom-1 atom-2\" d=\"M 298.1,209.0 L 357.2,150.3\" style=\"fill:none;fill-rule:evenodd;stroke:#000000;stroke-width:2.0px;stroke-linecap:butt;stroke-linejoin:miter;stroke-opacity:1\"/>\n",
       "<path class=\"bond-2 atom-2 atom-3\" d=\"M 357.2,150.3 L 298.6,91.3\" style=\"fill:none;fill-rule:evenodd;stroke:#000000;stroke-width:2.0px;stroke-linecap:butt;stroke-linejoin:miter;stroke-opacity:1\"/>\n",
       "<path class=\"bond-3 atom-0 atom-4\" d=\"M 239.3,149.7 L 166.6,108.9\" style=\"fill:none;fill-rule:evenodd;stroke:#000000;stroke-width:2.0px;stroke-linecap:butt;stroke-linejoin:miter;stroke-opacity:1\"/>\n",
       "<path class=\"bond-4 atom-4 atom-5\" d=\"M 166.6,108.9 L 167.3,192.3\" style=\"fill:none;fill-rule:evenodd;stroke:#000000;stroke-width:2.0px;stroke-linecap:butt;stroke-linejoin:miter;stroke-opacity:1\"/>\n",
       "<path class=\"bond-5 atom-5 atom-0\" d=\"M 167.3,192.3 L 239.3,149.7\" style=\"fill:none;fill-rule:evenodd;stroke:#000000;stroke-width:2.0px;stroke-linecap:butt;stroke-linejoin:miter;stroke-opacity:1\"/>\n",
       "<path class=\"bond-6 atom-3 atom-0\" d=\"M 298.6,91.3 L 239.3,149.7\" style=\"fill:none;fill-rule:evenodd;stroke:#000000;stroke-width:2.0px;stroke-linecap:butt;stroke-linejoin:miter;stroke-opacity:1\"/>\n",
       "<path class=\"bond-7 atom-1 atom-6\" d=\"M 298.1,209.0 L 343.9,253.4\" style=\"fill:none;fill-rule:evenodd;stroke:#000000;stroke-width:2.0px;stroke-linecap:butt;stroke-linejoin:miter;stroke-opacity:1\"/>\n",
       "<path class=\"bond-8 atom-1 atom-7\" d=\"M 298.1,209.0 L 269.0,242.3\" style=\"fill:none;fill-rule:evenodd;stroke:#000000;stroke-width:2.0px;stroke-linecap:butt;stroke-linejoin:miter;stroke-opacity:1\"/>\n",
       "<path class=\"bond-9 atom-2 atom-8\" d=\"M 357.2,150.3 L 402.5,105.5\" style=\"fill:none;fill-rule:evenodd;stroke:#000000;stroke-width:2.0px;stroke-linecap:butt;stroke-linejoin:miter;stroke-opacity:1\"/>\n",
       "<path class=\"bond-10 atom-2 atom-9\" d=\"M 357.2,150.3 L 401.8,195.6\" style=\"fill:none;fill-rule:evenodd;stroke:#000000;stroke-width:2.0px;stroke-linecap:butt;stroke-linejoin:miter;stroke-opacity:1\"/>\n",
       "<path class=\"bond-11 atom-3 atom-10\" d=\"M 298.6,91.3 L 268.0,57.8\" style=\"fill:none;fill-rule:evenodd;stroke:#000000;stroke-width:2.0px;stroke-linecap:butt;stroke-linejoin:miter;stroke-opacity:1\"/>\n",
       "<path class=\"bond-12 atom-3 atom-11\" d=\"M 298.6,91.3 L 344.3,46.5\" style=\"fill:none;fill-rule:evenodd;stroke:#000000;stroke-width:2.0px;stroke-linecap:butt;stroke-linejoin:miter;stroke-opacity:1\"/>\n",
       "<path class=\"bond-13 atom-4 atom-12\" d=\"M 166.6,108.9 L 97.5,99.1\" style=\"fill:none;fill-rule:evenodd;stroke:#000000;stroke-width:2.0px;stroke-linecap:butt;stroke-linejoin:miter;stroke-opacity:1\"/>\n",
       "<path class=\"bond-14 atom-4 atom-13\" d=\"M 166.6,108.9 L 183.8,49.5\" style=\"fill:none;fill-rule:evenodd;stroke:#000000;stroke-width:2.0px;stroke-linecap:butt;stroke-linejoin:miter;stroke-opacity:1\"/>\n",
       "<path class=\"bond-15 atom-5 atom-14\" d=\"M 167.3,192.3 L 184.4,250.5\" style=\"fill:none;fill-rule:evenodd;stroke:#000000;stroke-width:2.0px;stroke-linecap:butt;stroke-linejoin:miter;stroke-opacity:1\"/>\n",
       "<path class=\"bond-16 atom-5 atom-15\" d=\"M 167.3,192.3 L 98.9,203.1\" style=\"fill:none;fill-rule:evenodd;stroke:#000000;stroke-width:2.0px;stroke-linecap:butt;stroke-linejoin:miter;stroke-opacity:1\"/>\n",
       "<path class=\"atom-6\" d=\"M 346.6 252.5 L 350.4 252.5 L 350.4 264.5 L 364.9 264.5 L 364.9 252.5 L 368.8 252.5 L 368.8 280.8 L 364.9 280.8 L 364.9 267.7 L 350.4 267.7 L 350.4 280.8 L 346.6 280.8 L 346.6 252.5 \" fill=\"#000000\"/>\n",
       "<path class=\"atom-7\" d=\"M 244.1 243.8 L 248.0 243.8 L 248.0 255.9 L 262.5 255.9 L 262.5 243.8 L 266.3 243.8 L 266.3 272.1 L 262.5 272.1 L 262.5 259.1 L 248.0 259.1 L 248.0 272.1 L 244.1 272.1 L 244.1 243.8 \" fill=\"#000000\"/>\n",
       "<path class=\"atom-8\" d=\"M 405.1 77.7 L 409.0 77.7 L 409.0 89.7 L 423.4 89.7 L 423.4 77.7 L 427.3 77.7 L 427.3 106.0 L 423.4 106.0 L 423.4 92.9 L 409.0 92.9 L 409.0 106.0 L 405.1 106.0 L 405.1 77.7 \" fill=\"#000000\"/>\n",
       "<path class=\"atom-9\" d=\"M 404.4 195.3 L 408.3 195.3 L 408.3 207.4 L 422.7 207.4 L 422.7 195.3 L 426.6 195.3 L 426.6 223.7 L 422.7 223.7 L 422.7 210.6 L 408.3 210.6 L 408.3 223.7 L 404.4 223.7 L 404.4 195.3 \" fill=\"#000000\"/>\n",
       "<path class=\"atom-10\" d=\"M 243.2 28.6 L 247.0 28.6 L 247.0 40.7 L 261.5 40.7 L 261.5 28.6 L 265.4 28.6 L 265.4 57.0 L 261.5 57.0 L 261.5 43.9 L 247.0 43.9 L 247.0 57.0 L 243.2 57.0 L 243.2 28.6 \" fill=\"#000000\"/>\n",
       "<path class=\"atom-11\" d=\"M 346.9 18.8 L 350.8 18.8 L 350.8 30.8 L 365.3 30.8 L 365.3 18.8 L 369.1 18.8 L 369.1 47.1 L 365.3 47.1 L 365.3 34.0 L 350.8 34.0 L 350.8 47.1 L 346.9 47.1 L 346.9 18.8 \" fill=\"#000000\"/>\n",
       "<path class=\"atom-12\" d=\"M 72.7 82.9 L 76.6 82.9 L 76.6 95.0 L 91.0 95.0 L 91.0 82.9 L 94.9 82.9 L 94.9 111.3 L 91.0 111.3 L 91.0 98.2 L 76.6 98.2 L 76.6 111.3 L 72.7 111.3 L 72.7 82.9 \" fill=\"#000000\"/>\n",
       "<path class=\"atom-13\" d=\"M 177.6 18.5 L 181.5 18.5 L 181.5 30.6 L 196.0 30.6 L 196.0 18.5 L 199.8 18.5 L 199.8 46.8 L 196.0 46.8 L 196.0 33.8 L 181.5 33.8 L 181.5 46.8 L 177.6 46.8 L 177.6 18.5 \" fill=\"#000000\"/>\n",
       "<path class=\"atom-14\" d=\"M 178.2 253.2 L 182.1 253.2 L 182.1 265.2 L 196.5 265.2 L 196.5 253.2 L 200.4 253.2 L 200.4 281.5 L 196.5 281.5 L 196.5 268.4 L 182.1 268.4 L 182.1 281.5 L 178.2 281.5 L 178.2 253.2 \" fill=\"#000000\"/>\n",
       "<path class=\"atom-15\" d=\"M 74.1 191.1 L 77.9 191.1 L 77.9 203.1 L 92.4 203.1 L 92.4 191.1 L 96.2 191.1 L 96.2 219.4 L 92.4 219.4 L 92.4 206.3 L 77.9 206.3 L 77.9 219.4 L 74.1 219.4 L 74.1 191.1 \" fill=\"#000000\"/>\n",
       "</svg>"
      ],
      "text/plain": [
       "<IPython.core.display.SVG object>"
      ]
     },
     "metadata": {},
     "output_type": "display_data"
    }
   ],
   "source": [
    "topo = r3r4_spiro.to_topology()\n",
    "get_forces(topo)\n",
    "\n",
    "r3r4_spiro"
   ]
  },
  {
   "cell_type": "code",
   "execution_count": 42,
   "metadata": {},
   "outputs": [
    {
     "name": "stdout",
     "output_type": "stream",
     "text": [
      "[6, 6, 6, 6, 6, 1, 1, 1, 1, 1, 1, 1, 1]\n",
      "Forces for molecule 0\n",
      "\n",
      "Angles:\n",
      "atoms:   0  1  2  parameter_id: a1  smirks [*:1]~[#6X4:2]-[*:3]\n",
      "atoms:   0  3  2  parameter_id: a1  smirks [*:1]~[#6X4:2]-[*:3]\n",
      "atoms:   0  3  4  parameter_id: a3  smirks [*;r3:1]1~;@[*;r3:2]~;@[*;r3:3]1\n",
      "atoms:   0  4  3  parameter_id: a3  smirks [*;r3:1]1~;@[*;r3:2]~;@[*;r3:3]1\n",
      "atoms:   1  0  3  parameter_id: a1  smirks [*:1]~[#6X4:2]-[*:3]\n",
      "atoms:   1  0  4  parameter_id: a1  smirks [*:1]~[#6X4:2]-[*:3]\n",
      "atoms:   1  2  3  parameter_id: a1  smirks [*:1]~[#6X4:2]-[*:3]\n",
      "atoms:   2  3  4  parameter_id: a1  smirks [*:1]~[#6X4:2]-[*:3]\n",
      "atoms:   3  0  4  parameter_id: a3  smirks [*;r3:1]1~;@[*;r3:2]~;@[*;r3:3]1\n"
     ]
    },
    {
     "data": {
      "image/svg+xml": [
       "<svg xmlns=\"http://www.w3.org/2000/svg\" xmlns:rdkit=\"http://www.rdkit.org/xml\" xmlns:xlink=\"http://www.w3.org/1999/xlink\" version=\"1.1\" baseProfile=\"full\" xml:space=\"preserve\" width=\"500px\" height=\"300px\" viewBox=\"0 0 500 300\">\n",
       "<!-- END OF HEADER -->\n",
       "<rect style=\"opacity:1.0;fill:#FFFFFF;stroke:none\" width=\"500.0\" height=\"300.0\" x=\"0.0\" y=\"0.0\"> </rect>\n",
       "<path class=\"bond-0 atom-0 atom-1\" d=\"M 230.6,110.6 L 309.5,110.6\" style=\"fill:none;fill-rule:evenodd;stroke:#000000;stroke-width:2.0px;stroke-linecap:butt;stroke-linejoin:miter;stroke-opacity:1\"/>\n",
       "<path class=\"bond-1 atom-1 atom-2\" d=\"M 309.5,110.6 L 309.5,189.4\" style=\"fill:none;fill-rule:evenodd;stroke:#000000;stroke-width:2.0px;stroke-linecap:butt;stroke-linejoin:miter;stroke-opacity:1\"/>\n",
       "<path class=\"bond-2 atom-2 atom-3\" d=\"M 309.5,189.4 L 230.7,189.5\" style=\"fill:none;fill-rule:evenodd;stroke:#000000;stroke-width:2.0px;stroke-linecap:butt;stroke-linejoin:miter;stroke-opacity:1\"/>\n",
       "<path class=\"bond-3 atom-3 atom-4\" d=\"M 230.7,189.5 L 162.4,150.1\" style=\"fill:none;fill-rule:evenodd;stroke:#000000;stroke-width:2.0px;stroke-linecap:butt;stroke-linejoin:miter;stroke-opacity:1\"/>\n",
       "<path class=\"bond-4 atom-4 atom-0\" d=\"M 162.4,150.1 L 230.6,110.6\" style=\"fill:none;fill-rule:evenodd;stroke:#000000;stroke-width:2.0px;stroke-linecap:butt;stroke-linejoin:miter;stroke-opacity:1\"/>\n",
       "<path class=\"bond-5 atom-3 atom-0\" d=\"M 230.7,189.5 L 230.6,110.6\" style=\"fill:none;fill-rule:evenodd;stroke:#000000;stroke-width:2.0px;stroke-linecap:butt;stroke-linejoin:miter;stroke-opacity:1\"/>\n",
       "<path class=\"bond-6 atom-0 atom-5\" d=\"M 230.6,110.6 L 214.7,51.3\" style=\"fill:none;fill-rule:evenodd;stroke:#000000;stroke-width:2.0px;stroke-linecap:butt;stroke-linejoin:miter;stroke-opacity:1\"/>\n",
       "<path class=\"bond-7 atom-1 atom-6\" d=\"M 309.5,110.6 L 309.4,48.5\" style=\"fill:none;fill-rule:evenodd;stroke:#000000;stroke-width:2.0px;stroke-linecap:butt;stroke-linejoin:miter;stroke-opacity:1\"/>\n",
       "<path class=\"bond-8 atom-1 atom-7\" d=\"M 309.5,110.6 L 374.6,110.5\" style=\"fill:none;fill-rule:evenodd;stroke:#000000;stroke-width:2.0px;stroke-linecap:butt;stroke-linejoin:miter;stroke-opacity:1\"/>\n",
       "<path class=\"bond-9 atom-2 atom-8\" d=\"M 309.5,189.4 L 374.7,189.4\" style=\"fill:none;fill-rule:evenodd;stroke:#000000;stroke-width:2.0px;stroke-linecap:butt;stroke-linejoin:miter;stroke-opacity:1\"/>\n",
       "<path class=\"bond-10 atom-2 atom-9\" d=\"M 309.5,189.4 L 309.6,251.5\" style=\"fill:none;fill-rule:evenodd;stroke:#000000;stroke-width:2.0px;stroke-linecap:butt;stroke-linejoin:miter;stroke-opacity:1\"/>\n",
       "<path class=\"bond-11 atom-3 atom-10\" d=\"M 230.7,189.5 L 214.8,248.9\" style=\"fill:none;fill-rule:evenodd;stroke:#000000;stroke-width:2.0px;stroke-linecap:butt;stroke-linejoin:miter;stroke-opacity:1\"/>\n",
       "<path class=\"bond-12 atom-4 atom-11\" d=\"M 162.4,150.1 L 125.4,194.2\" style=\"fill:none;fill-rule:evenodd;stroke:#000000;stroke-width:2.0px;stroke-linecap:butt;stroke-linejoin:miter;stroke-opacity:1\"/>\n",
       "<path class=\"bond-13 atom-4 atom-12\" d=\"M 162.4,150.1 L 125.3,106.0\" style=\"fill:none;fill-rule:evenodd;stroke:#000000;stroke-width:2.0px;stroke-linecap:butt;stroke-linejoin:miter;stroke-opacity:1\"/>\n",
       "<path class=\"atom-5\" d=\"M 199.1 20.3 L 202.9 20.3 L 202.9 32.4 L 217.4 32.4 L 217.4 20.3 L 221.2 20.3 L 221.2 48.7 L 217.4 48.7 L 217.4 35.6 L 202.9 35.6 L 202.9 48.7 L 199.1 48.7 L 199.1 20.3 \" fill=\"#000000\"/>\n",
       "<path class=\"atom-6\" d=\"M 298.3 17.6 L 302.1 17.6 L 302.1 29.6 L 316.6 29.6 L 316.6 17.6 L 320.5 17.6 L 320.5 45.9 L 316.6 45.9 L 316.6 32.8 L 302.1 32.8 L 302.1 45.9 L 298.3 45.9 L 298.3 17.6 \" fill=\"#000000\"/>\n",
       "<path class=\"atom-7\" d=\"M 377.2 96.4 L 381.0 96.4 L 381.0 108.4 L 395.5 108.4 L 395.5 96.4 L 399.4 96.4 L 399.4 124.7 L 395.5 124.7 L 395.5 111.6 L 381.0 111.6 L 381.0 124.7 L 377.2 124.7 L 377.2 96.4 \" fill=\"#000000\"/>\n",
       "<path class=\"atom-8\" d=\"M 377.3 175.2 L 381.1 175.2 L 381.1 187.2 L 395.6 187.2 L 395.6 175.2 L 399.4 175.2 L 399.4 203.5 L 395.6 203.5 L 395.6 190.4 L 381.1 190.4 L 381.1 203.5 L 377.3 203.5 L 377.3 175.2 \" fill=\"#000000\"/>\n",
       "<path class=\"atom-9\" d=\"M 298.5 254.1 L 302.3 254.1 L 302.3 266.1 L 316.8 266.1 L 316.8 254.1 L 320.7 254.1 L 320.7 282.4 L 316.8 282.4 L 316.8 269.3 L 302.3 269.3 L 302.3 282.4 L 298.5 282.4 L 298.5 254.1 \" fill=\"#000000\"/>\n",
       "<path class=\"atom-10\" d=\"M 199.3 251.5 L 203.1 251.5 L 203.1 263.5 L 217.6 263.5 L 217.6 251.5 L 221.4 251.5 L 221.4 279.8 L 217.6 279.8 L 217.6 266.7 L 203.1 266.7 L 203.1 279.8 L 199.3 279.8 L 199.3 251.5 \" fill=\"#000000\"/>\n",
       "<path class=\"atom-11\" d=\"M 100.7 196.4 L 104.5 196.4 L 104.5 208.4 L 119.0 208.4 L 119.0 196.4 L 122.8 196.4 L 122.8 224.7 L 119.0 224.7 L 119.0 211.6 L 104.5 211.6 L 104.5 224.7 L 100.7 224.7 L 100.7 196.4 \" fill=\"#000000\"/>\n",
       "<path class=\"atom-12\" d=\"M 100.6 75.6 L 104.4 75.6 L 104.4 87.6 L 118.9 87.6 L 118.9 75.6 L 122.7 75.6 L 122.7 103.9 L 118.9 103.9 L 118.9 90.8 L 104.4 90.8 L 104.4 103.9 L 100.6 103.9 L 100.6 75.6 \" fill=\"#000000\"/>\n",
       "</svg>"
      ],
      "text/plain": [
       "<IPython.core.display.SVG object>"
      ]
     },
     "metadata": {},
     "output_type": "display_data"
    }
   ],
   "source": [
    "topo = r3r4_fuse.to_topology()\n",
    "get_forces(topo)\n",
    "\n",
    "r3r4_fuse"
   ]
  },
  {
   "cell_type": "markdown",
   "metadata": {},
   "source": [
    "For two differently sized fused rings, only the smaller ring gets assigned the internal parameter. This is partially due to closing the internal ring parameters to prevent the same-same fuses from getting assigned the internal param...If we didn't close the rings, at least some of the larger ring would be assigned to its internal parameter, but it would pick up some external angles erroneously. Hard to say which is better"
   ]
  },
  {
   "cell_type": "code",
   "execution_count": null,
   "metadata": {},
   "outputs": [],
   "source": []
  }
 ],
 "metadata": {
  "kernelspec": {
   "display_name": "fb-195-tk-014-py310",
   "language": "python",
   "name": "python3"
  },
  "language_info": {
   "codemirror_mode": {
    "name": "ipython",
    "version": 3
   },
   "file_extension": ".py",
   "mimetype": "text/x-python",
   "name": "python",
   "nbconvert_exporter": "python",
   "pygments_lexer": "ipython3",
   "version": "3.10.12"
  },
  "orig_nbformat": 4
 },
 "nbformat": 4,
 "nbformat_minor": 2
}
