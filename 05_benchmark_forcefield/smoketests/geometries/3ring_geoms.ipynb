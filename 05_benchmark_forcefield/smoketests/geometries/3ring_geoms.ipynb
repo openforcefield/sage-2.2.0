{
 "cells": [
  {
   "cell_type": "code",
   "execution_count": 1,
   "metadata": {},
   "outputs": [
    {
     "data": {
      "application/vnd.jupyter.widget-view+json": {
       "model_id": "62a31e03b98c4a578d76333aed4b5de0",
       "version_major": 2,
       "version_minor": 0
      },
      "text/plain": []
     },
     "metadata": {},
     "output_type": "display_data"
    }
   ],
   "source": [
    "from openff.toolkit.topology import Molecule, Topology\n",
    "from openff.toolkit.typing.engines.smirnoff import ForceField\n",
    "from openff.units import unit\n",
    "\n",
    "from openff.interchange import Interchange\n",
    "from openff.interchange.drivers import get_gromacs_energies, get_openmm_energies\n",
    "import multiprocessing\n",
    "import tqdm\n",
    "import numpy as np\n",
    "import sys\n",
    "import openmm\n",
    "from openff.units.openmm import from_openmm\n",
    "import os\n",
    "# suppress stereochemistry warnings\n",
    "import logging\n",
    "from rdkit import Chem\n",
    "import itertools\n",
    "\n",
    "from openff.qcsubmit.results import TorsionDriveResultCollection, OptimizationResultCollection\n",
    "import logging\n",
    "logging.getLogger(\"openff\").setLevel(logging.ERROR)\n",
    "\n",
    "from openff.qcsubmit.results.filters import SMARTSFilter\n",
    "\n",
    "from rdkit import Chem\n",
    "from rdkit.Chem import AllChem\n",
    "from rdkit.Chem import rdMolTransforms"
   ]
  },
  {
   "cell_type": "code",
   "execution_count": 2,
   "metadata": {},
   "outputs": [],
   "source": [
    "def minimize_energy(mol,ff):\n",
    "    topo = mol.to_topology()\n",
    "    interchange = Interchange.from_smirnoff(force_field=ff, topology=topo,allow_nonintegral_charges=True)#,charge_from_molecules=[mol]) #,charge_from_molecules=[mol])\n",
    "    integrator = openmm.VerletIntegrator(1 * openmm.unit.femtoseconds)\n",
    "    simulation = interchange.to_openmm_simulation(integrator)\n",
    "\n",
    "    # We'll store energies in two lists\n",
    "    initial_energies = []\n",
    "    minimized_energies = []\n",
    "\n",
    "    # And minimized conformers in a second molecule\n",
    "    minimized_molecule = Molecule.from_topology(topo)\n",
    "    minimized_molecule.conformers.clear()\n",
    "\n",
    "    conformer = mol.conformers[0]\n",
    "    # Tell the OpenMM Simulation the positions of this conformer\n",
    "    simulation.context.setPositions(conformer.to_openmm())\n",
    "\n",
    "    # Keep a record of the initial energy\n",
    "    initial_energies.append(\n",
    "        simulation.context.getState(getEnergy=True).getPotentialEnergy()\n",
    "    )\n",
    "\n",
    "    # Perform the minimization\n",
    "    simulation.minimizeEnergy()#tolerance=Quantity(value=0.0026255, unit=kilojoule/mole))#tolerance=5e-9)\n",
    "\n",
    "    # Record minimized energy and positions\n",
    "    min_state = simulation.context.getState(getEnergy=True, getPositions=True)\n",
    "\n",
    "    minimized_energies.append(min_state.getPotentialEnergy())\n",
    "    minimized_molecule.add_conformer(from_openmm(min_state.getPositions()))\n",
    "    return initial_energies,minimized_energies,minimized_molecule\n"
   ]
  },
  {
   "cell_type": "markdown",
   "metadata": {},
   "source": [
    "# Looking at QM structures from benchmark data"
   ]
  },
  {
   "cell_type": "code",
   "execution_count": 4,
   "metadata": {},
   "outputs": [],
   "source": [
    "industry_benchmark = OptimizationResultCollection.parse_file('../../datasets/filtered-industry.json')"
   ]
  },
  {
   "cell_type": "markdown",
   "metadata": {
    "jp-MarkdownHeadingCollapsed": true
   },
   "source": [
    "## 3-membered rings"
   ]
  },
  {
   "cell_type": "code",
   "execution_count": 5,
   "metadata": {},
   "outputs": [],
   "source": [
    "industry_benchmark_r3 = industry_benchmark.filter(SMARTSFilter(smarts_to_include=['[r3;!#6:1]']))"
   ]
  },
  {
   "cell_type": "code",
   "execution_count": 6,
   "metadata": {},
   "outputs": [
    {
     "data": {
      "text/plain": [
       "86"
      ]
     },
     "execution_count": 6,
     "metadata": {},
     "output_type": "execute_result"
    }
   ],
   "source": [
    "industry_benchmark_r3.n_results"
   ]
  },
  {
   "cell_type": "code",
   "execution_count": 7,
   "metadata": {},
   "outputs": [],
   "source": [
    "industry_benchmark_r3_rm = industry_benchmark_r3.to_records()"
   ]
  },
  {
   "cell_type": "markdown",
   "metadata": {},
   "source": [
    "# Molecule 1"
   ]
  },
  {
   "cell_type": "code",
   "execution_count": 10,
   "metadata": {},
   "outputs": [
    {
     "data": {
      "application/vnd.jupyter.widget-view+json": {
       "model_id": "94964cf442c447a49bc260f65e53d8c5",
       "version_major": 2,
       "version_minor": 0
      },
      "text/plain": [
       "NGLWidget()"
      ]
     },
     "metadata": {},
     "output_type": "display_data"
    }
   ],
   "source": [
    "test_mol = industry_benchmark_r3_rm[15][1]\n",
    "test_mol"
   ]
  },
  {
   "cell_type": "code",
   "execution_count": 11,
   "metadata": {},
   "outputs": [
    {
     "data": {
      "text/plain": [
       "(OptimizationRecord(id='37008138', status='COMPLETE'),\n",
       " Molecule with name '' and SMILES '[H][c]1[c]([H])[c]([H])[c]([C@]2([H])[O][C@@]2([H])[C](=[O])[O][C]([H])([H])[C]([H])([H])[H])[c]([H])[c]1[H]')"
      ]
     },
     "execution_count": 11,
     "metadata": {},
     "output_type": "execute_result"
    }
   ],
   "source": [
    "industry_benchmark_r3_rm[15]"
   ]
  },
  {
   "cell_type": "code",
   "execution_count": 12,
   "metadata": {},
   "outputs": [],
   "source": [
    "test_mol.to_file('qcaid_37008138.sdf',file_format='sdf')"
   ]
  },
  {
   "cell_type": "code",
   "execution_count": 13,
   "metadata": {},
   "outputs": [
    {
     "data": {
      "application/vnd.jupyter.widget-view+json": {
       "model_id": "594e95dfdbef4bb89b7bddd191c33ef5",
       "version_major": 2,
       "version_minor": 0
      },
      "text/plain": [
       "NGLWidget()"
      ]
     },
     "metadata": {},
     "output_type": "display_data"
    }
   ],
   "source": [
    "ie_sage200_qm,me_sage200_qm,min_mol_sage200_qm = minimize_energy(test_mol,ForceField('openff_unconstrained-2.0.0.offxml'))\n",
    "min_mol_sage200_qm"
   ]
  },
  {
   "cell_type": "code",
   "execution_count": 14,
   "metadata": {},
   "outputs": [
    {
     "data": {
      "application/vnd.jupyter.widget-view+json": {
       "model_id": "4fc75b469a5544478befe97731e7f424",
       "version_major": 2,
       "version_minor": 0
      },
      "text/plain": [
       "NGLWidget()"
      ]
     },
     "metadata": {},
     "output_type": "display_data"
    }
   ],
   "source": [
    "ie_sage210_qm,me_sage210_qm,min_mol_sage210_qm = minimize_energy(test_mol,ForceField('openff_unconstrained-2.1.0.offxml'))\n",
    "min_mol_sage210_qm"
   ]
  },
  {
   "cell_type": "code",
   "execution_count": 16,
   "metadata": {},
   "outputs": [
    {
     "data": {
      "application/vnd.jupyter.widget-view+json": {
       "model_id": "be5677c7fd7b4f1d8151f70ba8d8bbbd",
       "version_major": 2,
       "version_minor": 0
      },
      "text/plain": [
       "NGLWidget()"
      ]
     },
     "metadata": {},
     "output_type": "display_data"
    }
   ],
   "source": [
    "ie_sage220_qm,me_sage220_qm,min_mol_sage220_qm = minimize_energy(test_mol,ForceField('../../../openff_unconstrained-2.2.0-rc1.offxml',allow_cosmetic_attributes=True))\n",
    "min_mol_sage220_qm"
   ]
  },
  {
   "cell_type": "code",
   "execution_count": 31,
   "metadata": {},
   "outputs": [],
   "source": [
    "min_mol_sage220_qm.to_file('qcaid_37008138_optsage220.sdf',file_format='sdf')"
   ]
  },
  {
   "cell_type": "code",
   "execution_count": 18,
   "metadata": {},
   "outputs": [],
   "source": [
    "opt_sage200 = min_mol_sage200_qm.to_rdkit()\n",
    "opt_sage200_conf = opt_sage200.GetConformer()"
   ]
  },
  {
   "cell_type": "code",
   "execution_count": 19,
   "metadata": {},
   "outputs": [],
   "source": [
    "opt_sage210 = min_mol_sage210_qm.to_rdkit()\n",
    "opt_sage210_conf = opt_sage210.GetConformer()"
   ]
  },
  {
   "cell_type": "code",
   "execution_count": 20,
   "metadata": {},
   "outputs": [],
   "source": [
    "opt_sage220 = min_mol_sage220_qm.to_rdkit()\n",
    "opt_sage220_conf = opt_sage220.GetConformer()"
   ]
  },
  {
   "cell_type": "code",
   "execution_count": 21,
   "metadata": {},
   "outputs": [],
   "source": [
    "qm_rdkit = test_mol.to_rdkit()\n",
    "qm_conf = qm_rdkit.GetConformer()"
   ]
  },
  {
   "cell_type": "markdown",
   "metadata": {},
   "source": [
    "#### Geometries"
   ]
  },
  {
   "cell_type": "code",
   "execution_count": 22,
   "metadata": {},
   "outputs": [
    {
     "name": "stdout",
     "output_type": "stream",
     "text": [
      "12 7 8\n"
     ]
    }
   ],
   "source": [
    "o = [a[0] for a in test_mol.chemical_environment_matches('[#8;r3:1]')][0]\n",
    "c1,c2 = [a[0] for a in test_mol.chemical_environment_matches('[#6;r3:1]')]\n",
    "print(o,c1,c2)"
   ]
  },
  {
   "cell_type": "code",
   "execution_count": 23,
   "metadata": {},
   "outputs": [
    {
     "name": "stdout",
     "output_type": "stream",
     "text": [
      " O-C1:  1.4147681304836353\n",
      " O-C2:  1.4172025661368655\n",
      "C1-C2:  1.5632540239929416\n"
     ]
    }
   ],
   "source": [
    "print(' O-C1: ', Chem.rdMolTransforms.GetBondLength(opt_sage200_conf,o,c1) )\n",
    "print(' O-C2: ', Chem.rdMolTransforms.GetBondLength(opt_sage200_conf,o,c2) )\n",
    "print('C1-C2: ', Chem.rdMolTransforms.GetBondLength(opt_sage200_conf,c1,c2) )"
   ]
  },
  {
   "cell_type": "code",
   "execution_count": 24,
   "metadata": {},
   "outputs": [
    {
     "name": "stdout",
     "output_type": "stream",
     "text": [
      " O-C1:  1.287424928034324\n",
      " O-C2:  1.2952657923609399\n",
      "C1-C2:  1.7419302630159996\n"
     ]
    }
   ],
   "source": [
    "print(' O-C1: ', Chem.rdMolTransforms.GetBondLength(opt_sage210_conf,o,c1) )\n",
    "print(' O-C2: ', Chem.rdMolTransforms.GetBondLength(opt_sage210_conf,o,c2) )\n",
    "print('C1-C2: ', Chem.rdMolTransforms.GetBondLength(opt_sage210_conf,c1,c2) )"
   ]
  },
  {
   "cell_type": "code",
   "execution_count": 25,
   "metadata": {},
   "outputs": [
    {
     "name": "stdout",
     "output_type": "stream",
     "text": [
      " O-C1:  1.4495526462110646\n",
      " O-C2:  1.4533234464390268\n",
      "C1-C2:  1.5281207796347245\n"
     ]
    }
   ],
   "source": [
    "print(' O-C1: ', Chem.rdMolTransforms.GetBondLength(opt_sage220_conf,o,c1) )\n",
    "print(' O-C2: ', Chem.rdMolTransforms.GetBondLength(opt_sage220_conf,o,c2) )\n",
    "print('C1-C2: ', Chem.rdMolTransforms.GetBondLength(opt_sage220_conf,c1,c2) )"
   ]
  },
  {
   "cell_type": "code",
   "execution_count": 26,
   "metadata": {},
   "outputs": [
    {
     "name": "stdout",
     "output_type": "stream",
     "text": [
      " O-C1:  1.4307358708610123\n",
      " O-C2:  1.4307842394458554\n",
      "C1-C2:  1.4904876467952135\n"
     ]
    }
   ],
   "source": [
    "print(' O-C1: ', Chem.rdMolTransforms.GetBondLength(qm_conf,o,c1) )\n",
    "print(' O-C2: ', Chem.rdMolTransforms.GetBondLength(qm_conf,o,c2) )\n",
    "print('C1-C2: ', Chem.rdMolTransforms.GetBondLength(qm_conf,c1,c2) )"
   ]
  },
  {
   "cell_type": "code",
   "execution_count": 27,
   "metadata": {},
   "outputs": [
    {
     "name": "stdout",
     "output_type": "stream",
     "text": [
      "C1 - O - C2: 67.00889649880634\n",
      "C1 - C2 - O: 56.42115126499627\n",
      "O - C1 - C2: 56.5699522361974\n"
     ]
    }
   ],
   "source": [
    "print('C1 - O - C2:',Chem.rdMolTransforms.GetAngleDeg(opt_sage200_conf,c1,o,c2)) \n",
    "print('C1 - C2 - O:',Chem.rdMolTransforms.GetAngleDeg(opt_sage200_conf,c1,c2,o)) \n",
    "print('O - C1 - C2:',Chem.rdMolTransforms.GetAngleDeg(opt_sage200_conf,o,c1,c2)) \n"
   ]
  },
  {
   "cell_type": "code",
   "execution_count": 28,
   "metadata": {},
   "outputs": [
    {
     "name": "stdout",
     "output_type": "stream",
     "text": [
      "C1 - O - C2: 84.82440379544586\n",
      "C1 - C2 - O: 47.39738520093984\n",
      "O - C1 - C2: 47.77821100361432\n"
     ]
    }
   ],
   "source": [
    "print('C1 - O - C2:',Chem.rdMolTransforms.GetAngleDeg(opt_sage210_conf,c1,o,c2)) \n",
    "print('C1 - C2 - O:',Chem.rdMolTransforms.GetAngleDeg(opt_sage210_conf,c1,c2,o)) \n",
    "print('O - C1 - C2:',Chem.rdMolTransforms.GetAngleDeg(opt_sage210_conf,o,c1,c2)) \n"
   ]
  },
  {
   "cell_type": "code",
   "execution_count": 29,
   "metadata": {},
   "outputs": [
    {
     "name": "stdout",
     "output_type": "stream",
     "text": [
      "C1 - O - C2: 63.52709385155288\n",
      "C1 - C2 - O: 58.1162448761271\n",
      "O - C1 - C2: 58.35666127232002\n"
     ]
    }
   ],
   "source": [
    "print('C1 - O - C2:',Chem.rdMolTransforms.GetAngleDeg(opt_sage220_conf,c1,o,c2)) \n",
    "print('C1 - C2 - O:',Chem.rdMolTransforms.GetAngleDeg(opt_sage220_conf,c1,c2,o)) \n",
    "print('O - C1 - C2:',Chem.rdMolTransforms.GetAngleDeg(opt_sage220_conf,o,c1,c2)) \n"
   ]
  },
  {
   "cell_type": "code",
   "execution_count": 30,
   "metadata": {},
   "outputs": [
    {
     "name": "stdout",
     "output_type": "stream",
     "text": [
      "C1 - O - C2: 62.78161461864693\n",
      "C1 - C2 - O: 58.60760549844285\n",
      "O - C1 - C2: 58.610779882910215\n"
     ]
    }
   ],
   "source": [
    "print('C1 - O - C2:',Chem.rdMolTransforms.GetAngleDeg(qm_conf,c1,o,c2)) \n",
    "print('C1 - C2 - O:',Chem.rdMolTransforms.GetAngleDeg(qm_conf,c1,c2,o)) \n",
    "print('O - C1 - C2:',Chem.rdMolTransforms.GetAngleDeg(qm_conf,o,c1,c2)) \n"
   ]
  },
  {
   "cell_type": "code",
   "execution_count": null,
   "metadata": {},
   "outputs": [],
   "source": []
  }
 ],
 "metadata": {
  "kernelspec": {
   "display_name": "Python 3 (ipykernel)",
   "language": "python",
   "name": "python3"
  },
  "language_info": {
   "codemirror_mode": {
    "name": "ipython",
    "version": 3
   },
   "file_extension": ".py",
   "mimetype": "text/x-python",
   "name": "python",
   "nbconvert_exporter": "python",
   "pygments_lexer": "ipython3",
   "version": "3.10.12"
  }
 },
 "nbformat": 4,
 "nbformat_minor": 4
}
