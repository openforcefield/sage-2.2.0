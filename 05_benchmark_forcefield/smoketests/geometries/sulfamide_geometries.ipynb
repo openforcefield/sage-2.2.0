{
 "cells": [
  {
   "cell_type": "markdown",
   "metadata": {},
   "source": [
    "# Examining problematic sulfamide geometries"
   ]
  },
  {
   "cell_type": "code",
   "execution_count": 1,
   "metadata": {},
   "outputs": [
    {
     "data": {
      "application/vnd.jupyter.widget-view+json": {
       "model_id": "cb8fc451184e46c6880d0870bf8dc300",
       "version_major": 2,
       "version_minor": 0
      },
      "text/plain": []
     },
     "metadata": {},
     "output_type": "display_data"
    }
   ],
   "source": [
    "from openff.toolkit.topology import Molecule, Topology\n",
    "from openff.toolkit.typing.engines.smirnoff import ForceField\n",
    "from openff.units import unit\n",
    "\n",
    "from openff.interchange import Interchange\n",
    "from openff.interchange.drivers import get_gromacs_energies, get_openmm_energies\n",
    "import multiprocessing\n",
    "import tqdm\n",
    "import numpy as np\n",
    "import sys\n",
    "import openmm\n",
    "from openff.units.openmm import from_openmm\n",
    "import os\n",
    "# suppress stereochemistry warnings\n",
    "import logging\n",
    "from rdkit import Chem\n",
    "import itertools\n",
    "\n",
    "from openff.qcsubmit.results import TorsionDriveResultCollection, OptimizationResultCollection\n",
    "import logging\n",
    "logging.getLogger(\"openff\").setLevel(logging.ERROR)\n",
    "\n",
    "from openff.qcsubmit.results.filters import SMARTSFilter"
   ]
  },
  {
   "cell_type": "code",
   "execution_count": 2,
   "metadata": {},
   "outputs": [],
   "source": [
    "def minimize_energy(mol,ff):\n",
    "    topo = mol.to_topology()\n",
    "    interchange = Interchange.from_smirnoff(force_field=ff, topology=topo,allow_nonintegral_charges=True)#,charge_from_molecules=[mol]) #,charge_from_molecules=[mol])\n",
    "    integrator = openmm.VerletIntegrator(1 * openmm.unit.femtoseconds)\n",
    "    simulation = interchange.to_openmm_simulation(integrator)\n",
    "\n",
    "    # We'll store energies in two lists\n",
    "    initial_energies = []\n",
    "    minimized_energies = []\n",
    "\n",
    "    # And minimized conformers in a second molecule\n",
    "    minimized_molecule = Molecule.from_topology(topo)\n",
    "    minimized_molecule.conformers.clear()\n",
    "\n",
    "    conformer = mol.conformers[0]\n",
    "    # Tell the OpenMM Simulation the positions of this conformer\n",
    "    simulation.context.setPositions(conformer.to_openmm())\n",
    "\n",
    "    # Keep a record of the initial energy\n",
    "    initial_energies.append(\n",
    "        simulation.context.getState(getEnergy=True).getPotentialEnergy()\n",
    "    )\n",
    "\n",
    "    # Perform the minimization\n",
    "    simulation.minimizeEnergy()#tolerance=Quantity(value=0.0026255, unit=kilojoule/mole))#tolerance=5e-9)\n",
    "\n",
    "    # Record minimized energy and positions\n",
    "    min_state = simulation.context.getState(getEnergy=True, getPositions=True)\n",
    "\n",
    "    minimized_energies.append(min_state.getPotentialEnergy())\n",
    "    minimized_molecule.add_conformer(from_openmm(min_state.getPositions()))\n",
    "    return initial_energies,minimized_energies,minimized_molecule\n"
   ]
  },
  {
   "cell_type": "markdown",
   "metadata": {},
   "source": [
    "# Finding test molecules from benchmarking dataset\n",
    "Filter for N-S(=O)(=O)-N"
   ]
  },
  {
   "cell_type": "code",
   "execution_count": 27,
   "metadata": {},
   "outputs": [],
   "source": [
    "industry_benchmark = OptimizationResultCollection.parse_file('../../datasets/filtered-industry.json')"
   ]
  },
  {
   "cell_type": "code",
   "execution_count": 28,
   "metadata": {},
   "outputs": [],
   "source": [
    "industry_benchmark_filter = industry_benchmark.filter(SMARTSFilter(smarts_to_include=['[#7]~[#16X4:1](=[#8])(~[#7])=[#8]']))"
   ]
  },
  {
   "cell_type": "code",
   "execution_count": 29,
   "metadata": {},
   "outputs": [
    {
     "data": {
      "text/plain": [
       "127"
      ]
     },
     "execution_count": 29,
     "metadata": {},
     "output_type": "execute_result"
    }
   ],
   "source": [
    "industry_benchmark_filter.n_results"
   ]
  },
  {
   "cell_type": "code",
   "execution_count": 30,
   "metadata": {},
   "outputs": [],
   "source": [
    "industry_benchmark_rm = industry_benchmark_filter.to_records()"
   ]
  },
  {
   "cell_type": "markdown",
   "metadata": {},
   "source": [
    "Choosing a few problem cases:"
   ]
  },
  {
   "cell_type": "markdown",
   "metadata": {
    "jp-MarkdownHeadingCollapsed": true
   },
   "source": [
    "# Molecule 19, QCArchive ID 36971837\n",
    "Bad with Sage 2.0.0, fixed in 2.1 and 2.2\n",
    "\n",
    "Has many conformers--index 19-28. Some are distorted, some aren't"
   ]
  },
  {
   "cell_type": "code",
   "execution_count": 58,
   "metadata": {},
   "outputs": [
    {
     "data": {
      "application/vnd.jupyter.widget-view+json": {
       "model_id": "ce0a5d7cc1044b008dd9193ec0a1d81b",
       "version_major": 2,
       "version_minor": 0
      },
      "text/plain": [
       "NGLWidget()"
      ]
     },
     "metadata": {},
     "output_type": "display_data"
    }
   ],
   "source": [
    "test_mol1 = industry_benchmark_rm[19][1]\n",
    "test_mol1"
   ]
  },
  {
   "cell_type": "code",
   "execution_count": 59,
   "metadata": {},
   "outputs": [],
   "source": [
    "test_mol1.to_file('qcaid_36971837.sdf',file_format='sdf')"
   ]
  },
  {
   "cell_type": "code",
   "execution_count": 3,
   "metadata": {},
   "outputs": [],
   "source": [
    "test_mol1=Molecule.from_file('qcaid_36971837.sdf')"
   ]
  },
  {
   "cell_type": "code",
   "execution_count": 4,
   "metadata": {},
   "outputs": [],
   "source": [
    "ie_sage200_qm1,me_sage200_qm1,min_mol_sage200_qm1 = minimize_energy(test_mol1,ForceField('openff_unconstrained-2.0.0.offxml'))"
   ]
  },
  {
   "cell_type": "code",
   "execution_count": 5,
   "metadata": {},
   "outputs": [],
   "source": [
    "ie_sage210_qm1,me_sage210_qm1,min_mol_sage210_qm1 = minimize_energy(test_mol1,ForceField('openff_unconstrained-2.1.0.offxml'))"
   ]
  },
  {
   "cell_type": "code",
   "execution_count": 6,
   "metadata": {},
   "outputs": [
    {
     "data": {
      "application/vnd.jupyter.widget-view+json": {
       "model_id": "daec67c4380b4000b5a9f8497a7ba367",
       "version_major": 2,
       "version_minor": 0
      },
      "text/plain": [
       "NGLWidget()"
      ]
     },
     "metadata": {},
     "output_type": "display_data"
    }
   ],
   "source": [
    "min_mol_sage210_qm1"
   ]
  },
  {
   "cell_type": "code",
   "execution_count": 7,
   "metadata": {},
   "outputs": [],
   "source": [
    "ie_sage220_qm1,me_sage220_qm1,min_mol_sage220_qm1 = minimize_energy(test_mol1,ForceField('../../../openff_unconstrained-2.2.0-rc1.offxml',allow_cosmetic_attributes=True))"
   ]
  },
  {
   "cell_type": "code",
   "execution_count": 8,
   "metadata": {},
   "outputs": [],
   "source": [
    "min_mol_sage220_qm1.to_file('qcaid_36971837_optsage220.sdf',file_format='sdf')"
   ]
  },
  {
   "cell_type": "code",
   "execution_count": 9,
   "metadata": {},
   "outputs": [],
   "source": [
    "opt1_sage200 = min_mol_sage200_qm1.to_rdkit()\n",
    "opt1_sage200_conf = opt1_sage200.GetConformer()"
   ]
  },
  {
   "cell_type": "code",
   "execution_count": 10,
   "metadata": {},
   "outputs": [],
   "source": [
    "opt1_sage210 = min_mol_sage210_qm1.to_rdkit()\n",
    "opt1_sage210_conf = opt1_sage210.GetConformer()"
   ]
  },
  {
   "cell_type": "code",
   "execution_count": 12,
   "metadata": {},
   "outputs": [],
   "source": [
    "opt1_sage220 = min_mol_sage220_qm1.to_rdkit()\n",
    "opt1_sage220_conf = opt1_sage220.GetConformer()"
   ]
  },
  {
   "cell_type": "code",
   "execution_count": 13,
   "metadata": {},
   "outputs": [],
   "source": [
    "qm_rdkit1 = test_mol1.to_rdkit()\n",
    "qm_conf1 = qm_rdkit1.GetConformer()"
   ]
  },
  {
   "cell_type": "markdown",
   "metadata": {},
   "source": [
    "### Geometries"
   ]
  },
  {
   "cell_type": "code",
   "execution_count": 14,
   "metadata": {},
   "outputs": [],
   "source": [
    "atoms1=[a for a in opt1_sage200.GetAtoms()]"
   ]
  },
  {
   "cell_type": "code",
   "execution_count": 15,
   "metadata": {},
   "outputs": [],
   "source": [
    "atom_indices_s1 = [a.GetIdx() for a in atoms1 if a.GetSymbol() == 'S']"
   ]
  },
  {
   "cell_type": "code",
   "execution_count": 16,
   "metadata": {},
   "outputs": [],
   "source": [
    "atom_indices_n1 = [a.GetIdx() for a in atoms1 if a.GetSymbol()=='N']"
   ]
  },
  {
   "cell_type": "code",
   "execution_count": 17,
   "metadata": {},
   "outputs": [],
   "source": [
    "atom_indices_o1 = [a.GetIdx() for a in atoms1 if a.GetSymbol()=='O']"
   ]
  },
  {
   "cell_type": "code",
   "execution_count": 18,
   "metadata": {},
   "outputs": [
    {
     "name": "stdout",
     "output_type": "stream",
     "text": [
      "[12]\n",
      "[11, 13]\n",
      "[9, 10, 14, 15]\n"
     ]
    }
   ],
   "source": [
    "print(atom_indices_s1)\n",
    "print(atom_indices_n1)\n",
    "print(atom_indices_o1)"
   ]
  },
  {
   "cell_type": "code",
   "execution_count": 19,
   "metadata": {},
   "outputs": [],
   "source": [
    "s = atom_indices_s1[0]\n",
    "n1,n2 = atom_indices_n1\n",
    "o1,o2 = atom_indices_o1[2:]"
   ]
  },
  {
   "cell_type": "code",
   "execution_count": 20,
   "metadata": {},
   "outputs": [
    {
     "data": {
      "text/plain": [
       "1.6836715526509654"
      ]
     },
     "execution_count": 20,
     "metadata": {},
     "output_type": "execute_result"
    }
   ],
   "source": [
    "Chem.rdMolTransforms.GetBondLength(opt1_sage200_conf,s,n1) # N"
   ]
  },
  {
   "cell_type": "code",
   "execution_count": 21,
   "metadata": {},
   "outputs": [
    {
     "data": {
      "text/plain": [
       "1.6124789163404611"
      ]
     },
     "execution_count": 21,
     "metadata": {},
     "output_type": "execute_result"
    }
   ],
   "source": [
    "Chem.rdMolTransforms.GetBondLength(opt1_sage200_conf,s,n2) # N"
   ]
  },
  {
   "cell_type": "code",
   "execution_count": 22,
   "metadata": {},
   "outputs": [
    {
     "data": {
      "text/plain": [
       "1.460868900132385"
      ]
     },
     "execution_count": 22,
     "metadata": {},
     "output_type": "execute_result"
    }
   ],
   "source": [
    "Chem.rdMolTransforms.GetBondLength(opt1_sage200_conf,s,o1) # O"
   ]
  },
  {
   "cell_type": "code",
   "execution_count": 23,
   "metadata": {},
   "outputs": [
    {
     "data": {
      "text/plain": [
       "1.460405975073076"
      ]
     },
     "execution_count": 23,
     "metadata": {},
     "output_type": "execute_result"
    }
   ],
   "source": [
    "Chem.rdMolTransforms.GetBondLength(opt1_sage200_conf,s ,o2) # O"
   ]
  },
  {
   "cell_type": "code",
   "execution_count": 24,
   "metadata": {},
   "outputs": [
    {
     "name": "stdout",
     "output_type": "stream",
     "text": [
      "N1 - S - N2: 63.44649302464608\n",
      "N1 - S - O1: 113.26201724942982\n",
      "N1 - S - O2: 111.27609044785295\n",
      "O1 - S - O2: 116.04513687658701\n"
     ]
    }
   ],
   "source": [
    "print('N1 - S - N2:',Chem.rdMolTransforms.GetAngleDeg(opt1_sage200_conf,n1,s,n2)) # N1 - S - N2\n",
    "print('N1 - S - O1:',Chem.rdMolTransforms.GetAngleDeg(opt1_sage200_conf,n1,s,o1)) # N1 - S - O1\n",
    "print('N1 - S - O2:',Chem.rdMolTransforms.GetAngleDeg(opt1_sage200_conf,n1,s,o2)) # N1 - S - O2\n",
    "print('O1 - S - O2:',Chem.rdMolTransforms.GetAngleDeg(opt1_sage200_conf,o1,s,o2)) # O1 - S - O2\n"
   ]
  },
  {
   "cell_type": "code",
   "execution_count": 25,
   "metadata": {},
   "outputs": [
    {
     "name": "stdout",
     "output_type": "stream",
     "text": [
      "N1 - S - N2: 88.44799419407012\n",
      "N1 - S - O1: 116.31464418178489\n",
      "N1 - S - O2: 111.2756852853613\n",
      "O1 - S - O2: 126.19997434184445\n"
     ]
    }
   ],
   "source": [
    "print('N1 - S - N2:',Chem.rdMolTransforms.GetAngleDeg(opt1_sage210_conf,n1,s,n2)) # N1 - S - N2\n",
    "print('N1 - S - O1:',Chem.rdMolTransforms.GetAngleDeg(opt1_sage210_conf,n1,s,o1)) # N1 - S - O1\n",
    "print('N1 - S - O2:',Chem.rdMolTransforms.GetAngleDeg(opt1_sage210_conf,n1,s,o2)) # N1 - S - O2\n",
    "print('O1 - S - O2:',Chem.rdMolTransforms.GetAngleDeg(opt1_sage210_conf,o1,s,o2)) # O1 - S - O2\n"
   ]
  },
  {
   "cell_type": "code",
   "execution_count": 26,
   "metadata": {},
   "outputs": [
    {
     "name": "stdout",
     "output_type": "stream",
     "text": [
      "N1 - S - N2: 98.65037944326272\n",
      "N1 - S - O1: 110.82320280729996\n",
      "N1 - S - O2: 106.289105189148\n",
      "O1 - S - O2: 126.42764069419836\n"
     ]
    }
   ],
   "source": [
    "print('N1 - S - N2:',Chem.rdMolTransforms.GetAngleDeg(opt1_sage220_conf,n1,s,n2)) # N1 - S - N2\n",
    "print('N1 - S - O1:',Chem.rdMolTransforms.GetAngleDeg(opt1_sage220_conf,n1,s,o1)) # N1 - S - O1\n",
    "print('N1 - S - O2:',Chem.rdMolTransforms.GetAngleDeg(opt1_sage220_conf,n1,s,o2)) # N1 - S - O2\n",
    "print('O1 - S - O2:',Chem.rdMolTransforms.GetAngleDeg(opt1_sage220_conf,o1,s,o2)) # O1 - S - O2\n"
   ]
  },
  {
   "cell_type": "code",
   "execution_count": 27,
   "metadata": {},
   "outputs": [
    {
     "name": "stdout",
     "output_type": "stream",
     "text": [
      "N1 - S - N2: 99.05907369913429\n",
      "N1 - S - O1: 115.56913768989678\n",
      "N1 - S - O2: 107.47422746012008\n",
      "O1 - S - O2: 118.59079770561428\n"
     ]
    }
   ],
   "source": [
    "print('N1 - S - N2:',Chem.rdMolTransforms.GetAngleDeg(qm_conf1,n1,s,n2)) # N1 - S - N2\n",
    "print('N1 - S - O1:',Chem.rdMolTransforms.GetAngleDeg(qm_conf1,n1,s,o1)) # N1 - S - O1\n",
    "print('N1 - S - O2:',Chem.rdMolTransforms.GetAngleDeg(qm_conf1,n1,s,o2)) # N1 - S - O2\n",
    "print('O1 - S - O2:',Chem.rdMolTransforms.GetAngleDeg(qm_conf1,o1,s,o2)) # O1 - S - O2"
   ]
  },
  {
   "cell_type": "markdown",
   "metadata": {},
   "source": [
    "# Molecule 31, QCArchive ID 36972425\n",
    "\n",
    "Bad with Sage 2.0 and 2.1, fixed with 2.2\n",
    "\n",
    "Has many conformers--index 29-38. Some are distorted, some aren't"
   ]
  },
  {
   "cell_type": "code",
   "execution_count": 119,
   "metadata": {},
   "outputs": [
    {
     "data": {
      "application/vnd.jupyter.widget-view+json": {
       "model_id": "656576b164af42c3b5cc8f7b57d1150e",
       "version_major": 2,
       "version_minor": 0
      },
      "text/plain": [
       "NGLWidget()"
      ]
     },
     "metadata": {},
     "output_type": "display_data"
    }
   ],
   "source": [
    "test_mol2 = industry_benchmark_rm[31][1]\n",
    "test_mol2"
   ]
  },
  {
   "cell_type": "code",
   "execution_count": 55,
   "metadata": {},
   "outputs": [],
   "source": [
    "test_mol2.to_file('qcaid_36972425.sdf',file_format='sdf')"
   ]
  },
  {
   "cell_type": "code",
   "execution_count": 28,
   "metadata": {},
   "outputs": [],
   "source": [
    "test_mol2 = Molecule.from_file('qcaid_36972425.sdf')"
   ]
  },
  {
   "cell_type": "code",
   "execution_count": 29,
   "metadata": {},
   "outputs": [
    {
     "data": {
      "application/vnd.jupyter.widget-view+json": {
       "model_id": "18c5495534214a43b667f13a7004a17c",
       "version_major": 2,
       "version_minor": 0
      },
      "text/plain": [
       "NGLWidget()"
      ]
     },
     "metadata": {},
     "output_type": "display_data"
    }
   ],
   "source": [
    "ie_sage200_qm2,me_sage200_qm,min_mol_sage200_qm2 = minimize_energy(test_mol2,ForceField('openff_unconstrained-2.0.0.offxml'))\n",
    "min_mol_sage200_qm2"
   ]
  },
  {
   "cell_type": "code",
   "execution_count": 30,
   "metadata": {},
   "outputs": [
    {
     "data": {
      "application/vnd.jupyter.widget-view+json": {
       "model_id": "9ac3caa4af744b5392c26a85f5330a3e",
       "version_major": 2,
       "version_minor": 0
      },
      "text/plain": [
       "NGLWidget()"
      ]
     },
     "metadata": {},
     "output_type": "display_data"
    }
   ],
   "source": [
    "ie_sage210_qm2,me_sage210_qm2,min_mol_sage210_qm2 = minimize_energy(test_mol2,ForceField('openff_unconstrained-2.1.0.offxml'))\n",
    "min_mol_sage210_qm2"
   ]
  },
  {
   "cell_type": "code",
   "execution_count": 32,
   "metadata": {},
   "outputs": [
    {
     "data": {
      "application/vnd.jupyter.widget-view+json": {
       "model_id": "34c51bb725e742dba7017f6d9e861acb",
       "version_major": 2,
       "version_minor": 0
      },
      "text/plain": [
       "NGLWidget()"
      ]
     },
     "metadata": {},
     "output_type": "display_data"
    }
   ],
   "source": [
    "ie_sage220_qm2,me_sage220_qm2,min_mol_sage220_qm2 = minimize_energy(test_mol2,ForceField('../../../openff_unconstrained-2.2.0-rc1.offxml',allow_cosmetic_attributes=True))\n",
    "min_mol_sage220_qm2"
   ]
  },
  {
   "cell_type": "code",
   "execution_count": 33,
   "metadata": {},
   "outputs": [],
   "source": [
    "min_mol_sage220_qm2.to_file('qcaid_36972425_optsage220.sdf',file_format='sdf')"
   ]
  },
  {
   "cell_type": "code",
   "execution_count": 34,
   "metadata": {},
   "outputs": [],
   "source": [
    "opt2_sage200 = min_mol_sage200_qm2.to_rdkit()\n",
    "opt2_sage200_conf = opt2_sage200.GetConformer()"
   ]
  },
  {
   "cell_type": "code",
   "execution_count": 35,
   "metadata": {},
   "outputs": [],
   "source": [
    "opt2_sage210 = min_mol_sage210_qm2.to_rdkit()\n",
    "opt2_sage210_conf = opt2_sage210.GetConformer()"
   ]
  },
  {
   "cell_type": "code",
   "execution_count": 36,
   "metadata": {},
   "outputs": [],
   "source": [
    "opt2_sage220 = min_mol_sage220_qm2.to_rdkit()\n",
    "opt2_sage220_conf = opt2_sage220.GetConformer()"
   ]
  },
  {
   "cell_type": "code",
   "execution_count": 37,
   "metadata": {},
   "outputs": [],
   "source": [
    "qm_rdkit2 = test_mol2.to_rdkit()\n",
    "qm_conf2 = qm_rdkit2.GetConformer()"
   ]
  },
  {
   "cell_type": "markdown",
   "metadata": {},
   "source": [
    "### Geometries"
   ]
  },
  {
   "cell_type": "code",
   "execution_count": 38,
   "metadata": {},
   "outputs": [],
   "source": [
    "atoms2=[a for a in opt2_sage200.GetAtoms()]"
   ]
  },
  {
   "cell_type": "code",
   "execution_count": 39,
   "metadata": {},
   "outputs": [],
   "source": [
    "atom_indices_s2 = [a.GetIdx() for a in atoms2 if a.GetSymbol() == 'S']\n",
    "atom_indices_n2 = [a.GetIdx() for a in atoms2 if a.GetSymbol()=='N']\n",
    "atom_indices_o2 = [a.GetIdx() for a in atoms2 if a.GetSymbol()=='O']"
   ]
  },
  {
   "cell_type": "code",
   "execution_count": 40,
   "metadata": {},
   "outputs": [
    {
     "name": "stdout",
     "output_type": "stream",
     "text": [
      "[13]\n",
      "[12, 16]\n",
      "[4, 14, 15]\n"
     ]
    }
   ],
   "source": [
    "print(atom_indices_s2)\n",
    "print(atom_indices_n2)\n",
    "print(atom_indices_o2)"
   ]
  },
  {
   "cell_type": "code",
   "execution_count": 41,
   "metadata": {},
   "outputs": [],
   "source": [
    "s = atom_indices_s2[0]\n",
    "n1,n2 = atom_indices_n2\n",
    "o1,o2 = atom_indices_o2[1:]"
   ]
  },
  {
   "cell_type": "code",
   "execution_count": 42,
   "metadata": {},
   "outputs": [
    {
     "data": {
      "text/plain": [
       "1.6642934588330192"
      ]
     },
     "execution_count": 42,
     "metadata": {},
     "output_type": "execute_result"
    }
   ],
   "source": [
    "Chem.rdMolTransforms.GetBondLength(opt2_sage200_conf,s,n1) # N"
   ]
  },
  {
   "cell_type": "code",
   "execution_count": 45,
   "metadata": {},
   "outputs": [
    {
     "data": {
      "text/plain": [
       "1.6154552714032644"
      ]
     },
     "execution_count": 45,
     "metadata": {},
     "output_type": "execute_result"
    }
   ],
   "source": [
    "Chem.rdMolTransforms.GetBondLength(opt2_sage200_conf,s,n2) # N"
   ]
  },
  {
   "cell_type": "code",
   "execution_count": 46,
   "metadata": {},
   "outputs": [
    {
     "data": {
      "text/plain": [
       "1.459271963030652"
      ]
     },
     "execution_count": 46,
     "metadata": {},
     "output_type": "execute_result"
    }
   ],
   "source": [
    "Chem.rdMolTransforms.GetBondLength(opt2_sage200_conf,s,o1) # O"
   ]
  },
  {
   "cell_type": "code",
   "execution_count": 47,
   "metadata": {},
   "outputs": [
    {
     "data": {
      "text/plain": [
       "1.4598227357268343"
      ]
     },
     "execution_count": 47,
     "metadata": {},
     "output_type": "execute_result"
    }
   ],
   "source": [
    "Chem.rdMolTransforms.GetBondLength(opt2_sage200_conf,s ,o2) # O"
   ]
  },
  {
   "cell_type": "code",
   "execution_count": 48,
   "metadata": {},
   "outputs": [
    {
     "name": "stdout",
     "output_type": "stream",
     "text": [
      "N1 - S - N2: 72.11428788652712\n",
      "N1 - S - O1: 115.44296488784543\n",
      "N2 - S - O1: 79.33304874929252\n",
      "N1 - S - O2: 114.32383441385863\n",
      "O1 - S - O2: 115.9059387096902\n"
     ]
    }
   ],
   "source": [
    "print('N1 - S - N2:',Chem.rdMolTransforms.GetAngleDeg(opt2_sage200_conf,n1,s,n2)) # N1 - S - N2\n",
    "print('N1 - S - O1:',Chem.rdMolTransforms.GetAngleDeg(opt2_sage200_conf,n1,s,o1)) # N1 - S - O1\n",
    "print('N2 - S - O1:',Chem.rdMolTransforms.GetAngleDeg(opt2_sage200_conf,n2,s,o1)) # N1 - S - O1\n",
    "print('N1 - S - O2:',Chem.rdMolTransforms.GetAngleDeg(opt2_sage200_conf,n1,s,o2)) # N1 - S - O2\n",
    "print('O1 - S - O2:',Chem.rdMolTransforms.GetAngleDeg(opt2_sage200_conf,o1,s,o2)) # O1 - S - O2\n"
   ]
  },
  {
   "cell_type": "code",
   "execution_count": 49,
   "metadata": {},
   "outputs": [
    {
     "name": "stdout",
     "output_type": "stream",
     "text": [
      "N1 - S - N2: 77.84322264570787\n",
      "N1 - S - O1: 115.16684226994481\n",
      "N2 - S - O1: 83.30668906742419\n",
      "N1 - S - O2: 114.67684578569971\n",
      "O1 - S - O2: 124.17870989745376\n"
     ]
    }
   ],
   "source": [
    "print('N1 - S - N2:',Chem.rdMolTransforms.GetAngleDeg(opt2_sage210_conf,n1,s,n2)) # N1 - S - N2\n",
    "print('N1 - S - O1:',Chem.rdMolTransforms.GetAngleDeg(opt2_sage210_conf,n1,s,o1)) # N1 - S - O1\n",
    "print('N2 - S - O1:',Chem.rdMolTransforms.GetAngleDeg(opt2_sage210_conf,n2,s,o1)) # N1 - S - O1\n",
    "print('N1 - S - O2:',Chem.rdMolTransforms.GetAngleDeg(opt2_sage210_conf,n1,s,o2)) # N1 - S - O2\n",
    "print('O1 - S - O2:',Chem.rdMolTransforms.GetAngleDeg(opt2_sage210_conf,o1,s,o2)) # O1 - S - O2\n",
    "\n"
   ]
  },
  {
   "cell_type": "code",
   "execution_count": 50,
   "metadata": {},
   "outputs": [
    {
     "name": "stdout",
     "output_type": "stream",
     "text": [
      "N1 - S - N2: 103.41989396993706\n",
      "N1 - S - O1: 108.42681683618302\n",
      "N2 - S - O1: 102.61903295167431\n",
      "N1 - S - O2: 110.49580662474334\n",
      "O1 - S - O2: 126.08980272631219\n"
     ]
    }
   ],
   "source": [
    "print('N1 - S - N2:',Chem.rdMolTransforms.GetAngleDeg(opt2_sage220_conf,n1,s,n2)) # N1 - S - N2\n",
    "print('N1 - S - O1:',Chem.rdMolTransforms.GetAngleDeg(opt2_sage220_conf,n1,s,o1)) # N1 - S - O1\n",
    "print('N2 - S - O1:',Chem.rdMolTransforms.GetAngleDeg(opt2_sage220_conf,n2,s,o1)) # N1 - S - O1\n",
    "print('N1 - S - O2:',Chem.rdMolTransforms.GetAngleDeg(opt2_sage220_conf,n1,s,o2)) # N1 - S - O2\n",
    "print('O1 - S - O2:',Chem.rdMolTransforms.GetAngleDeg(opt2_sage220_conf,o1,s,o2)) # O1 - S - O2"
   ]
  },
  {
   "cell_type": "code",
   "execution_count": 51,
   "metadata": {},
   "outputs": [
    {
     "name": "stdout",
     "output_type": "stream",
     "text": [
      "N1 - S - N2: 110.18676461051349\n",
      "N1 - S - O1: 105.13824314962861\n",
      "N2 - S - O1: 105.5516174522408\n",
      "N1 - S - O2: 106.29636623563432\n",
      "O1 - S - O2: 124.68928935675294\n"
     ]
    }
   ],
   "source": [
    "print('N1 - S - N2:',Chem.rdMolTransforms.GetAngleDeg(qm_conf2,n1,s,n2)) # N1 - S - N2\n",
    "print('N1 - S - O1:',Chem.rdMolTransforms.GetAngleDeg(qm_conf2,n1,s,o1)) # N1 - S - O1\n",
    "print('N2 - S - O1:',Chem.rdMolTransforms.GetAngleDeg(qm_conf2,n2,s,o1)) # N1 - S - O1\n",
    "print('N1 - S - O2:',Chem.rdMolTransforms.GetAngleDeg(qm_conf2,n1,s,o2)) # N1 - S - O2\n",
    "print('O1 - S - O2:',Chem.rdMolTransforms.GetAngleDeg(qm_conf2,o1,s,o2)) # O1 - S - O2"
   ]
  },
  {
   "cell_type": "code",
   "execution_count": null,
   "metadata": {},
   "outputs": [],
   "source": []
  }
 ],
 "metadata": {
  "kernelspec": {
   "display_name": "Python 3 (ipykernel)",
   "language": "python",
   "name": "python3"
  },
  "language_info": {
   "codemirror_mode": {
    "name": "ipython",
    "version": 3
   },
   "file_extension": ".py",
   "mimetype": "text/x-python",
   "name": "python",
   "nbconvert_exporter": "python",
   "pygments_lexer": "ipython3",
   "version": "3.10.12"
  }
 },
 "nbformat": 4,
 "nbformat_minor": 4
}
