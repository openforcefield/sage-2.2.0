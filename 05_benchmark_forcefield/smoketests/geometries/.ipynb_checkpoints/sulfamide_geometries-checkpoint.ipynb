{
 "cells": [
  {
   "cell_type": "markdown",
   "metadata": {},
   "source": [
    "# Examining problematic sulfamide geometries"
   ]
  },
  {
   "cell_type": "code",
   "execution_count": 3,
   "metadata": {},
   "outputs": [],
   "source": [
    "from openff.toolkit.topology import Molecule, Topology\n",
    "from openff.toolkit.typing.engines.smirnoff import ForceField\n",
    "from openff.units import unit\n",
    "\n",
    "from openff.interchange import Interchange\n",
    "from openff.interchange.drivers import get_gromacs_energies, get_openmm_energies\n",
    "import multiprocessing\n",
    "import tqdm\n",
    "import numpy as np\n",
    "import sys\n",
    "import openmm\n",
    "from openff.units.openmm import from_openmm\n",
    "import os\n",
    "# suppress stereochemistry warnings\n",
    "import logging\n",
    "from rdkit import Chem\n",
    "import itertools\n",
    "\n",
    "from openff.qcsubmit.results import TorsionDriveResultCollection, OptimizationResultCollection\n",
    "import logging\n",
    "logging.getLogger(\"openff\").setLevel(logging.ERROR)\n",
    "\n",
    "from openff.qcsubmit.results.filters import SMARTSFilter"
   ]
  },
  {
   "cell_type": "code",
   "execution_count": 4,
   "metadata": {},
   "outputs": [],
   "source": [
    "def minimize_energy(mol,ff):\n",
    "    topo = mol.to_topology()\n",
    "    interchange = Interchange.from_smirnoff(force_field=ff, topology=topo,allow_nonintegral_charges=True)#,charge_from_molecules=[mol]) #,charge_from_molecules=[mol])\n",
    "    integrator = openmm.VerletIntegrator(1 * openmm.unit.femtoseconds)\n",
    "    simulation = interchange.to_openmm_simulation(integrator)\n",
    "\n",
    "    # We'll store energies in two lists\n",
    "    initial_energies = []\n",
    "    minimized_energies = []\n",
    "\n",
    "    # And minimized conformers in a second molecule\n",
    "    minimized_molecule = Molecule.from_topology(topo)\n",
    "    minimized_molecule.conformers.clear()\n",
    "\n",
    "    conformer = mol.conformers[0]\n",
    "    # Tell the OpenMM Simulation the positions of this conformer\n",
    "    simulation.context.setPositions(conformer.to_openmm())\n",
    "\n",
    "    # Keep a record of the initial energy\n",
    "    initial_energies.append(\n",
    "        simulation.context.getState(getEnergy=True).getPotentialEnergy()\n",
    "    )\n",
    "\n",
    "    # Perform the minimization\n",
    "    simulation.minimizeEnergy()#tolerance=Quantity(value=0.0026255, unit=kilojoule/mole))#tolerance=5e-9)\n",
    "\n",
    "    # Record minimized energy and positions\n",
    "    min_state = simulation.context.getState(getEnergy=True, getPositions=True)\n",
    "\n",
    "    minimized_energies.append(min_state.getPotentialEnergy())\n",
    "    minimized_molecule.add_conformer(from_openmm(min_state.getPositions()))\n",
    "    return initial_energies,minimized_energies,minimized_molecule\n"
   ]
  },
  {
   "cell_type": "markdown",
   "metadata": {},
   "source": [
    "# Finding test molecules from benchmarking dataset\n",
    "Filter for N-S(=O)(=O)-N"
   ]
  },
  {
   "cell_type": "code",
   "execution_count": 27,
   "metadata": {},
   "outputs": [],
   "source": [
    "industry_benchmark = OptimizationResultCollection.parse_file('../../datasets/filtered-industry.json')"
   ]
  },
  {
   "cell_type": "code",
   "execution_count": 28,
   "metadata": {},
   "outputs": [],
   "source": [
    "industry_benchmark_filter = industry_benchmark.filter(SMARTSFilter(smarts_to_include=['[#7]~[#16X4:1](=[#8])(~[#7])=[#8]']))"
   ]
  },
  {
   "cell_type": "code",
   "execution_count": 29,
   "metadata": {},
   "outputs": [
    {
     "data": {
      "text/plain": [
       "127"
      ]
     },
     "execution_count": 29,
     "metadata": {},
     "output_type": "execute_result"
    }
   ],
   "source": [
    "industry_benchmark_filter.n_results"
   ]
  },
  {
   "cell_type": "code",
   "execution_count": 30,
   "metadata": {},
   "outputs": [],
   "source": [
    "industry_benchmark_rm = industry_benchmark_filter.to_records()"
   ]
  },
  {
   "cell_type": "markdown",
   "metadata": {},
   "source": [
    "Choosing a few problem cases:"
   ]
  },
  {
   "cell_type": "markdown",
   "metadata": {
    "jp-MarkdownHeadingCollapsed": true
   },
   "source": [
    "# Molecule 19, QCArchive ID 36971837\n",
    "Bad with Sage 2.0.0, fixed in 2.1 and 2.2\n",
    "\n",
    "Has many conformers--index 19-28. Some are distorted, some aren't"
   ]
  },
  {
   "cell_type": "code",
   "execution_count": 58,
   "metadata": {},
   "outputs": [
    {
     "data": {
      "application/vnd.jupyter.widget-view+json": {
       "model_id": "ce0a5d7cc1044b008dd9193ec0a1d81b",
       "version_major": 2,
       "version_minor": 0
      },
      "text/plain": [
       "NGLWidget()"
      ]
     },
     "metadata": {},
     "output_type": "display_data"
    }
   ],
   "source": [
    "test_mol1 = industry_benchmark_rm[19][1]\n",
    "test_mol1"
   ]
  },
  {
   "cell_type": "code",
   "execution_count": 59,
   "metadata": {},
   "outputs": [],
   "source": [
    "test_mol1.to_file('qcaid_36971837.sdf',file_format='sdf')"
   ]
  },
  {
   "cell_type": "code",
   "execution_count": 83,
   "metadata": {},
   "outputs": [],
   "source": [
    "ie_sage200_qm1,me_sage200_qm1,min_mol_sage200_qm1 = minimize_energy(test_mol1,ForceField('openff_unconstrained-2.0.0.offxml'))"
   ]
  },
  {
   "cell_type": "code",
   "execution_count": 81,
   "metadata": {},
   "outputs": [],
   "source": [
    "ie_sage210_qm1,me_sage210_qm1,min_mol_sage210_qm1 = minimize_energy(test_mol1,ForceField('openff_unconstrained-2.1.0.offxml'))"
   ]
  },
  {
   "cell_type": "code",
   "execution_count": 37,
   "metadata": {},
   "outputs": [
    {
     "data": {
      "application/vnd.jupyter.widget-view+json": {
       "model_id": "047c8446d01a4830be2bd8cbb6afa64d",
       "version_major": 2,
       "version_minor": 0
      },
      "text/plain": [
       "NGLWidget()"
      ]
     },
     "metadata": {},
     "output_type": "display_data"
    }
   ],
   "source": [
    "min_mol_sage210_qm1"
   ]
  },
  {
   "cell_type": "code",
   "execution_count": 11,
   "metadata": {},
   "outputs": [
    {
     "ename": "SMIRNOFFVersionError",
     "evalue": "SMIRNOFF offxml file was written with version 0.4, but this version of ForceField only supports version 0.3 to version 0.3",
     "output_type": "error",
     "traceback": [
      "\u001b[0;31m---------------------------------------------------------------------------\u001b[0m",
      "\u001b[0;31mTypeError\u001b[0m                                 Traceback (most recent call last)",
      "File \u001b[0;32m~/miniconda3/envs/fb-195-tk-014-py310/lib/python3.10/site-packages/openff/toolkit/typing/engines/smirnoff/parameters.py:424\u001b[0m, in \u001b[0;36mParameterAttribute._call_converter\u001b[0;34m(self, value, instance)\u001b[0m\n\u001b[1;32m    422\u001b[0m \u001b[38;5;28;01mtry\u001b[39;00m:\n\u001b[1;32m    423\u001b[0m     \u001b[38;5;66;03m# Static function.\u001b[39;00m\n\u001b[0;32m--> 424\u001b[0m     \u001b[38;5;28;01mreturn\u001b[39;00m \u001b[38;5;28;43mself\u001b[39;49m\u001b[38;5;241;43m.\u001b[39;49m\u001b[43m_converter\u001b[49m\u001b[43m(\u001b[49m\u001b[43mvalue\u001b[49m\u001b[43m)\u001b[49m\n\u001b[1;32m    425\u001b[0m \u001b[38;5;28;01mexcept\u001b[39;00m \u001b[38;5;167;01mTypeError\u001b[39;00m:\n\u001b[1;32m    426\u001b[0m     \u001b[38;5;66;03m# Instance method.\u001b[39;00m\n",
      "\u001b[0;31mTypeError\u001b[0m: ParameterHandler.version() missing 2 required positional arguments: 'attr' and 'new_version'",
      "\nDuring handling of the above exception, another exception occurred:\n",
      "\u001b[0;31mSMIRNOFFVersionError\u001b[0m                      Traceback (most recent call last)",
      "Cell \u001b[0;32mIn[11], line 1\u001b[0m\n\u001b[0;32m----> 1\u001b[0m ie_sage220_qm,me_sage220_qm,min_mol_sage220_qm \u001b[38;5;241m=\u001b[39m minimize_energy(test_mol,\u001b[43mForceField\u001b[49m\u001b[43m(\u001b[49m\u001b[38;5;124;43m'\u001b[39;49m\u001b[38;5;124;43m../../../openff_unconstrained-2.2.0-rc1.offxml\u001b[39;49m\u001b[38;5;124;43m'\u001b[39;49m\u001b[43m,\u001b[49m\u001b[43mallow_cosmetic_attributes\u001b[49m\u001b[38;5;241;43m=\u001b[39;49m\u001b[38;5;28;43;01mTrue\u001b[39;49;00m\u001b[43m)\u001b[49m)\n",
      "File \u001b[0;32m~/miniconda3/envs/fb-195-tk-014-py310/lib/python3.10/site-packages/openff/toolkit/typing/engines/smirnoff/forcefield.py:333\u001b[0m, in \u001b[0;36mForceField.__init__\u001b[0;34m(self, aromaticity_model, parameter_handler_classes, parameter_io_handler_classes, disable_version_check, allow_cosmetic_attributes, load_plugins, *sources)\u001b[0m\n\u001b[1;32m    330\u001b[0m \u001b[38;5;28mself\u001b[39m\u001b[38;5;241m.\u001b[39m_register_parameter_io_handler_classes(parameter_io_handler_classes)\n\u001b[1;32m    332\u001b[0m \u001b[38;5;66;03m# Parse all sources containing SMIRNOFF parameter definitions\u001b[39;00m\n\u001b[0;32m--> 333\u001b[0m \u001b[38;5;28;43mself\u001b[39;49m\u001b[38;5;241;43m.\u001b[39;49m\u001b[43mparse_sources\u001b[49m\u001b[43m(\u001b[49m\u001b[43msources\u001b[49m\u001b[43m,\u001b[49m\u001b[43m \u001b[49m\u001b[43mallow_cosmetic_attributes\u001b[49m\u001b[38;5;241;43m=\u001b[39;49m\u001b[43mallow_cosmetic_attributes\u001b[49m\u001b[43m)\u001b[49m\n",
      "File \u001b[0;32m~/miniconda3/envs/fb-195-tk-014-py310/lib/python3.10/site-packages/openff/toolkit/typing/engines/smirnoff/forcefield.py:796\u001b[0m, in \u001b[0;36mForceField.parse_sources\u001b[0;34m(self, sources, allow_cosmetic_attributes)\u001b[0m\n\u001b[1;32m    794\u001b[0m \u001b[38;5;28;01mfor\u001b[39;00m source \u001b[38;5;129;01min\u001b[39;00m sources:\n\u001b[1;32m    795\u001b[0m     smirnoff_data \u001b[38;5;241m=\u001b[39m \u001b[38;5;28mself\u001b[39m\u001b[38;5;241m.\u001b[39mparse_smirnoff_from_source(source)\n\u001b[0;32m--> 796\u001b[0m     \u001b[38;5;28;43mself\u001b[39;49m\u001b[38;5;241;43m.\u001b[39;49m\u001b[43m_load_smirnoff_data\u001b[49m\u001b[43m(\u001b[49m\n\u001b[1;32m    797\u001b[0m \u001b[43m        \u001b[49m\u001b[43msmirnoff_data\u001b[49m\u001b[43m,\u001b[49m\u001b[43m \u001b[49m\u001b[43mallow_cosmetic_attributes\u001b[49m\u001b[38;5;241;43m=\u001b[39;49m\u001b[43mallow_cosmetic_attributes\u001b[49m\n\u001b[1;32m    798\u001b[0m \u001b[43m    \u001b[49m\u001b[43m)\u001b[49m\n",
      "File \u001b[0;32m~/miniconda3/envs/fb-195-tk-014-py310/lib/python3.10/site-packages/openff/toolkit/typing/engines/smirnoff/forcefield.py:957\u001b[0m, in \u001b[0;36mForceField._load_smirnoff_data\u001b[0;34m(self, smirnoff_data, allow_cosmetic_attributes)\u001b[0m\n\u001b[1;32m    953\u001b[0m     parameter_list_dict \u001b[38;5;241m=\u001b[39m {parameter_list_tagname: parameter_list_dict}\n\u001b[1;32m    955\u001b[0m \u001b[38;5;66;03m# Retrieve or create parameter handler, passing in section_dict to check for\u001b[39;00m\n\u001b[1;32m    956\u001b[0m \u001b[38;5;66;03m# compatibility if a handler for this parameter name already exists\u001b[39;00m\n\u001b[0;32m--> 957\u001b[0m handler \u001b[38;5;241m=\u001b[39m \u001b[38;5;28;43mself\u001b[39;49m\u001b[38;5;241;43m.\u001b[39;49m\u001b[43mget_parameter_handler\u001b[49m\u001b[43m(\u001b[49m\n\u001b[1;32m    958\u001b[0m \u001b[43m    \u001b[49m\u001b[43mparameter_name\u001b[49m\u001b[43m,\u001b[49m\n\u001b[1;32m    959\u001b[0m \u001b[43m    \u001b[49m\u001b[43msection_dict\u001b[49m\u001b[43m,\u001b[49m\n\u001b[1;32m    960\u001b[0m \u001b[43m    \u001b[49m\u001b[43mallow_cosmetic_attributes\u001b[49m\u001b[38;5;241;43m=\u001b[39;49m\u001b[43mallow_cosmetic_attributes\u001b[49m\u001b[43m,\u001b[49m\n\u001b[1;32m    961\u001b[0m \u001b[43m\u001b[49m\u001b[43m)\u001b[49m\n\u001b[1;32m    962\u001b[0m handler\u001b[38;5;241m.\u001b[39m_add_parameters(\n\u001b[1;32m    963\u001b[0m     parameter_list_dict, allow_cosmetic_attributes\u001b[38;5;241m=\u001b[39mallow_cosmetic_attributes\n\u001b[1;32m    964\u001b[0m )\n",
      "File \u001b[0;32m~/miniconda3/envs/fb-195-tk-014-py310/lib/python3.10/site-packages/openff/toolkit/typing/engines/smirnoff/forcefield.py:690\u001b[0m, in \u001b[0;36mForceField.get_parameter_handler\u001b[0;34m(self, tagname, handler_kwargs, allow_cosmetic_attributes)\u001b[0m\n\u001b[1;32m    686\u001b[0m     return_handler \u001b[38;5;241m=\u001b[39m old_handler\n\u001b[1;32m    687\u001b[0m \u001b[38;5;28;01melif\u001b[39;00m tagname \u001b[38;5;129;01min\u001b[39;00m \u001b[38;5;28mself\u001b[39m\u001b[38;5;241m.\u001b[39m_parameter_handler_classes:\n\u001b[1;32m    688\u001b[0m     \u001b[38;5;66;03m# Otherwise, register this handler in the force field\u001b[39;00m\n\u001b[1;32m    689\u001b[0m     \u001b[38;5;66;03m# Initialize a new instance of this parameter handler class with the given kwargs\u001b[39;00m\n\u001b[0;32m--> 690\u001b[0m     new_handler \u001b[38;5;241m=\u001b[39m \u001b[43mph_class\u001b[49m\u001b[43m(\u001b[49m\n\u001b[1;32m    691\u001b[0m \u001b[43m        \u001b[49m\u001b[38;5;241;43m*\u001b[39;49m\u001b[38;5;241;43m*\u001b[39;49m\u001b[43mhandler_kwargs\u001b[49m\u001b[43m,\u001b[49m\n\u001b[1;32m    692\u001b[0m \u001b[43m        \u001b[49m\u001b[43mallow_cosmetic_attributes\u001b[49m\u001b[38;5;241;43m=\u001b[39;49m\u001b[43mallow_cosmetic_attributes\u001b[49m\u001b[43m,\u001b[49m\n\u001b[1;32m    693\u001b[0m \u001b[43m        \u001b[49m\u001b[43mskip_version_check\u001b[49m\u001b[38;5;241;43m=\u001b[39;49m\u001b[43mskip_version_check\u001b[49m\u001b[43m,\u001b[49m\n\u001b[1;32m    694\u001b[0m \u001b[43m    \u001b[49m\u001b[43m)\u001b[49m\n\u001b[1;32m    695\u001b[0m     \u001b[38;5;28mself\u001b[39m\u001b[38;5;241m.\u001b[39mregister_parameter_handler(new_handler)\n\u001b[1;32m    696\u001b[0m     return_handler \u001b[38;5;241m=\u001b[39m new_handler\n",
      "File \u001b[0;32m~/miniconda3/envs/fb-195-tk-014-py310/lib/python3.10/site-packages/openff/toolkit/typing/engines/smirnoff/parameters.py:1861\u001b[0m, in \u001b[0;36mParameterHandler.__init__\u001b[0;34m(self, allow_cosmetic_attributes, skip_version_check, **kwargs)\u001b[0m\n\u001b[1;32m   1858\u001b[0m \u001b[38;5;28mself\u001b[39m\u001b[38;5;241m.\u001b[39m_parameters \u001b[38;5;241m=\u001b[39m ParameterList()\n\u001b[1;32m   1860\u001b[0m \u001b[38;5;66;03m# Initialize ParameterAttributes and cosmetic attributes.\u001b[39;00m\n\u001b[0;32m-> 1861\u001b[0m \u001b[38;5;28;43msuper\u001b[39;49m\u001b[43m(\u001b[49m\u001b[43m)\u001b[49m\u001b[38;5;241;43m.\u001b[39;49m\u001b[38;5;21;43m__init__\u001b[39;49m\u001b[43m(\u001b[49m\u001b[43mallow_cosmetic_attributes\u001b[49m\u001b[38;5;241;43m=\u001b[39;49m\u001b[43mallow_cosmetic_attributes\u001b[49m\u001b[43m,\u001b[49m\u001b[43m \u001b[49m\u001b[38;5;241;43m*\u001b[39;49m\u001b[38;5;241;43m*\u001b[39;49m\u001b[43mkwargs\u001b[49m\u001b[43m)\u001b[49m\n",
      "File \u001b[0;32m~/miniconda3/envs/fb-195-tk-014-py310/lib/python3.10/site-packages/openff/toolkit/typing/engines/smirnoff/parameters.py:854\u001b[0m, in \u001b[0;36m_ParameterAttributeHandler.__init__\u001b[0;34m(self, allow_cosmetic_attributes, **kwargs)\u001b[0m\n\u001b[1;32m    852\u001b[0m \u001b[38;5;28;01mfor\u001b[39;00m key, val \u001b[38;5;129;01min\u001b[39;00m smirnoff_data\u001b[38;5;241m.\u001b[39mitems():\n\u001b[1;32m    853\u001b[0m     \u001b[38;5;28;01mif\u001b[39;00m key \u001b[38;5;129;01min\u001b[39;00m allowed_attributes:\n\u001b[0;32m--> 854\u001b[0m         \u001b[38;5;28;43msetattr\u001b[39;49m\u001b[43m(\u001b[49m\u001b[38;5;28;43mself\u001b[39;49m\u001b[43m,\u001b[49m\u001b[43m \u001b[49m\u001b[43mkey\u001b[49m\u001b[43m,\u001b[49m\u001b[43m \u001b[49m\u001b[43mval\u001b[49m\u001b[43m)\u001b[49m\n\u001b[1;32m    855\u001b[0m     \u001b[38;5;66;03m# Handle all unknown kwargs as cosmetic so we can write them back out\u001b[39;00m\n\u001b[1;32m    856\u001b[0m     \u001b[38;5;28;01melif\u001b[39;00m allow_cosmetic_attributes:\n",
      "File \u001b[0;32m~/miniconda3/envs/fb-195-tk-014-py310/lib/python3.10/site-packages/openff/toolkit/typing/engines/smirnoff/parameters.py:1168\u001b[0m, in \u001b[0;36m_ParameterAttributeHandler.__setattr__\u001b[0;34m(self, key, value)\u001b[0m\n\u001b[1;32m   1163\u001b[0m         \u001b[38;5;28;01mraise\u001b[39;00m MissingIndexedAttributeError(\n\u001b[1;32m   1164\u001b[0m             \u001b[38;5;124mf\u001b[39m\u001b[38;5;124m\"\u001b[39m\u001b[38;5;124m'\u001b[39m\u001b[38;5;132;01m{\u001b[39;00mkey\u001b[38;5;132;01m}\u001b[39;00m\u001b[38;5;124m'\u001b[39m\u001b[38;5;124m is out of bounds for indexed attribute \u001b[39m\u001b[38;5;124m'\u001b[39m\u001b[38;5;132;01m{\u001b[39;00mattr_name\u001b[38;5;132;01m}\u001b[39;00m\u001b[38;5;124m'\u001b[39m\u001b[38;5;124m\"\u001b[39m\n\u001b[1;32m   1165\u001b[0m         )\n\u001b[1;32m   1167\u001b[0m \u001b[38;5;66;03m# Forward the request to the next class in the MRO.\u001b[39;00m\n\u001b[0;32m-> 1168\u001b[0m \u001b[38;5;28;43msuper\u001b[39;49m\u001b[43m(\u001b[49m\u001b[43m)\u001b[49m\u001b[38;5;241;43m.\u001b[39;49m\u001b[38;5;21;43m__setattr__\u001b[39;49m\u001b[43m(\u001b[49m\u001b[43mkey\u001b[49m\u001b[43m,\u001b[49m\u001b[43m \u001b[49m\u001b[43mvalue\u001b[49m\u001b[43m)\u001b[49m\n",
      "File \u001b[0;32m~/miniconda3/envs/fb-195-tk-014-py310/lib/python3.10/site-packages/openff/toolkit/typing/engines/smirnoff/parameters.py:373\u001b[0m, in \u001b[0;36mParameterAttribute.__set__\u001b[0;34m(self, instance, value)\u001b[0m\n\u001b[1;32m    371\u001b[0m \u001b[38;5;28;01mdef\u001b[39;00m \u001b[38;5;21m__set__\u001b[39m(\u001b[38;5;28mself\u001b[39m, instance, value):\n\u001b[1;32m    372\u001b[0m     \u001b[38;5;66;03m# Convert and validate the value.\u001b[39;00m\n\u001b[0;32m--> 373\u001b[0m     value \u001b[38;5;241m=\u001b[39m \u001b[38;5;28;43mself\u001b[39;49m\u001b[38;5;241;43m.\u001b[39;49m\u001b[43m_convert_and_validate\u001b[49m\u001b[43m(\u001b[49m\u001b[43minstance\u001b[49m\u001b[43m,\u001b[49m\u001b[43m \u001b[49m\u001b[43mvalue\u001b[49m\u001b[43m)\u001b[49m\n\u001b[1;32m    374\u001b[0m     \u001b[38;5;28msetattr\u001b[39m(instance, \u001b[38;5;28mself\u001b[39m\u001b[38;5;241m.\u001b[39m_name, value)\n",
      "File \u001b[0;32m~/miniconda3/envs/fb-195-tk-014-py310/lib/python3.10/site-packages/openff/toolkit/typing/engines/smirnoff/parameters.py:391\u001b[0m, in \u001b[0;36mParameterAttribute._convert_and_validate\u001b[0;34m(self, instance, value)\u001b[0m\n\u001b[1;32m    389\u001b[0m value \u001b[38;5;241m=\u001b[39m \u001b[38;5;28mself\u001b[39m\u001b[38;5;241m.\u001b[39m_validate_units(value)\n\u001b[1;32m    390\u001b[0m \u001b[38;5;66;03m# Call the custom converter before setting the value.\u001b[39;00m\n\u001b[0;32m--> 391\u001b[0m value \u001b[38;5;241m=\u001b[39m \u001b[38;5;28;43mself\u001b[39;49m\u001b[38;5;241;43m.\u001b[39;49m\u001b[43m_call_converter\u001b[49m\u001b[43m(\u001b[49m\u001b[43mvalue\u001b[49m\u001b[43m,\u001b[49m\u001b[43m \u001b[49m\u001b[43minstance\u001b[49m\u001b[43m)\u001b[49m\n\u001b[1;32m    392\u001b[0m \u001b[38;5;28;01mreturn\u001b[39;00m value\n",
      "File \u001b[0;32m~/miniconda3/envs/fb-195-tk-014-py310/lib/python3.10/site-packages/openff/toolkit/typing/engines/smirnoff/parameters.py:427\u001b[0m, in \u001b[0;36mParameterAttribute._call_converter\u001b[0;34m(self, value, instance)\u001b[0m\n\u001b[1;32m    424\u001b[0m         \u001b[38;5;28;01mreturn\u001b[39;00m \u001b[38;5;28mself\u001b[39m\u001b[38;5;241m.\u001b[39m_converter(value)\n\u001b[1;32m    425\u001b[0m     \u001b[38;5;28;01mexcept\u001b[39;00m \u001b[38;5;167;01mTypeError\u001b[39;00m:\n\u001b[1;32m    426\u001b[0m         \u001b[38;5;66;03m# Instance method.\u001b[39;00m\n\u001b[0;32m--> 427\u001b[0m         \u001b[38;5;28;01mreturn\u001b[39;00m \u001b[38;5;28;43mself\u001b[39;49m\u001b[38;5;241;43m.\u001b[39;49m\u001b[43m_converter\u001b[49m\u001b[43m(\u001b[49m\u001b[43minstance\u001b[49m\u001b[43m,\u001b[49m\u001b[43m \u001b[49m\u001b[38;5;28;43mself\u001b[39;49m\u001b[43m,\u001b[49m\u001b[43m \u001b[49m\u001b[43mvalue\u001b[49m\u001b[43m)\u001b[49m\n\u001b[1;32m    428\u001b[0m \u001b[38;5;28;01mreturn\u001b[39;00m value\n",
      "File \u001b[0;32m~/miniconda3/envs/fb-195-tk-014-py310/lib/python3.10/site-packages/openff/toolkit/typing/engines/smirnoff/parameters.py:1822\u001b[0m, in \u001b[0;36mParameterHandler.version\u001b[0;34m(self, attr, new_version)\u001b[0m\n\u001b[1;32m   1818\u001b[0m \u001b[38;5;66;03m# Use PEP-440 compliant version number comparison, if requested\u001b[39;00m\n\u001b[1;32m   1819\u001b[0m \u001b[38;5;28;01mif\u001b[39;00m (new_version \u001b[38;5;241m>\u001b[39m \u001b[38;5;28mself\u001b[39m\u001b[38;5;241m.\u001b[39m_MAX_SUPPORTED_SECTION_VERSION) \u001b[38;5;129;01mor\u001b[39;00m (\n\u001b[1;32m   1820\u001b[0m     new_version \u001b[38;5;241m<\u001b[39m \u001b[38;5;28mself\u001b[39m\u001b[38;5;241m.\u001b[39m_MIN_SUPPORTED_SECTION_VERSION\n\u001b[1;32m   1821\u001b[0m ):\n\u001b[0;32m-> 1822\u001b[0m     \u001b[38;5;28;01mraise\u001b[39;00m SMIRNOFFVersionError(\n\u001b[1;32m   1823\u001b[0m         \u001b[38;5;124mf\u001b[39m\u001b[38;5;124m\"\u001b[39m\u001b[38;5;124mSMIRNOFF offxml file was written with version \u001b[39m\u001b[38;5;132;01m{\u001b[39;00mnew_version\u001b[38;5;132;01m}\u001b[39;00m\u001b[38;5;124m, but this version \u001b[39m\u001b[38;5;124m\"\u001b[39m\n\u001b[1;32m   1824\u001b[0m         \u001b[38;5;124mf\u001b[39m\u001b[38;5;124m\"\u001b[39m\u001b[38;5;124mof ForceField only supports version \u001b[39m\u001b[38;5;132;01m{\u001b[39;00m\u001b[38;5;28mself\u001b[39m\u001b[38;5;241m.\u001b[39m_MIN_SUPPORTED_SECTION_VERSION\u001b[38;5;132;01m}\u001b[39;00m\u001b[38;5;124m \u001b[39m\u001b[38;5;124m\"\u001b[39m\n\u001b[1;32m   1825\u001b[0m         \u001b[38;5;124mf\u001b[39m\u001b[38;5;124m\"\u001b[39m\u001b[38;5;124mto version \u001b[39m\u001b[38;5;132;01m{\u001b[39;00m\u001b[38;5;28mself\u001b[39m\u001b[38;5;241m.\u001b[39m_MAX_SUPPORTED_SECTION_VERSION\u001b[38;5;132;01m}\u001b[39;00m\u001b[38;5;124m\"\u001b[39m\n\u001b[1;32m   1826\u001b[0m     )\n\u001b[1;32m   1827\u001b[0m \u001b[38;5;28;01mreturn\u001b[39;00m new_version\n",
      "\u001b[0;31mSMIRNOFFVersionError\u001b[0m: SMIRNOFF offxml file was written with version 0.4, but this version of ForceField only supports version 0.3 to version 0.3"
     ]
    }
   ],
   "source": [
    "ie_sage220_qm1,me_sage220_qm1,min_mol_sage220_qm1 = minimize_energy(test_mol1,ForceField('../../../openff_unconstrained-2.2.0-rc1.offxml',allow_cosmetic_attributes=True))"
   ]
  },
  {
   "cell_type": "code",
   "execution_count": null,
   "metadata": {},
   "outputs": [],
   "source": [
    "min_mol_sage220_qm1.to_file('qcaid_36971837_optsage220.sdf',file_format='sdf')"
   ]
  },
  {
   "cell_type": "code",
   "execution_count": 84,
   "metadata": {},
   "outputs": [],
   "source": [
    "opt1_sage200 = min_mol_sage200_qm1.to_rdkit()\n",
    "opt1_sage200_conf = opt1_sage200.GetConformer()"
   ]
  },
  {
   "cell_type": "code",
   "execution_count": 115,
   "metadata": {},
   "outputs": [],
   "source": [
    "opt1_sage210 = min_mol_sage210_qm1.to_rdkit()\n",
    "opt1_sage210_conf = opt1_sage210.GetConformer()"
   ]
  },
  {
   "cell_type": "code",
   "execution_count": 98,
   "metadata": {},
   "outputs": [],
   "source": [
    "opt1_sage2201 = min_mol_sage220_qm1.to_rdkit()\n",
    "opt1_sage220_conf1 = opt1_sage2201.GetConformer()"
   ]
  },
  {
   "cell_type": "code",
   "execution_count": 86,
   "metadata": {},
   "outputs": [],
   "source": [
    "qm_rdkit1 = test_mol1.to_rdkit()\n",
    "qm_conf1 = qm_rdkit1.GetConformer()"
   ]
  },
  {
   "cell_type": "markdown",
   "metadata": {},
   "source": [
    "### Geometries"
   ]
  },
  {
   "cell_type": "code",
   "execution_count": 103,
   "metadata": {},
   "outputs": [],
   "source": [
    "atoms1=[a for a in opt1_sage200.GetAtoms()]"
   ]
  },
  {
   "cell_type": "code",
   "execution_count": 104,
   "metadata": {},
   "outputs": [],
   "source": [
    "atom_indices_s1 = [a.GetIdx() for a in atoms1 if a.GetSymbol() == 'S']"
   ]
  },
  {
   "cell_type": "code",
   "execution_count": 105,
   "metadata": {},
   "outputs": [],
   "source": [
    "atom_indices_n1 = [a.GetIdx() for a in atoms1 if a.GetSymbol()=='N']"
   ]
  },
  {
   "cell_type": "code",
   "execution_count": 106,
   "metadata": {},
   "outputs": [],
   "source": [
    "atom_indices_o1 = [a.GetIdx() for a in atoms1 if a.GetSymbol()=='O']"
   ]
  },
  {
   "cell_type": "code",
   "execution_count": 107,
   "metadata": {},
   "outputs": [
    {
     "name": "stdout",
     "output_type": "stream",
     "text": [
      "[12]\n",
      "[11, 13]\n",
      "[9, 10, 14, 15]\n"
     ]
    }
   ],
   "source": [
    "print(atom_indices_s1)\n",
    "print(atom_indices_n1)\n",
    "print(atom_indices_o1)"
   ]
  },
  {
   "cell_type": "code",
   "execution_count": 108,
   "metadata": {},
   "outputs": [],
   "source": [
    "s = atom_indices_s1[0]\n",
    "n1,n2 = atom_indices_n1\n",
    "o1,o2 = atom_indices_o1[2:]"
   ]
  },
  {
   "cell_type": "code",
   "execution_count": 109,
   "metadata": {},
   "outputs": [
    {
     "data": {
      "text/plain": [
       "1.6858125991881505"
      ]
     },
     "execution_count": 109,
     "metadata": {},
     "output_type": "execute_result"
    }
   ],
   "source": [
    "Chem.rdMolTransforms.GetBondLength(opt1_sage200_conf,s,n1) # N"
   ]
  },
  {
   "cell_type": "code",
   "execution_count": 110,
   "metadata": {},
   "outputs": [
    {
     "data": {
      "text/plain": [
       "1.6143896235614317"
      ]
     },
     "execution_count": 110,
     "metadata": {},
     "output_type": "execute_result"
    }
   ],
   "source": [
    "Chem.rdMolTransforms.GetBondLength(opt1_sage200_conf,s,n2) # N"
   ]
  },
  {
   "cell_type": "code",
   "execution_count": 111,
   "metadata": {},
   "outputs": [
    {
     "data": {
      "text/plain": [
       "1.4611665630603552"
      ]
     },
     "execution_count": 111,
     "metadata": {},
     "output_type": "execute_result"
    }
   ],
   "source": [
    "Chem.rdMolTransforms.GetBondLength(opt1_sage200_conf,s,o1) # O"
   ]
  },
  {
   "cell_type": "code",
   "execution_count": 112,
   "metadata": {},
   "outputs": [
    {
     "data": {
      "text/plain": [
       "1.4603584700742425"
      ]
     },
     "execution_count": 112,
     "metadata": {},
     "output_type": "execute_result"
    }
   ],
   "source": [
    "Chem.rdMolTransforms.GetBondLength(opt1_sage200_conf,s ,o2) # O"
   ]
  },
  {
   "cell_type": "code",
   "execution_count": 113,
   "metadata": {},
   "outputs": [
    {
     "name": "stdout",
     "output_type": "stream",
     "text": [
      "N1 - S - N2: 63.65323710936356\n",
      "N1 - S - O1: 113.4980009416476\n",
      "N1 - S - O2: 111.49228708584197\n",
      "O1 - S - O2: 116.1382885167425\n"
     ]
    }
   ],
   "source": [
    "print('N1 - S - N2:',Chem.rdMolTransforms.GetAngleDeg(opt1_sage200_conf,n1,s,n2)) # N1 - S - N2\n",
    "print('N1 - S - O1:',Chem.rdMolTransforms.GetAngleDeg(opt1_sage200_conf,n1,s,o1)) # N1 - S - O1\n",
    "print('N1 - S - O2:',Chem.rdMolTransforms.GetAngleDeg(opt1_sage200_conf,n1,s,o2)) # N1 - S - O2\n",
    "print('O1 - S - O2:',Chem.rdMolTransforms.GetAngleDeg(opt1_sage200_conf,o1,s,o2)) # O1 - S - O2\n"
   ]
  },
  {
   "cell_type": "code",
   "execution_count": 116,
   "metadata": {},
   "outputs": [
    {
     "name": "stdout",
     "output_type": "stream",
     "text": [
      "N1 - S - N2: 99.04030273853404\n",
      "N1 - S - O1: 116.53558483480286\n",
      "N1 - S - O2: 109.88737373039078\n",
      "O1 - S - O2: 122.847583750585\n"
     ]
    }
   ],
   "source": [
    "print('N1 - S - N2:',Chem.rdMolTransforms.GetAngleDeg(opt1_sage210_conf,n1,s,n2)) # N1 - S - N2\n",
    "print('N1 - S - O1:',Chem.rdMolTransforms.GetAngleDeg(opt1_sage210_conf,n1,s,o1)) # N1 - S - O1\n",
    "print('N1 - S - O2:',Chem.rdMolTransforms.GetAngleDeg(opt1_sage210_conf,n1,s,o2)) # N1 - S - O2\n",
    "print('O1 - S - O2:',Chem.rdMolTransforms.GetAngleDeg(opt1_sage210_conf,o1,s,o2)) # O1 - S - O2\n"
   ]
  },
  {
   "cell_type": "code",
   "execution_count": 113,
   "metadata": {},
   "outputs": [
    {
     "name": "stdout",
     "output_type": "stream",
     "text": [
      "N1 - S - N2: 98.6295657587462\n",
      "N1 - S - O1: 110.8884939172401\n",
      "N1 - S - O2: 106.29643366193774\n",
      "O1 - S - O2: 126.49877869241713\n"
     ]
    }
   ],
   "source": [
    "print('N1 - S - N2:',Chem.rdMolTransforms.GetAngleDeg(opt1_sage220_conf,n1,s,n2)) # N1 - S - N2\n",
    "print('N1 - S - O1:',Chem.rdMolTransforms.GetAngleDeg(opt1_sage220_conf,n1,s,o1)) # N1 - S - O1\n",
    "print('N1 - S - O2:',Chem.rdMolTransforms.GetAngleDeg(opt1_sage220_conf,n1,s,o2)) # N1 - S - O2\n",
    "print('O1 - S - O2:',Chem.rdMolTransforms.GetAngleDeg(opt1_sage220_conf,o1,s,o2)) # O1 - S - O2\n"
   ]
  },
  {
   "cell_type": "code",
   "execution_count": 118,
   "metadata": {},
   "outputs": [
    {
     "name": "stdout",
     "output_type": "stream",
     "text": [
      "N1 - S - N2: 99.06091893354295\n",
      "N1 - S - O1: 115.56927247567496\n",
      "N1 - S - O2: 107.47534085963663\n",
      "O1 - S - O2: 118.5913537187829\n"
     ]
    }
   ],
   "source": [
    "print('N1 - S - N2:',Chem.rdMolTransforms.GetAngleDeg(qm_conf1,n1,s,n2)) # N1 - S - N2\n",
    "print('N1 - S - O1:',Chem.rdMolTransforms.GetAngleDeg(qm_conf1,n1,s,o1)) # N1 - S - O1\n",
    "print('N1 - S - O2:',Chem.rdMolTransforms.GetAngleDeg(qm_conf1,n1,s,o2)) # N1 - S - O2\n",
    "print('O1 - S - O2:',Chem.rdMolTransforms.GetAngleDeg(qm_conf1,o1,s,o2)) # O1 - S - O2"
   ]
  },
  {
   "cell_type": "markdown",
   "metadata": {},
   "source": [
    "# Molecule 31, QCArchive ID 36972425\n",
    "\n",
    "Bad with Sage 2.0 and 2.1, fixed with 2.2\n",
    "\n",
    "Has many conformers--index 29-38. Some are distorted, some aren't"
   ]
  },
  {
   "cell_type": "code",
   "execution_count": 119,
   "metadata": {},
   "outputs": [
    {
     "data": {
      "application/vnd.jupyter.widget-view+json": {
       "model_id": "656576b164af42c3b5cc8f7b57d1150e",
       "version_major": 2,
       "version_minor": 0
      },
      "text/plain": [
       "NGLWidget()"
      ]
     },
     "metadata": {},
     "output_type": "display_data"
    }
   ],
   "source": [
    "test_mol2 = industry_benchmark_rm[31][1]\n",
    "test_mol2"
   ]
  },
  {
   "cell_type": "code",
   "execution_count": 55,
   "metadata": {},
   "outputs": [],
   "source": [
    "test_mol2.to_file('qcaid_36972425.sdf',file_format='sdf')"
   ]
  },
  {
   "cell_type": "code",
   "execution_count": 120,
   "metadata": {},
   "outputs": [
    {
     "data": {
      "application/vnd.jupyter.widget-view+json": {
       "model_id": "433844b0b5074129ad0965b5a5273cb1",
       "version_major": 2,
       "version_minor": 0
      },
      "text/plain": [
       "NGLWidget()"
      ]
     },
     "metadata": {},
     "output_type": "display_data"
    }
   ],
   "source": [
    "ie_sage200_qm2,me_sage200_qm,min_mol_sage200_qm2 = minimize_energy(test_mol2,ForceField('openff_unconstrained-2.0.0.offxml'))\n",
    "min_mol_sage200_qm2"
   ]
  },
  {
   "cell_type": "code",
   "execution_count": 121,
   "metadata": {},
   "outputs": [
    {
     "data": {
      "application/vnd.jupyter.widget-view+json": {
       "model_id": "74adb961d9d74bc1b7e7becc9f5ca60f",
       "version_major": 2,
       "version_minor": 0
      },
      "text/plain": [
       "NGLWidget()"
      ]
     },
     "metadata": {},
     "output_type": "display_data"
    }
   ],
   "source": [
    "ie_sage210_qm2,me_sage210_qm2,min_mol_sage210_qm2 = minimize_energy(test_mol2,ForceField('openff_unconstrained-2.1.0.offxml'))\n",
    "min_mol_sage210_qm2"
   ]
  },
  {
   "cell_type": "code",
   "execution_count": null,
   "metadata": {},
   "outputs": [],
   "source": [
    "min_mol_sage210_qm2.to_file('qcaid_36972425_optsage210.sdf',file_format='sdf')"
   ]
  },
  {
   "cell_type": "code",
   "execution_count": 122,
   "metadata": {},
   "outputs": [
    {
     "ename": "OSError",
     "evalue": "Source '../openff_unconstrained-2.2.0-rc1.offxml' could not be read. If this is a file, ensure that the path is correct.\nLooked in the following paths and found no files named '../openff_unconstrained-2.2.0-rc1.offxml':\n    /Users/lexiemcisaac/Documents/OpenFF/sage-2.2.0/05_benchmark_forcefield/smoketests/geometries\n    /Users/lexiemcisaac/miniconda3/envs/fb-195-tk-014-py310/lib/python3.10/site-packages/smirnoff99frosst/offxml\n    /Users/lexiemcisaac/miniconda3/envs/fb-195-tk-014-py310/lib/python3.10/site-packages/openforcefields/offxml\n    /Users/lexiemcisaac/miniconda3/envs/fb-195-tk-014-py310/lib/python3.10/site-packages/openff/amber_ff_ports/offxml\nIf '../openff_unconstrained-2.2.0-rc1.offxml' is present as a file, ensure it is in a known SMIRNOFF encoding.\nValid formats are: ['XML']\nParsing failed while trying to parse source as a file with the following exception and message:\n<class 'openff.toolkit.utils.exceptions.SMIRNOFFParseError'>\nnot well-formed (invalid token): line 1, column 2\n",
     "output_type": "error",
     "traceback": [
      "\u001b[0;31m---------------------------------------------------------------------------\u001b[0m",
      "\u001b[0;31mOSError\u001b[0m                                   Traceback (most recent call last)",
      "Cell \u001b[0;32mIn[122], line 1\u001b[0m\n\u001b[0;32m----> 1\u001b[0m ie_sage220_qm2,me_sage220_qm2,min_mol_sage220_qm2 \u001b[38;5;241m=\u001b[39m minimize_energy(test_mol2,\u001b[43mForceField\u001b[49m\u001b[43m(\u001b[49m\u001b[38;5;124;43m'\u001b[39;49m\u001b[38;5;124;43m../openff_unconstrained-2.2.0-rc1.offxml\u001b[39;49m\u001b[38;5;124;43m'\u001b[39;49m\u001b[43m,\u001b[49m\u001b[43mallow_cosmetic_attributes\u001b[49m\u001b[38;5;241;43m=\u001b[39;49m\u001b[38;5;28;43;01mTrue\u001b[39;49;00m\u001b[43m)\u001b[49m)\n\u001b[1;32m      2\u001b[0m min_mol_sage220_qm2\n",
      "File \u001b[0;32m~/miniconda3/envs/fb-195-tk-014-py310/lib/python3.10/site-packages/openff/toolkit/typing/engines/smirnoff/forcefield.py:333\u001b[0m, in \u001b[0;36mForceField.__init__\u001b[0;34m(self, aromaticity_model, parameter_handler_classes, parameter_io_handler_classes, disable_version_check, allow_cosmetic_attributes, load_plugins, *sources)\u001b[0m\n\u001b[1;32m    330\u001b[0m \u001b[38;5;28mself\u001b[39m\u001b[38;5;241m.\u001b[39m_register_parameter_io_handler_classes(parameter_io_handler_classes)\n\u001b[1;32m    332\u001b[0m \u001b[38;5;66;03m# Parse all sources containing SMIRNOFF parameter definitions\u001b[39;00m\n\u001b[0;32m--> 333\u001b[0m \u001b[38;5;28;43mself\u001b[39;49m\u001b[38;5;241;43m.\u001b[39;49m\u001b[43mparse_sources\u001b[49m\u001b[43m(\u001b[49m\u001b[43msources\u001b[49m\u001b[43m,\u001b[49m\u001b[43m \u001b[49m\u001b[43mallow_cosmetic_attributes\u001b[49m\u001b[38;5;241;43m=\u001b[39;49m\u001b[43mallow_cosmetic_attributes\u001b[49m\u001b[43m)\u001b[49m\n",
      "File \u001b[0;32m~/miniconda3/envs/fb-195-tk-014-py310/lib/python3.10/site-packages/openff/toolkit/typing/engines/smirnoff/forcefield.py:795\u001b[0m, in \u001b[0;36mForceField.parse_sources\u001b[0;34m(self, sources, allow_cosmetic_attributes)\u001b[0m\n\u001b[1;32m    793\u001b[0m \u001b[38;5;66;03m# TODO: If a non-first source fails here, the force field might be partially modified\u001b[39;00m\n\u001b[1;32m    794\u001b[0m \u001b[38;5;28;01mfor\u001b[39;00m source \u001b[38;5;129;01min\u001b[39;00m sources:\n\u001b[0;32m--> 795\u001b[0m     smirnoff_data \u001b[38;5;241m=\u001b[39m \u001b[38;5;28;43mself\u001b[39;49m\u001b[38;5;241;43m.\u001b[39;49m\u001b[43mparse_smirnoff_from_source\u001b[49m\u001b[43m(\u001b[49m\u001b[43msource\u001b[49m\u001b[43m)\u001b[49m\n\u001b[1;32m    796\u001b[0m     \u001b[38;5;28mself\u001b[39m\u001b[38;5;241m.\u001b[39m_load_smirnoff_data(\n\u001b[1;32m    797\u001b[0m         smirnoff_data, allow_cosmetic_attributes\u001b[38;5;241m=\u001b[39mallow_cosmetic_attributes\n\u001b[1;32m    798\u001b[0m     )\n",
      "File \u001b[0;32m~/miniconda3/envs/fb-195-tk-014-py310/lib/python3.10/site-packages/openff/toolkit/typing/engines/smirnoff/forcefield.py:1054\u001b[0m, in \u001b[0;36mForceField.parse_smirnoff_from_source\u001b[0;34m(self, source)\u001b[0m\n\u001b[1;32m   1047\u001b[0m \u001b[38;5;28;01melse\u001b[39;00m:\n\u001b[1;32m   1048\u001b[0m     msg \u001b[38;5;241m=\u001b[39m (\n\u001b[1;32m   1049\u001b[0m         \u001b[38;5;124mf\u001b[39m\u001b[38;5;124m\"\u001b[39m\u001b[38;5;124mSource \u001b[39m\u001b[38;5;124m'\u001b[39m\u001b[38;5;132;01m{\u001b[39;00msource\u001b[38;5;132;01m}\u001b[39;00m\u001b[38;5;124m'\u001b[39m\u001b[38;5;124m could not be read.\u001b[39m\u001b[38;5;130;01m\\n\u001b[39;00m\u001b[38;5;124m\"\u001b[39m\n\u001b[1;32m   1050\u001b[0m         \u001b[38;5;124mf\u001b[39m\u001b[38;5;124m\"\u001b[39m\u001b[38;5;124mParsing failed \u001b[39m\u001b[38;5;132;01m{\u001b[39;00mexception_context\u001b[38;5;132;01m}\u001b[39;00m\u001b[38;5;124m with the following exception and message:\u001b[39m\u001b[38;5;130;01m\\n\u001b[39;00m\u001b[38;5;124m\"\u001b[39m\n\u001b[1;32m   1051\u001b[0m         \u001b[38;5;124mf\u001b[39m\u001b[38;5;124m\"\u001b[39m\u001b[38;5;132;01m{\u001b[39;00mexception_type\u001b[38;5;132;01m}\u001b[39;00m\u001b[38;5;130;01m\\n\u001b[39;00m\u001b[38;5;132;01m{\u001b[39;00mexception_msg\u001b[38;5;132;01m}\u001b[39;00m\u001b[38;5;130;01m\\n\u001b[39;00m\u001b[38;5;124m\"\u001b[39m\n\u001b[1;32m   1052\u001b[0m     )\n\u001b[0;32m-> 1054\u001b[0m \u001b[38;5;28;01mraise\u001b[39;00m \u001b[38;5;167;01mIOError\u001b[39;00m(msg)\n",
      "\u001b[0;31mOSError\u001b[0m: Source '../openff_unconstrained-2.2.0-rc1.offxml' could not be read. If this is a file, ensure that the path is correct.\nLooked in the following paths and found no files named '../openff_unconstrained-2.2.0-rc1.offxml':\n    /Users/lexiemcisaac/Documents/OpenFF/sage-2.2.0/05_benchmark_forcefield/smoketests/geometries\n    /Users/lexiemcisaac/miniconda3/envs/fb-195-tk-014-py310/lib/python3.10/site-packages/smirnoff99frosst/offxml\n    /Users/lexiemcisaac/miniconda3/envs/fb-195-tk-014-py310/lib/python3.10/site-packages/openforcefields/offxml\n    /Users/lexiemcisaac/miniconda3/envs/fb-195-tk-014-py310/lib/python3.10/site-packages/openff/amber_ff_ports/offxml\nIf '../openff_unconstrained-2.2.0-rc1.offxml' is present as a file, ensure it is in a known SMIRNOFF encoding.\nValid formats are: ['XML']\nParsing failed while trying to parse source as a file with the following exception and message:\n<class 'openff.toolkit.utils.exceptions.SMIRNOFFParseError'>\nnot well-formed (invalid token): line 1, column 2\n"
     ]
    }
   ],
   "source": [
    "ie_sage220_qm2,me_sage220_qm2,min_mol_sage220_qm2 = minimize_energy(test_mol2,ForceField('../openff_unconstrained-2.2.0-rc1.offxml',allow_cosmetic_attributes=True))\n",
    "min_mol_sage220_qm2"
   ]
  },
  {
   "cell_type": "code",
   "execution_count": 142,
   "metadata": {},
   "outputs": [
    {
     "ename": "NameError",
     "evalue": "name 'min_mol_sage220_qm2' is not defined",
     "output_type": "error",
     "traceback": [
      "\u001b[0;31m---------------------------------------------------------------------------\u001b[0m",
      "\u001b[0;31mNameError\u001b[0m                                 Traceback (most recent call last)",
      "Cell \u001b[0;32mIn[142], line 1\u001b[0m\n\u001b[0;32m----> 1\u001b[0m \u001b[43mmin_mol_sage220_qm2\u001b[49m\u001b[38;5;241m.\u001b[39mto_file(\u001b[38;5;124m'\u001b[39m\u001b[38;5;124mqcaid_36972425_optsage220.sdf\u001b[39m\u001b[38;5;124m'\u001b[39m,file_format\u001b[38;5;241m=\u001b[39m\u001b[38;5;124m'\u001b[39m\u001b[38;5;124msdf\u001b[39m\u001b[38;5;124m'\u001b[39m)\n",
      "\u001b[0;31mNameError\u001b[0m: name 'min_mol_sage220_qm2' is not defined"
     ]
    }
   ],
   "source": [
    "min_mol_sage220_qm2.to_file('qcaid_36972425_optsage220.sdf',file_format='sdf')"
   ]
  },
  {
   "cell_type": "code",
   "execution_count": 123,
   "metadata": {},
   "outputs": [],
   "source": [
    "opt2_sage200 = min_mol_sage200_qm2.to_rdkit()\n",
    "opt2_sage200_conf = opt2_sage200.GetConformer()"
   ]
  },
  {
   "cell_type": "code",
   "execution_count": 124,
   "metadata": {},
   "outputs": [],
   "source": [
    "opt2_sage210 = min_mol_sage210_qm2.to_rdkit()\n",
    "opt2_sage210_conf = opt2_sage210.GetConformer()"
   ]
  },
  {
   "cell_type": "code",
   "execution_count": 125,
   "metadata": {},
   "outputs": [
    {
     "ename": "NameError",
     "evalue": "name 'min_mol_sage220_qm2' is not defined",
     "output_type": "error",
     "traceback": [
      "\u001b[0;31m---------------------------------------------------------------------------\u001b[0m",
      "\u001b[0;31mNameError\u001b[0m                                 Traceback (most recent call last)",
      "Cell \u001b[0;32mIn[125], line 1\u001b[0m\n\u001b[0;32m----> 1\u001b[0m opt2_sage220 \u001b[38;5;241m=\u001b[39m \u001b[43mmin_mol_sage220_qm2\u001b[49m\u001b[38;5;241m.\u001b[39mto_rdkit()\n\u001b[1;32m      2\u001b[0m opt2_sage220_conf \u001b[38;5;241m=\u001b[39m opt2_sage220\u001b[38;5;241m.\u001b[39mGetConformer()\n",
      "\u001b[0;31mNameError\u001b[0m: name 'min_mol_sage220_qm2' is not defined"
     ]
    }
   ],
   "source": [
    "opt2_sage220 = min_mol_sage220_qm2.to_rdkit()\n",
    "opt2_sage220_conf = opt2_sage220.GetConformer()"
   ]
  },
  {
   "cell_type": "code",
   "execution_count": 126,
   "metadata": {},
   "outputs": [],
   "source": [
    "qm_rdkit2 = test_mol2.to_rdkit()\n",
    "qm_conf2 = qm_rdkit2.GetConformer()"
   ]
  },
  {
   "cell_type": "markdown",
   "metadata": {},
   "source": [
    "### Geometries"
   ]
  },
  {
   "cell_type": "code",
   "execution_count": 127,
   "metadata": {},
   "outputs": [],
   "source": [
    "atoms2=[a for a in opt2_sage200.GetAtoms()]"
   ]
  },
  {
   "cell_type": "code",
   "execution_count": 128,
   "metadata": {},
   "outputs": [],
   "source": [
    "atom_indices_s2 = [a.GetIdx() for a in atoms2 if a.GetSymbol() == 'S']\n",
    "atom_indices_n2 = [a.GetIdx() for a in atoms2 if a.GetSymbol()=='N']\n",
    "atom_indices_o2 = [a.GetIdx() for a in atoms2 if a.GetSymbol()=='O']"
   ]
  },
  {
   "cell_type": "code",
   "execution_count": 129,
   "metadata": {},
   "outputs": [
    {
     "name": "stdout",
     "output_type": "stream",
     "text": [
      "[13]\n",
      "[12, 16]\n",
      "[4, 14, 15]\n"
     ]
    }
   ],
   "source": [
    "print(atom_indices_s2)\n",
    "print(atom_indices_n2)\n",
    "print(atom_indices_o2)"
   ]
  },
  {
   "cell_type": "code",
   "execution_count": 130,
   "metadata": {},
   "outputs": [],
   "source": [
    "s = atom_indices_s2[0]\n",
    "n1,n2 = atom_indices_n2\n",
    "o1,o2 = atom_indices_o2[1:]"
   ]
  },
  {
   "cell_type": "code",
   "execution_count": 133,
   "metadata": {},
   "outputs": [
    {
     "data": {
      "text/plain": [
       "1.664406087307898"
      ]
     },
     "execution_count": 133,
     "metadata": {},
     "output_type": "execute_result"
    }
   ],
   "source": [
    "Chem.rdMolTransforms.GetBondLength(opt2_sage200_conf,s,n1) # N"
   ]
  },
  {
   "cell_type": "code",
   "execution_count": 134,
   "metadata": {},
   "outputs": [
    {
     "data": {
      "text/plain": [
       "1.6150875494390728"
      ]
     },
     "execution_count": 134,
     "metadata": {},
     "output_type": "execute_result"
    }
   ],
   "source": [
    "Chem.rdMolTransforms.GetBondLength(opt_sage200_conf,s,n2) # N"
   ]
  },
  {
   "cell_type": "code",
   "execution_count": 135,
   "metadata": {},
   "outputs": [
    {
     "data": {
      "text/plain": [
       "1.4593389551419191"
      ]
     },
     "execution_count": 135,
     "metadata": {},
     "output_type": "execute_result"
    }
   ],
   "source": [
    "Chem.rdMolTransforms.GetBondLength(opt_sage200_conf,s,o1) # O"
   ]
  },
  {
   "cell_type": "code",
   "execution_count": 136,
   "metadata": {},
   "outputs": [
    {
     "data": {
      "text/plain": [
       "1.459846378032953"
      ]
     },
     "execution_count": 136,
     "metadata": {},
     "output_type": "execute_result"
    }
   ],
   "source": [
    "Chem.rdMolTransforms.GetBondLength(opt_sage200_conf,s ,o2) # O"
   ]
  },
  {
   "cell_type": "code",
   "execution_count": 140,
   "metadata": {},
   "outputs": [
    {
     "name": "stdout",
     "output_type": "stream",
     "text": [
      "N1 - S - N2: 72.06366852730983\n",
      "N1 - S - O1: 115.398775737142\n",
      "N2 - S - O1: 79.09778671006167\n",
      "N1 - S - O2: 114.21681632250134\n",
      "O1 - S - O2: 115.72121388946401\n"
     ]
    }
   ],
   "source": [
    "print('N1 - S - N2:',Chem.rdMolTransforms.GetAngleDeg(opt2_sage200_conf,n1,s,n2)) # N1 - S - N2\n",
    "print('N1 - S - O1:',Chem.rdMolTransforms.GetAngleDeg(opt2_sage200_conf,n1,s,o1)) # N1 - S - O1\n",
    "print('N2 - S - O1:',Chem.rdMolTransforms.GetAngleDeg(opt2_sage200_conf,n2,s,o1)) # N1 - S - O1\n",
    "print('N1 - S - O2:',Chem.rdMolTransforms.GetAngleDeg(opt2_sage200_conf,n1,s,o2)) # N1 - S - O2\n",
    "print('O1 - S - O2:',Chem.rdMolTransforms.GetAngleDeg(opt2_sage200_conf,o1,s,o2)) # O1 - S - O2\n"
   ]
  },
  {
   "cell_type": "code",
   "execution_count": 139,
   "metadata": {},
   "outputs": [
    {
     "name": "stdout",
     "output_type": "stream",
     "text": [
      "N1 - S - N2: 77.68898152261636\n",
      "N1 - S - O1: 115.23326503261987\n",
      "N2 - S - O1: 83.34531885524821\n",
      "N1 - S - O2: 114.56866015231661\n",
      "O1 - S - O2: 124.11314610672696\n"
     ]
    }
   ],
   "source": [
    "print('N1 - S - N2:',Chem.rdMolTransforms.GetAngleDeg(opt2_sage210_conf,n1,s,n2)) # N1 - S - N2\n",
    "print('N1 - S - O1:',Chem.rdMolTransforms.GetAngleDeg(opt2_sage210_conf,n1,s,o1)) # N1 - S - O1\n",
    "print('N2 - S - O1:',Chem.rdMolTransforms.GetAngleDeg(opt2_sage210_conf,n2,s,o1)) # N1 - S - O1\n",
    "print('N1 - S - O2:',Chem.rdMolTransforms.GetAngleDeg(opt2_sage210_conf,n1,s,o2)) # N1 - S - O2\n",
    "print('O1 - S - O2:',Chem.rdMolTransforms.GetAngleDeg(opt2_sage210_conf,o1,s,o2)) # O1 - S - O2\n",
    "\n"
   ]
  },
  {
   "cell_type": "code",
   "execution_count": 145,
   "metadata": {},
   "outputs": [
    {
     "name": "stdout",
     "output_type": "stream",
     "text": [
      "N1 - S - N2: 103.76514739652715\n",
      "N1 - S - O1: 108.1812044180299\n",
      "N2 - S - O1: 102.6655750814074\n",
      "N1 - S - O2: 110.54690867737314\n",
      "O1 - S - O2: 126.02534919206316\n"
     ]
    }
   ],
   "source": [
    "print('N1 - S - N2:',Chem.rdMolTransforms.GetAngleDeg(opt2_sage220_conf,n1,s,n2)) # N1 - S - N2\n",
    "print('N1 - S - O1:',Chem.rdMolTransforms.GetAngleDeg(opt2_sage220_conf,n1,s,o1)) # N1 - S - O1\n",
    "print('N2 - S - O1:',Chem.rdMolTransforms.GetAngleDeg(opt2_sage220_conf,n2,s,o1)) # N1 - S - O1\n",
    "print('N1 - S - O2:',Chem.rdMolTransforms.GetAngleDeg(opt2_sage220_conf,n1,s,o2)) # N1 - S - O2\n",
    "print('O1 - S - O2:',Chem.rdMolTransforms.GetAngleDeg(opt2_sage220_conf,o1,s,o2)) # O1 - S - O2"
   ]
  },
  {
   "cell_type": "code",
   "execution_count": 141,
   "metadata": {},
   "outputs": [
    {
     "name": "stdout",
     "output_type": "stream",
     "text": [
      "N1 - S - N2: 110.18558063170744\n",
      "N1 - S - O1: 105.1384028964732\n",
      "N2 - S - O1: 105.55263025075914\n",
      "N1 - S - O2: 106.2987878815681\n",
      "O1 - S - O2: 124.68885510205067\n"
     ]
    }
   ],
   "source": [
    "print('N1 - S - N2:',Chem.rdMolTransforms.GetAngleDeg(qm_conf2,n1,s,n2)) # N1 - S - N2\n",
    "print('N1 - S - O1:',Chem.rdMolTransforms.GetAngleDeg(qm_conf2,n1,s,o1)) # N1 - S - O1\n",
    "print('N2 - S - O1:',Chem.rdMolTransforms.GetAngleDeg(qm_conf2,n2,s,o1)) # N1 - S - O1\n",
    "print('N1 - S - O2:',Chem.rdMolTransforms.GetAngleDeg(qm_conf2,n1,s,o2)) # N1 - S - O2\n",
    "print('O1 - S - O2:',Chem.rdMolTransforms.GetAngleDeg(qm_conf2,o1,s,o2)) # O1 - S - O2"
   ]
  },
  {
   "cell_type": "code",
   "execution_count": null,
   "metadata": {},
   "outputs": [],
   "source": []
  }
 ],
 "metadata": {
  "kernelspec": {
   "display_name": "Python 3 (ipykernel)",
   "language": "python",
   "name": "python3"
  },
  "language_info": {
   "codemirror_mode": {
    "name": "ipython",
    "version": 3
   },
   "file_extension": ".py",
   "mimetype": "text/x-python",
   "name": "python",
   "nbconvert_exporter": "python",
   "pygments_lexer": "ipython3",
   "version": "3.10.12"
  }
 },
 "nbformat": 4,
 "nbformat_minor": 4
}
