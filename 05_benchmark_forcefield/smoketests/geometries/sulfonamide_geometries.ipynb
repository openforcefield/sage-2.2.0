{
 "cells": [
  {
   "cell_type": "markdown",
   "metadata": {},
   "source": [
    "# Examining problematic sulfonamide geometries"
   ]
  },
  {
   "cell_type": "code",
   "execution_count": 1,
   "metadata": {},
   "outputs": [
    {
     "data": {
      "application/vnd.jupyter.widget-view+json": {
       "model_id": "001249e53d6b44d2940360c28916e96a",
       "version_major": 2,
       "version_minor": 0
      },
      "text/plain": []
     },
     "metadata": {},
     "output_type": "display_data"
    }
   ],
   "source": [
    "from openff.toolkit.topology import Molecule, Topology\n",
    "from openff.toolkit.typing.engines.smirnoff import ForceField\n",
    "from openff.units import unit\n",
    "\n",
    "from openff.interchange import Interchange\n",
    "from openff.interchange.drivers import get_gromacs_energies, get_openmm_energies\n",
    "import multiprocessing\n",
    "import tqdm\n",
    "import numpy as np\n",
    "import sys\n",
    "import openmm\n",
    "from openff.units.openmm import from_openmm\n",
    "import os\n",
    "# suppress stereochemistry warnings\n",
    "import logging\n",
    "from rdkit import Chem\n",
    "import itertools\n",
    "\n",
    "from openff.qcsubmit.results import TorsionDriveResultCollection, OptimizationResultCollection\n",
    "import logging\n",
    "logging.getLogger(\"openff\").setLevel(logging.ERROR)\n",
    "\n",
    "from openff.qcsubmit.results.filters import SMARTSFilter\n",
    "\n",
    "from rdkit import Chem\n",
    "from rdkit.Chem import AllChem\n",
    "from rdkit.Chem import rdMolTransforms"
   ]
  },
  {
   "cell_type": "code",
   "execution_count": 2,
   "metadata": {},
   "outputs": [],
   "source": [
    "def minimize_energy(mol,ff):\n",
    "    topo = mol.to_topology()\n",
    "    interchange = Interchange.from_smirnoff(force_field=ff, topology=topo,allow_nonintegral_charges=True)#,charge_from_molecules=[mol]) #,charge_from_molecules=[mol])\n",
    "    integrator = openmm.VerletIntegrator(1 * openmm.unit.femtoseconds)\n",
    "    simulation = interchange.to_openmm_simulation(integrator)\n",
    "\n",
    "    # We'll store energies in two lists\n",
    "    initial_energies = []\n",
    "    minimized_energies = []\n",
    "\n",
    "    # And minimized conformers in a second molecule\n",
    "    minimized_molecule = Molecule.from_topology(topo)\n",
    "    minimized_molecule.conformers.clear()\n",
    "\n",
    "    conformer = mol.conformers[0]\n",
    "    # Tell the OpenMM Simulation the positions of this conformer\n",
    "    simulation.context.setPositions(conformer.to_openmm())\n",
    "\n",
    "    # Keep a record of the initial energy\n",
    "    initial_energies.append(\n",
    "        simulation.context.getState(getEnergy=True).getPotentialEnergy()\n",
    "    )\n",
    "\n",
    "    # Perform the minimization\n",
    "    simulation.minimizeEnergy()#tolerance=Quantity(value=0.0026255, unit=kilojoule/mole))#tolerance=5e-9)\n",
    "\n",
    "    # Record minimized energy and positions\n",
    "    min_state = simulation.context.getState(getEnergy=True, getPositions=True)\n",
    "\n",
    "    minimized_energies.append(min_state.getPotentialEnergy())\n",
    "    minimized_molecule.add_conformer(from_openmm(min_state.getPositions()))\n",
    "    return initial_energies,minimized_energies,minimized_molecule\n"
   ]
  },
  {
   "cell_type": "markdown",
   "metadata": {},
   "source": [
    "# Finding test molecules from benchmarking dataset\n",
    "Filter for N-S(=O)(=O)-R (where R != N)"
   ]
  },
  {
   "cell_type": "code",
   "execution_count": 8,
   "metadata": {},
   "outputs": [],
   "source": [
    "industry_benchmark = OptimizationResultCollection.parse_file('../../datasets/filtered-industry.json')"
   ]
  },
  {
   "cell_type": "code",
   "execution_count": 51,
   "metadata": {},
   "outputs": [],
   "source": [
    "industry_benchmark_filter = industry_benchmark.filter(SMARTSFilter(smarts_to_include=['[#7]~[#16X4:1](=[#8])(-[#8])=[#8]']))"
   ]
  },
  {
   "cell_type": "code",
   "execution_count": 52,
   "metadata": {},
   "outputs": [
    {
     "data": {
      "text/plain": [
       "88"
      ]
     },
     "execution_count": 52,
     "metadata": {},
     "output_type": "execute_result"
    }
   ],
   "source": [
    "industry_benchmark_filter.n_results"
   ]
  },
  {
   "cell_type": "code",
   "execution_count": 53,
   "metadata": {},
   "outputs": [],
   "source": [
    "industry_benchmark_rm = industry_benchmark_filter.to_records()"
   ]
  },
  {
   "cell_type": "markdown",
   "metadata": {},
   "source": [
    "Choosing a few problem cases:"
   ]
  },
  {
   "cell_type": "markdown",
   "metadata": {
    "jp-MarkdownHeadingCollapsed": true
   },
   "source": [
    "# Molecule 38, QCArchive ID 36973709\n",
    "Bad with Sage 2.0.0 and 2.1, fixed in 2.2"
   ]
  },
  {
   "cell_type": "code",
   "execution_count": 72,
   "metadata": {},
   "outputs": [
    {
     "data": {
      "application/vnd.jupyter.widget-view+json": {
       "model_id": "e4c08ca5cb79482d97a5922fcdc03256",
       "version_major": 2,
       "version_minor": 0
      },
      "text/plain": [
       "NGLWidget()"
      ]
     },
     "metadata": {},
     "output_type": "display_data"
    }
   ],
   "source": [
    "# test_mol1 = industry_benchmark_rm[28][1]\n",
    "# test_mol1"
   ]
  },
  {
   "cell_type": "code",
   "execution_count": 73,
   "metadata": {},
   "outputs": [],
   "source": [
    "# test_mol1.to_file('qcaid_36973709.sdf',file_format='sdf')"
   ]
  },
  {
   "cell_type": "code",
   "execution_count": 3,
   "metadata": {},
   "outputs": [
    {
     "data": {
      "application/vnd.jupyter.widget-view+json": {
       "model_id": "f9c7225f0f204d7aa592c8bee926c6a0",
       "version_major": 2,
       "version_minor": 0
      },
      "text/plain": [
       "NGLWidget()"
      ]
     },
     "metadata": {},
     "output_type": "display_data"
    }
   ],
   "source": [
    "test_mol1 = Molecule.from_file('qcaid_36973709.sdf')\n",
    "test_mol1"
   ]
  },
  {
   "cell_type": "code",
   "execution_count": 4,
   "metadata": {},
   "outputs": [],
   "source": [
    "ie_sage200_qm1,me_sage200_qm1,min_mol_sage200_qm1 = minimize_energy(test_mol1,ForceField('openff_unconstrained-2.0.0.offxml'))"
   ]
  },
  {
   "cell_type": "code",
   "execution_count": 5,
   "metadata": {},
   "outputs": [
    {
     "data": {
      "application/vnd.jupyter.widget-view+json": {
       "model_id": "b218134d3d5d4a4ca13de9851a749530",
       "version_major": 2,
       "version_minor": 0
      },
      "text/plain": [
       "NGLWidget()"
      ]
     },
     "metadata": {},
     "output_type": "display_data"
    }
   ],
   "source": [
    "min_mol_sage200_qm1"
   ]
  },
  {
   "cell_type": "code",
   "execution_count": 6,
   "metadata": {},
   "outputs": [],
   "source": [
    "ie_sage210_qm1,me_sage210_qm1,min_mol_sage210_qm1 = minimize_energy(test_mol1,ForceField('openff_unconstrained-2.1.0.offxml'))"
   ]
  },
  {
   "cell_type": "code",
   "execution_count": 7,
   "metadata": {},
   "outputs": [
    {
     "data": {
      "application/vnd.jupyter.widget-view+json": {
       "model_id": "fb553cc3f67d48429228bfa5e90327c5",
       "version_major": 2,
       "version_minor": 0
      },
      "text/plain": [
       "NGLWidget()"
      ]
     },
     "metadata": {},
     "output_type": "display_data"
    }
   ],
   "source": [
    "min_mol_sage210_qm1"
   ]
  },
  {
   "cell_type": "code",
   "execution_count": 8,
   "metadata": {},
   "outputs": [],
   "source": [
    "ie_sage220_qm1,me_sage220_qm1,min_mol_sage220_qm1 = minimize_energy(test_mol1,ForceField('../../../openff_unconstrained-2.2.0-rc1.offxml',allow_cosmetic_attributes=True))"
   ]
  },
  {
   "cell_type": "code",
   "execution_count": 9,
   "metadata": {},
   "outputs": [
    {
     "data": {
      "application/vnd.jupyter.widget-view+json": {
       "model_id": "bef698860d884d15857c81bde8966cdd",
       "version_major": 2,
       "version_minor": 0
      },
      "text/plain": [
       "NGLWidget()"
      ]
     },
     "metadata": {},
     "output_type": "display_data"
    }
   ],
   "source": [
    "min_mol_sage220_qm1"
   ]
  },
  {
   "cell_type": "code",
   "execution_count": 10,
   "metadata": {},
   "outputs": [],
   "source": [
    "min_mol_sage220_qm1.to_file('qcaid_36973709_optsage220.sdf',file_format='sdf')"
   ]
  },
  {
   "cell_type": "code",
   "execution_count": 11,
   "metadata": {},
   "outputs": [],
   "source": [
    "opt1_sage200 = min_mol_sage200_qm1.to_rdkit()\n",
    "opt1_sage200_conf = opt1_sage200.GetConformer()"
   ]
  },
  {
   "cell_type": "code",
   "execution_count": 12,
   "metadata": {},
   "outputs": [],
   "source": [
    "opt1_sage210 = min_mol_sage210_qm1.to_rdkit()\n",
    "opt1_sage210_conf = opt1_sage210.GetConformer()"
   ]
  },
  {
   "cell_type": "code",
   "execution_count": 30,
   "metadata": {},
   "outputs": [],
   "source": [
    "opt1_sage220 = min_mol_sage220_qm1.to_rdkit()\n",
    "opt1_sage220_conf = opt1_sage220.GetConformer()"
   ]
  },
  {
   "cell_type": "code",
   "execution_count": 14,
   "metadata": {},
   "outputs": [],
   "source": [
    "qm_rdkit1 = test_mol1.to_rdkit()\n",
    "qm_conf1 = qm_rdkit1.GetConformer()"
   ]
  },
  {
   "cell_type": "markdown",
   "metadata": {},
   "source": [
    "### Geometries"
   ]
  },
  {
   "cell_type": "code",
   "execution_count": 15,
   "metadata": {},
   "outputs": [],
   "source": [
    "atoms1=[a for a in opt1_sage200.GetAtoms()]"
   ]
  },
  {
   "cell_type": "code",
   "execution_count": 16,
   "metadata": {},
   "outputs": [],
   "source": [
    "atom_indices_s1 = [a.GetIdx() for a in atoms1 if a.GetSymbol() == 'S']"
   ]
  },
  {
   "cell_type": "code",
   "execution_count": 17,
   "metadata": {},
   "outputs": [],
   "source": [
    "atom_indices_n1 = [a.GetIdx() for a in atoms1 if a.GetSymbol()=='N']"
   ]
  },
  {
   "cell_type": "code",
   "execution_count": 18,
   "metadata": {},
   "outputs": [],
   "source": [
    "atom_indices_o1 = [a.GetIdx() for a in atoms1 if a.GetSymbol()=='O']"
   ]
  },
  {
   "cell_type": "code",
   "execution_count": 19,
   "metadata": {},
   "outputs": [
    {
     "name": "stdout",
     "output_type": "stream",
     "text": [
      "[18]\n",
      "[21]\n",
      "[3, 4, 7, 11, 14, 17, 19, 20]\n"
     ]
    }
   ],
   "source": [
    "print(atom_indices_s1)\n",
    "print(atom_indices_n1)\n",
    "print(atom_indices_o1)"
   ]
  },
  {
   "cell_type": "code",
   "execution_count": 20,
   "metadata": {},
   "outputs": [],
   "source": [
    "s = atom_indices_s1[0]\n",
    "n1 = atom_indices_n1[0]\n",
    "o1,o2,o3 = atom_indices_o1[5:]"
   ]
  },
  {
   "cell_type": "code",
   "execution_count": 21,
   "metadata": {},
   "outputs": [
    {
     "data": {
      "text/plain": [
       "1.6251460038597085"
      ]
     },
     "execution_count": 21,
     "metadata": {},
     "output_type": "execute_result"
    }
   ],
   "source": [
    "Chem.rdMolTransforms.GetBondLength(opt1_sage200_conf,s,n1) # N"
   ]
  },
  {
   "cell_type": "code",
   "execution_count": 22,
   "metadata": {},
   "outputs": [
    {
     "data": {
      "text/plain": [
       "1.461543281478046"
      ]
     },
     "execution_count": 22,
     "metadata": {},
     "output_type": "execute_result"
    }
   ],
   "source": [
    "Chem.rdMolTransforms.GetBondLength(opt1_sage200_conf,s,o3) # N"
   ]
  },
  {
   "cell_type": "code",
   "execution_count": 23,
   "metadata": {},
   "outputs": [
    {
     "data": {
      "text/plain": [
       "1.6600324911582192"
      ]
     },
     "execution_count": 23,
     "metadata": {},
     "output_type": "execute_result"
    }
   ],
   "source": [
    "Chem.rdMolTransforms.GetBondLength(opt1_sage200_conf,s,o1) # O"
   ]
  },
  {
   "cell_type": "code",
   "execution_count": 24,
   "metadata": {},
   "outputs": [
    {
     "data": {
      "text/plain": [
       "1.4651177968606206"
      ]
     },
     "execution_count": 24,
     "metadata": {},
     "output_type": "execute_result"
    }
   ],
   "source": [
    "Chem.rdMolTransforms.GetBondLength(opt1_sage200_conf,s ,o2) # O"
   ]
  },
  {
   "cell_type": "code",
   "execution_count": 25,
   "metadata": {},
   "outputs": [
    {
     "name": "stdout",
     "output_type": "stream",
     "text": [
      "N1 - S - N2: 98.72643446313526\n",
      "N1 - S - O1: 98.61532656209359\n",
      "N1 - S - O2: 99.11770120565771\n",
      "O1 - S - O2: 117.29281127704672\n"
     ]
    }
   ],
   "source": [
    "print('N1 - S - N2:',Chem.rdMolTransforms.GetAngleDeg(opt1_sage200_conf,n1,s,o3)) # N1 - S - N2\n",
    "print('N1 - S - O1:',Chem.rdMolTransforms.GetAngleDeg(opt1_sage200_conf,n1,s,o1)) # N1 - S - O1\n",
    "print('N1 - S - O2:',Chem.rdMolTransforms.GetAngleDeg(opt1_sage200_conf,n1,s,o2)) # N1 - S - O2\n",
    "print('O1 - S - O2:',Chem.rdMolTransforms.GetAngleDeg(opt1_sage200_conf,o1,s,o2)) # O1 - S - O2\n"
   ]
  },
  {
   "cell_type": "code",
   "execution_count": 26,
   "metadata": {},
   "outputs": [
    {
     "name": "stdout",
     "output_type": "stream",
     "text": [
      "N1 - S - N2: 87.66103608848968\n",
      "N1 - S - O1: 100.1410615790904\n",
      "N1 - S - O2: 89.15854398351553\n",
      "O1 - S - O2: 117.02802853954255\n"
     ]
    }
   ],
   "source": [
    "print('N1 - S - N2:',Chem.rdMolTransforms.GetAngleDeg(opt1_sage210_conf,n1,s,o3)) # N1 - S - N2\n",
    "print('N1 - S - O1:',Chem.rdMolTransforms.GetAngleDeg(opt1_sage210_conf,n1,s,o1)) # N1 - S - O1\n",
    "print('N1 - S - O2:',Chem.rdMolTransforms.GetAngleDeg(opt1_sage210_conf,n1,s,o2)) # N1 - S - O2\n",
    "print('O1 - S - O2:',Chem.rdMolTransforms.GetAngleDeg(opt1_sage210_conf,o1,s,o2)) # O1 - S - O2\n"
   ]
  },
  {
   "cell_type": "code",
   "execution_count": 31,
   "metadata": {},
   "outputs": [
    {
     "name": "stdout",
     "output_type": "stream",
     "text": [
      "N1 - S - N2: 99.28537645791587\n",
      "N1 - S - O1: 105.15074149609262\n",
      "N1 - S - O2: 101.6658123656726\n",
      "O1 - S - O2: 111.30402335350927\n"
     ]
    }
   ],
   "source": [
    "print('N1 - S - N2:',Chem.rdMolTransforms.GetAngleDeg(opt1_sage220_conf,n1,s,o3)) # N1 - S - N2\n",
    "print('N1 - S - O1:',Chem.rdMolTransforms.GetAngleDeg(opt1_sage220_conf,n1,s,o1)) # N1 - S - O1\n",
    "print('N1 - S - O2:',Chem.rdMolTransforms.GetAngleDeg(opt1_sage220_conf,n1,s,o2)) # N1 - S - O2\n",
    "print('O1 - S - O2:',Chem.rdMolTransforms.GetAngleDeg(opt1_sage220_conf,o1,s,o2)) # O1 - S - O2\n"
   ]
  },
  {
   "cell_type": "code",
   "execution_count": 95,
   "metadata": {},
   "outputs": [
    {
     "name": "stdout",
     "output_type": "stream",
     "text": [
      "N1 - S - N2: 106.32447550720543\n",
      "N1 - S - O1: 96.99188306450321\n",
      "N1 - S - O2: 111.58892836214494\n",
      "O1 - S - O2: 107.38049316326159\n"
     ]
    }
   ],
   "source": [
    "print('N1 - S - N2:',Chem.rdMolTransforms.GetAngleDeg(qm_conf1,n1,s,o3)) # N1 - S - N2\n",
    "print('N1 - S - O1:',Chem.rdMolTransforms.GetAngleDeg(qm_conf1,n1,s,o1)) # N1 - S - O1\n",
    "print('N1 - S - O2:',Chem.rdMolTransforms.GetAngleDeg(qm_conf1,n1,s,o2)) # N1 - S - O2\n",
    "print('O1 - S - O2:',Chem.rdMolTransforms.GetAngleDeg(qm_conf1,o1,s,o2)) # O1 - S - O2"
   ]
  }
 ],
 "metadata": {
  "kernelspec": {
   "display_name": "Python 3 (ipykernel)",
   "language": "python",
   "name": "python3"
  },
  "language_info": {
   "codemirror_mode": {
    "name": "ipython",
    "version": 3
   },
   "file_extension": ".py",
   "mimetype": "text/x-python",
   "name": "python",
   "nbconvert_exporter": "python",
   "pygments_lexer": "ipython3",
   "version": "3.10.12"
  }
 },
 "nbformat": 4,
 "nbformat_minor": 4
}
